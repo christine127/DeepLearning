{
  "nbformat": 4,
  "nbformat_minor": 5,
  "metadata": {
    "kernelspec": {
      "display_name": "Python 3",
      "language": "python",
      "name": "python3"
    },
    "language_info": {
      "codemirror_mode": {
        "name": "ipython",
        "version": 3
      },
      "file_extension": ".py",
      "mimetype": "text/x-python",
      "name": "python",
      "nbconvert_exporter": "python",
      "pygments_lexer": "ipython3",
      "version": "3.8.0"
    },
    "colab": {
      "name": "titanic_lkh(ML+DL).ipynb",
      "provenance": [],
      "toc_visible": true,
      "include_colab_link": true
    }
  },
  "cells": [
    {
      "cell_type": "markdown",
      "metadata": {
        "id": "view-in-github",
        "colab_type": "text"
      },
      "source": [
        "<a href=\"https://colab.research.google.com/github/christine127/DeepLearning/blob/main/titanic_lkh(ML%2BDL).ipynb\" target=\"_parent\"><img src=\"https://colab.research.google.com/assets/colab-badge.svg\" alt=\"Open In Colab\"/></a>"
      ]
    },
    {
      "cell_type": "markdown",
      "metadata": {
        "id": "distant-trial"
      },
      "source": [
        "\n",
        "# 1. Defining the problem statement\n",
        "Complete the analysis of what sorts of people were likely to survive.\n",
        "In particular, we ask you to apply the tools of machine learning to predict which passengers survived the Titanic tragedy.\n"
      ],
      "id": "distant-trial"
    },
    {
      "cell_type": "code",
      "metadata": {
        "id": "opened-talent"
      },
      "source": [
        "\n",
        "import numpy as np\n",
        "import pandas as pd\n",
        "import matplotlib.pyplot as plt\n",
        "import seaborn as sns\n",
        "\n",
        "import warnings\n",
        "warnings.filterwarnings(action='ignore')"
      ],
      "id": "opened-talent",
      "execution_count": null,
      "outputs": []
    },
    {
      "cell_type": "markdown",
      "metadata": {
        "id": "sunset-relevance"
      },
      "source": [
        "# 2. Collecting the data"
      ],
      "id": "sunset-relevance"
    },
    {
      "cell_type": "code",
      "metadata": {
        "id": "usual-level"
      },
      "source": [
        "# 주어진 데이터를 훈련하기 위해 데이터를 download\\\n",
        "train = pd.read_csv('/content/train.csv')\n",
        "test = pd.read_csv('/content/test.csv')\n",
        "# sub_df = pd.read_csv('gender_submission.csv')"
      ],
      "id": "usual-level",
      "execution_count": null,
      "outputs": []
    },
    {
      "cell_type": "markdown",
      "metadata": {
        "id": "separated-lighter"
      },
      "source": [
        "# 3. EDA(Exploratory Data Analysis) & Data Preprocessing\n",
        "## df :데이터 셋 확인\n",
        "* shape(row*col), info():피쳐이름,타입 ,  head():데이터샘플"
      ],
      "id": "separated-lighter"
    },
    {
      "cell_type": "code",
      "metadata": {
        "colab": {
          "base_uri": "https://localhost:8080/",
          "height": 563
        },
        "id": "tested-thesis",
        "outputId": "bf0b139a-965e-46fe-d090-c3816cd91ef4"
      },
      "source": [
        "train.shape\n",
        "train.info()\n",
        "train.head()"
      ],
      "id": "tested-thesis",
      "execution_count": null,
      "outputs": [
        {
          "output_type": "stream",
          "text": [
            "<class 'pandas.core.frame.DataFrame'>\n",
            "RangeIndex: 891 entries, 0 to 890\n",
            "Data columns (total 12 columns):\n",
            " #   Column       Non-Null Count  Dtype  \n",
            "---  ------       --------------  -----  \n",
            " 0   PassengerId  891 non-null    int64  \n",
            " 1   Survived     891 non-null    int64  \n",
            " 2   Pclass       891 non-null    int64  \n",
            " 3   Name         891 non-null    object \n",
            " 4   Sex          891 non-null    object \n",
            " 5   Age          714 non-null    float64\n",
            " 6   SibSp        891 non-null    int64  \n",
            " 7   Parch        891 non-null    int64  \n",
            " 8   Ticket       891 non-null    object \n",
            " 9   Fare         891 non-null    float64\n",
            " 10  Cabin        204 non-null    object \n",
            " 11  Embarked     889 non-null    object \n",
            "dtypes: float64(2), int64(5), object(5)\n",
            "memory usage: 83.7+ KB\n"
          ],
          "name": "stdout"
        },
        {
          "output_type": "execute_result",
          "data": {
            "text/html": [
              "<div>\n",
              "<style scoped>\n",
              "    .dataframe tbody tr th:only-of-type {\n",
              "        vertical-align: middle;\n",
              "    }\n",
              "\n",
              "    .dataframe tbody tr th {\n",
              "        vertical-align: top;\n",
              "    }\n",
              "\n",
              "    .dataframe thead th {\n",
              "        text-align: right;\n",
              "    }\n",
              "</style>\n",
              "<table border=\"1\" class=\"dataframe\">\n",
              "  <thead>\n",
              "    <tr style=\"text-align: right;\">\n",
              "      <th></th>\n",
              "      <th>PassengerId</th>\n",
              "      <th>Survived</th>\n",
              "      <th>Pclass</th>\n",
              "      <th>Name</th>\n",
              "      <th>Sex</th>\n",
              "      <th>Age</th>\n",
              "      <th>SibSp</th>\n",
              "      <th>Parch</th>\n",
              "      <th>Ticket</th>\n",
              "      <th>Fare</th>\n",
              "      <th>Cabin</th>\n",
              "      <th>Embarked</th>\n",
              "    </tr>\n",
              "  </thead>\n",
              "  <tbody>\n",
              "    <tr>\n",
              "      <th>0</th>\n",
              "      <td>1</td>\n",
              "      <td>0</td>\n",
              "      <td>3</td>\n",
              "      <td>Braund, Mr. Owen Harris</td>\n",
              "      <td>male</td>\n",
              "      <td>22.0</td>\n",
              "      <td>1</td>\n",
              "      <td>0</td>\n",
              "      <td>A/5 21171</td>\n",
              "      <td>7.2500</td>\n",
              "      <td>NaN</td>\n",
              "      <td>S</td>\n",
              "    </tr>\n",
              "    <tr>\n",
              "      <th>1</th>\n",
              "      <td>2</td>\n",
              "      <td>1</td>\n",
              "      <td>1</td>\n",
              "      <td>Cumings, Mrs. John Bradley (Florence Briggs Th...</td>\n",
              "      <td>female</td>\n",
              "      <td>38.0</td>\n",
              "      <td>1</td>\n",
              "      <td>0</td>\n",
              "      <td>PC 17599</td>\n",
              "      <td>71.2833</td>\n",
              "      <td>C85</td>\n",
              "      <td>C</td>\n",
              "    </tr>\n",
              "    <tr>\n",
              "      <th>2</th>\n",
              "      <td>3</td>\n",
              "      <td>1</td>\n",
              "      <td>3</td>\n",
              "      <td>Heikkinen, Miss. Laina</td>\n",
              "      <td>female</td>\n",
              "      <td>26.0</td>\n",
              "      <td>0</td>\n",
              "      <td>0</td>\n",
              "      <td>STON/O2. 3101282</td>\n",
              "      <td>7.9250</td>\n",
              "      <td>NaN</td>\n",
              "      <td>S</td>\n",
              "    </tr>\n",
              "    <tr>\n",
              "      <th>3</th>\n",
              "      <td>4</td>\n",
              "      <td>1</td>\n",
              "      <td>1</td>\n",
              "      <td>Futrelle, Mrs. Jacques Heath (Lily May Peel)</td>\n",
              "      <td>female</td>\n",
              "      <td>35.0</td>\n",
              "      <td>1</td>\n",
              "      <td>0</td>\n",
              "      <td>113803</td>\n",
              "      <td>53.1000</td>\n",
              "      <td>C123</td>\n",
              "      <td>S</td>\n",
              "    </tr>\n",
              "    <tr>\n",
              "      <th>4</th>\n",
              "      <td>5</td>\n",
              "      <td>0</td>\n",
              "      <td>3</td>\n",
              "      <td>Allen, Mr. William Henry</td>\n",
              "      <td>male</td>\n",
              "      <td>35.0</td>\n",
              "      <td>0</td>\n",
              "      <td>0</td>\n",
              "      <td>373450</td>\n",
              "      <td>8.0500</td>\n",
              "      <td>NaN</td>\n",
              "      <td>S</td>\n",
              "    </tr>\n",
              "  </tbody>\n",
              "</table>\n",
              "</div>"
            ],
            "text/plain": [
              "   PassengerId  Survived  Pclass  ...     Fare Cabin  Embarked\n",
              "0            1         0       3  ...   7.2500   NaN         S\n",
              "1            2         1       1  ...  71.2833   C85         C\n",
              "2            3         1       3  ...   7.9250   NaN         S\n",
              "3            4         1       1  ...  53.1000  C123         S\n",
              "4            5         0       3  ...   8.0500   NaN         S\n",
              "\n",
              "[5 rows x 12 columns]"
            ]
          },
          "metadata": {
            "tags": []
          },
          "execution_count": 126
        }
      ]
    },
    {
      "cell_type": "markdown",
      "metadata": {
        "id": "expected-fundamental"
      },
      "source": [
        "## 결측치 처리 (Missing value treatment)\n",
        "### NaN null nan np.nan"
      ],
      "id": "expected-fundamental"
    },
    {
      "cell_type": "code",
      "metadata": {
        "colab": {
          "base_uri": "https://localhost:8080/"
        },
        "id": "least-applicant",
        "outputId": "afab6dd8-c85f-4889-ff4a-d36ba72b6305"
      },
      "source": [
        "train_test = train.append(test)\n",
        "nan_dict = {\"CNT\":train_test.isna().sum(),\n",
        "            \"RATE\": train_test.isna().sum()/train.shape[0] *100\n",
        "}\n",
        "nan_df = pd.DataFrame(nan_dict)\n",
        "print(nan_df[nan_df[\"RATE\"]>0].sort_values(\"CNT\", ascending=False))\n"
      ],
      "id": "least-applicant",
      "execution_count": null,
      "outputs": [
        {
          "output_type": "stream",
          "text": [
            "           CNT        RATE\n",
            "Cabin     1014  113.804714\n",
            "Survived   418   46.913580\n",
            "Age        263   29.517396\n",
            "Embarked     2    0.224467\n",
            "Fare         1    0.112233\n"
          ],
          "name": "stdout"
        }
      ]
    },
    {
      "cell_type": "markdown",
      "metadata": {
        "id": "vanilla-trust"
      },
      "source": [
        "### Cabin : U0"
      ],
      "id": "vanilla-trust"
    },
    {
      "cell_type": "code",
      "metadata": {
        "colab": {
          "base_uri": "https://localhost:8080/"
        },
        "id": "magnetic-mumbai",
        "outputId": "c7cb7390-849c-48b6-ac36-c84a71120919"
      },
      "source": [
        "# print(train[\"Cabin\"].head())\n",
        "print(train_test[\"Cabin\"].describe())   #[nan 'C85' 'C123' 'E46' 'G6']\n",
        "train[\"Cabin\"].fillna(\"U0\", inplace=True)\n",
        "test[\"Cabin\"].fillna(\"U0\", inplace=True)\n",
        "\n",
        "train[\"Cabin_title\"] = train[\"Cabin\"].str[:1]\n",
        "test[\"Cabin_title\"] = test[\"Cabin\"].str[:1]"
      ],
      "id": "magnetic-mumbai",
      "execution_count": null,
      "outputs": [
        {
          "output_type": "stream",
          "text": [
            "count             295\n",
            "unique            186\n",
            "top       C23 C25 C27\n",
            "freq                6\n",
            "Name: Cabin, dtype: object\n"
          ],
          "name": "stdout"
        }
      ]
    },
    {
      "cell_type": "code",
      "metadata": {
        "colab": {
          "base_uri": "https://localhost:8080/"
        },
        "id": "attended-effect",
        "outputId": "f08aead2-5cd0-42ca-b149-f0736f402fdb"
      },
      "source": [
        "cross = pd.crosstab(train[\"Cabin_title\"], train[\"Survived\"])\n",
        "print(cross)"
      ],
      "id": "attended-effect",
      "execution_count": null,
      "outputs": [
        {
          "output_type": "stream",
          "text": [
            "Survived       0    1\n",
            "Cabin_title          \n",
            "A              8    7\n",
            "B             12   35\n",
            "C             24   35\n",
            "D              8   25\n",
            "E              8   24\n",
            "F              5    8\n",
            "G              2    2\n",
            "T              1    0\n",
            "U            481  206\n"
          ],
          "name": "stdout"
        }
      ]
    },
    {
      "cell_type": "code",
      "metadata": {
        "colab": {
          "base_uri": "https://localhost:8080/"
        },
        "id": "bottom-portfolio",
        "outputId": "b340c513-c93e-48a9-ff49-2851dfa63ef9"
      },
      "source": [
        "cross = pd.crosstab(train[\"Cabin_title\"], train[\"Pclass\"])\n",
        "print(cross)"
      ],
      "id": "bottom-portfolio",
      "execution_count": null,
      "outputs": [
        {
          "output_type": "stream",
          "text": [
            "Pclass        1    2    3\n",
            "Cabin_title              \n",
            "A            15    0    0\n",
            "B            47    0    0\n",
            "C            59    0    0\n",
            "D            29    4    0\n",
            "E            25    4    3\n",
            "F             0    8    5\n",
            "G             0    0    4\n",
            "T             1    0    0\n",
            "U            40  168  479\n"
          ],
          "name": "stdout"
        }
      ]
    },
    {
      "cell_type": "markdown",
      "metadata": {
        "id": "polish-reservation"
      },
      "source": [
        "<pre>\n",
        "객실 title은 Pclass=1 이 대부분\n",
        "2~3에 해당 사항없음\n",
        "결측 처리 대상에서 제외 - 해당 피쳐 삭제"
      ],
      "id": "polish-reservation"
    },
    {
      "cell_type": "markdown",
      "metadata": {
        "id": "plastic-ethernet"
      },
      "source": [
        "### Age : 이름 호칭별 그룹 평균"
      ],
      "id": "plastic-ethernet"
    },
    {
      "cell_type": "markdown",
      "metadata": {
        "id": "graphic-samoa"
      },
      "source": [
        "* 나이 분포 확인"
      ],
      "id": "graphic-samoa"
    },
    {
      "cell_type": "code",
      "metadata": {
        "colab": {
          "base_uri": "https://localhost:8080/"
        },
        "id": "central-latex",
        "outputId": "657a4e4f-8716-4963-f3a2-93d40a5b00d1"
      },
      "source": [
        "print(train[\"Age\"].describe())"
      ],
      "id": "central-latex",
      "execution_count": null,
      "outputs": [
        {
          "output_type": "stream",
          "text": [
            "count    714.000000\n",
            "mean      29.699118\n",
            "std       14.526497\n",
            "min        0.420000\n",
            "25%       20.125000\n",
            "50%       28.000000\n",
            "75%       38.000000\n",
            "max       80.000000\n",
            "Name: Age, dtype: float64\n"
          ],
          "name": "stdout"
        }
      ]
    },
    {
      "cell_type": "code",
      "metadata": {
        "colab": {
          "base_uri": "https://localhost:8080/",
          "height": 285
        },
        "id": "interior-malaysia",
        "outputId": "df48a82c-c9e4-4ee0-e292-3251105a1876"
      },
      "source": [
        "plt.figure(figsize=(8,4))\n",
        "sns.scatterplot(x=\"Age\", y=\"Survived\", data=train);"
      ],
      "id": "interior-malaysia",
      "execution_count": null,
      "outputs": [
        {
          "output_type": "display_data",
          "data": {
            "image/png": "[encoded data removed]",
            "text/plain": [
              "<Figure size 576x288 with 1 Axes>"
            ]
          },
          "metadata": {
            "tags": []
          }
        }
      ]
    },
    {
      "cell_type": "markdown",
      "metadata": {
        "id": "vocational-anime"
      },
      "source": [
        "* 이름의 호칭을 사용해 평균 나이로 결측 처리"
      ],
      "id": "vocational-anime"
    },
    {
      "cell_type": "code",
      "metadata": {
        "colab": {
          "base_uri": "https://localhost:8080/"
        },
        "id": "atlantic-cheese",
        "outputId": "9edcd2d9-83de-4c4e-8427-519f887e3006"
      },
      "source": [
        "train['Name_title'] = train['Name'].str.extract(' ([A-Za-z]+)\\.')\n",
        "test['Name_title'] = test['Name'].str.extract(' ([A-Za-z]+)\\.')\n",
        "print(test['Name_title'].unique())\n",
        "print(train['Name_title'].unique())\n"
      ],
      "id": "atlantic-cheese",
      "execution_count": null,
      "outputs": [
        {
          "output_type": "stream",
          "text": [
            "['Mr' 'Mrs' 'Miss' 'Master' 'Ms' 'Col' 'Rev' 'Dr' 'Dona']\n",
            "['Mr' 'Mrs' 'Miss' 'Master' 'Don' 'Rev' 'Dr' 'Mme' 'Ms' 'Major' 'Lady'\n",
            " 'Sir' 'Mlle' 'Col' 'Capt' 'Countess' 'Jonkheer']\n"
          ],
          "name": "stdout"
        }
      ]
    },
    {
      "cell_type": "code",
      "metadata": {
        "colab": {
          "base_uri": "https://localhost:8080/"
        },
        "id": "looking-percentage",
        "outputId": "66b5400c-1b1e-4f79-b03c-17bc7ba65b59"
      },
      "source": [
        "temp_data = pd.concat([train['Name_title'], test['Name_title']])\n",
        "print(type(temp_data))   #<class 'pandas.core.series.Series'>\n",
        "temp_data.value_counts()  #1300 , Mr          757  500\n",
        "# print(temp_data.shape)"
      ],
      "id": "looking-percentage",
      "execution_count": null,
      "outputs": [
        {
          "output_type": "stream",
          "text": [
            "<class 'pandas.core.series.Series'>\n"
          ],
          "name": "stdout"
        },
        {
          "output_type": "execute_result",
          "data": {
            "text/plain": [
              "Mr          757\n",
              "Miss        260\n",
              "Mrs         197\n",
              "Master       61\n",
              "Rev           8\n",
              "Dr            8\n",
              "Col           4\n",
              "Mlle          2\n",
              "Major         2\n",
              "Ms            2\n",
              "Capt          1\n",
              "Lady          1\n",
              "Mme           1\n",
              "Don           1\n",
              "Countess      1\n",
              "Dona          1\n",
              "Sir           1\n",
              "Jonkheer      1\n",
              "Name: Name_title, dtype: int64"
            ]
          },
          "metadata": {
            "tags": []
          },
          "execution_count": 134
        }
      ]
    },
    {
      "cell_type": "code",
      "metadata": {
        "colab": {
          "base_uri": "https://localhost:8080/"
        },
        "id": "raising-constraint",
        "outputId": "381b35c4-07cc-40bf-a788-8c62ca38959d"
      },
      "source": [
        "name_title_dict = {\n",
        "'Mr':1,\n",
        "'Mrs':2, 'Mme':2,\n",
        "'Miss':3, 'Lady':3, 'Ms' :3,'Mlle':3,\n",
        "'Master':4 ,\n",
        "    'Don':5 , 'Dona':5, 'Rev':6 , 'Dr':7 , 'Major':8 ,\n",
        " 'Sir':9, 'Col':10, 'Capt':11, 'Countess':12, 'Jonkheer':13\n",
        "}\n",
        "train['Name_title'] = train['Name_title'].map(name_title_dict)\n",
        "test['Name_title'] = test['Name_title'].map(name_title_dict)\n",
        "print(train['Name_title'].head())\n"
      ],
      "id": "raising-constraint",
      "execution_count": null,
      "outputs": [
        {
          "output_type": "stream",
          "text": [
            "0    1\n",
            "1    2\n",
            "2    3\n",
            "3    2\n",
            "4    1\n",
            "Name: Name_title, dtype: int64\n"
          ],
          "name": "stdout"
        }
      ]
    },
    {
      "cell_type": "code",
      "metadata": {
        "colab": {
          "base_uri": "https://localhost:8080/"
        },
        "id": "wrong-policy",
        "outputId": "30369a55-0da8-4e72-d79d-61ab07250d9b"
      },
      "source": [
        "train[\"Age\"].fillna(train.groupby(\"Name_title\")[\"Age\"].transform(\"mean\"), inplace=True)\n",
        "test[\"Age\"].fillna(test.groupby(\"Name_title\")[\"Age\"].transform(\"mean\"), inplace=True)\n",
        "print(train[\"Age\"].unique())"
      ],
      "id": "wrong-policy",
      "execution_count": null,
      "outputs": [
        {
          "output_type": "stream",
          "text": [
            "[22.         38.         26.         35.         32.36809045 54.\n",
            "  2.         27.         14.          4.         58.         20.\n",
            " 39.         55.         31.         35.78899083 34.         15.\n",
            " 28.          8.         19.         22.02       40.         66.\n",
            " 42.         21.         18.          3.          7.         49.\n",
            " 29.         65.         28.5         5.         11.         45.\n",
            "  4.57416667 17.         32.         16.         25.          0.83\n",
            " 30.         33.         23.         24.         46.         59.\n",
            " 71.         37.         47.         14.5        70.5        32.5\n",
            " 12.          9.         36.5        51.         55.5        40.5\n",
            " 44.          1.         61.         56.         50.         36.\n",
            " 45.5        20.5        62.         41.         52.         63.\n",
            " 23.5         0.92       43.         60.         10.         64.\n",
            " 13.         48.          0.75       53.         57.         80.\n",
            " 70.         24.5         6.          0.67       30.5         0.42\n",
            " 34.5        74.        ]\n"
          ],
          "name": "stdout"
        }
      ]
    },
    {
      "cell_type": "markdown",
      "metadata": {
        "id": "municipal-mumbai"
      },
      "source": [
        "* 파생변수 : 이름의 호칭 카테고리화"
      ],
      "id": "municipal-mumbai"
    },
    {
      "cell_type": "code",
      "metadata": {
        "colab": {
          "base_uri": "https://localhost:8080/"
        },
        "id": "distributed-safety",
        "outputId": "030b851a-3b28-4796-e88a-643fa0fb535a"
      },
      "source": [
        "# train['T_MR'] = train['Name_title']==Mr 1  0\n",
        "train[\"T_MR\"] = train[\"Name_title\"].apply(lambda x:  1 if x == \"Mr\" else 0)\n",
        "test[\"T_MR\"] = test[\"Name_title\"].apply(lambda x:  1 if x == \"Mr\" else 0)\n",
        "test[\"T_MR\"][:5]"
      ],
      "id": "distributed-safety",
      "execution_count": null,
      "outputs": [
        {
          "output_type": "execute_result",
          "data": {
            "text/plain": [
              "0    0\n",
              "1    0\n",
              "2    0\n",
              "3    0\n",
              "4    0\n",
              "Name: T_MR, dtype: int64"
            ]
          },
          "metadata": {
            "tags": []
          },
          "execution_count": 137
        }
      ]
    },
    {
      "cell_type": "markdown",
      "metadata": {
        "id": "functioning-program"
      },
      "source": [
        "### Embarked      : 최빈도"
      ],
      "id": "functioning-program"
    },
    {
      "cell_type": "code",
      "metadata": {
        "colab": {
          "base_uri": "https://localhost:8080/"
        },
        "id": "blank-devices",
        "outputId": "6bedf91a-6e8c-4302-a15f-050031e5c728"
      },
      "source": [
        "temp_data = pd.concat([train['Embarked'], test['Embarked']])\n",
        "temp_data.describe()"
      ],
      "id": "blank-devices",
      "execution_count": null,
      "outputs": [
        {
          "output_type": "execute_result",
          "data": {
            "text/plain": [
              "count     1307\n",
              "unique       3\n",
              "top          S\n",
              "freq       914\n",
              "Name: Embarked, dtype: object"
            ]
          },
          "metadata": {
            "tags": []
          },
          "execution_count": 138
        }
      ]
    },
    {
      "cell_type": "code",
      "metadata": {
        "colab": {
          "base_uri": "https://localhost:8080/"
        },
        "id": "strange-cholesterol",
        "outputId": "32cedea5-d9da-419f-dc0b-91db9c2c4c4e"
      },
      "source": [
        "print(train[\"Embarked\"].unique())"
      ],
      "id": "strange-cholesterol",
      "execution_count": null,
      "outputs": [
        {
          "output_type": "stream",
          "text": [
            "['S' 'C' 'Q' nan]\n"
          ],
          "name": "stdout"
        }
      ]
    },
    {
      "cell_type": "code",
      "metadata": {
        "colab": {
          "base_uri": "https://localhost:8080/"
        },
        "id": "severe-office",
        "outputId": "d7e139b2-1550-4d02-a6d7-9dfdc002477e"
      },
      "source": [
        "mode_value = train[\"Embarked\"].mode()\n",
        "print(mode_value, type(mode_value))\n",
        "# train[\"Embarked\"] = train[\"Embarked\"].fillna(mode_value) # , inplace=True)\n",
        "# test[\"Embarked\"] = test[\"Embarked\"].fillna(mode_value) #  , inplace=True)"
      ],
      "id": "severe-office",
      "execution_count": null,
      "outputs": [
        {
          "output_type": "stream",
          "text": [
            "0    S\n",
            "dtype: object <class 'pandas.core.series.Series'>\n"
          ],
          "name": "stdout"
        }
      ]
    },
    {
      "cell_type": "code",
      "metadata": {
        "id": "interracial-bottle"
      },
      "source": [
        "mode_value = 'S'\n",
        "train[\"Embarked\"].fillna(mode_value, inplace=True)\n",
        "test[\"Embarked\"].fillna(mode_value, inplace=True)\n",
        "# train[\"Embarked\"] = train[\"Embarked\"].replace(np.nan, 'S')\n",
        "# test[\"Embarked\"] = test[\"Embarked\"].replace(np.nan, 'S')"
      ],
      "id": "interracial-bottle",
      "execution_count": null,
      "outputs": []
    },
    {
      "cell_type": "code",
      "metadata": {
        "colab": {
          "base_uri": "https://localhost:8080/"
        },
        "id": "honey-genome",
        "outputId": "34d88f8f-7259-4985-9cac-3d0243de5b50"
      },
      "source": [
        "print(train[\"Embarked\"].unique())"
      ],
      "id": "honey-genome",
      "execution_count": null,
      "outputs": [
        {
          "output_type": "stream",
          "text": [
            "['S' 'C' 'Q']\n"
          ],
          "name": "stdout"
        }
      ]
    },
    {
      "cell_type": "markdown",
      "metadata": {
        "id": "lasting-print"
      },
      "source": [
        "### Fare : 0"
      ],
      "id": "lasting-print"
    },
    {
      "cell_type": "code",
      "metadata": {
        "id": "dangerous-routine"
      },
      "source": [
        "fare_mean = train[\"Fare\"].mean()"
      ],
      "id": "dangerous-routine",
      "execution_count": null,
      "outputs": []
    },
    {
      "cell_type": "code",
      "metadata": {
        "id": "announced-defeat"
      },
      "source": [
        "train[\"Fare\"].fillna(fare_mean, inplace=True)\n",
        "test[\"Fare\"].fillna(fare_mean, inplace=True)"
      ],
      "id": "announced-defeat",
      "execution_count": null,
      "outputs": []
    },
    {
      "cell_type": "code",
      "metadata": {
        "id": "phantom-result"
      },
      "source": [
        ""
      ],
      "id": "phantom-result",
      "execution_count": null,
      "outputs": []
    },
    {
      "cell_type": "markdown",
      "metadata": {
        "id": "paperback-jordan"
      },
      "source": [
        "## -- family name, Ticket,   T_family = (SibSp+Parch)+1  > 2\n",
        "   - Survived 생존률 rate 가중치 부여"
      ],
      "id": "paperback-jordan"
    },
    {
      "cell_type": "code",
      "metadata": {
        "colab": {
          "base_uri": "https://localhost:8080/"
        },
        "id": "welcome-establishment",
        "outputId": "4b27c6aa-06d8-4557-dd85-7d345942e9c0"
      },
      "source": [
        "print(train.isna().sum())"
      ],
      "id": "welcome-establishment",
      "execution_count": null,
      "outputs": [
        {
          "output_type": "stream",
          "text": [
            "PassengerId    0\n",
            "Survived       0\n",
            "Pclass         0\n",
            "Name           0\n",
            "Sex            0\n",
            "Age            0\n",
            "SibSp          0\n",
            "Parch          0\n",
            "Ticket         0\n",
            "Fare           0\n",
            "Cabin          0\n",
            "Embarked       0\n",
            "Cabin_title    0\n",
            "Name_title     0\n",
            "T_MR           0\n",
            "dtype: int64\n"
          ],
          "name": "stdout"
        }
      ]
    },
    {
      "cell_type": "code",
      "metadata": {
        "colab": {
          "base_uri": "https://localhost:8080/"
        },
        "id": "acquired-underground",
        "outputId": "c34085cb-4438-4563-d561-309dcb723eb8"
      },
      "source": [
        "print(test.isna().sum())"
      ],
      "id": "acquired-underground",
      "execution_count": null,
      "outputs": [
        {
          "output_type": "stream",
          "text": [
            "PassengerId    0\n",
            "Pclass         0\n",
            "Name           0\n",
            "Sex            0\n",
            "Age            0\n",
            "SibSp          0\n",
            "Parch          0\n",
            "Ticket         0\n",
            "Fare           0\n",
            "Cabin          0\n",
            "Embarked       0\n",
            "Cabin_title    0\n",
            "Name_title     0\n",
            "T_MR           0\n",
            "dtype: int64\n"
          ],
          "name": "stdout"
        }
      ]
    },
    {
      "cell_type": "markdown",
      "metadata": {
        "id": "protecting-disney"
      },
      "source": [
        "# 4. Feature Converting  -- T......Engineering"
      ],
      "id": "protecting-disney"
    },
    {
      "cell_type": "code",
      "metadata": {
        "colab": {
          "base_uri": "https://localhost:8080/"
        },
        "id": "romance-corrections",
        "outputId": "318837b9-7fef-41c2-e985-57084a0e53ac"
      },
      "source": [
        "train.info()"
      ],
      "id": "romance-corrections",
      "execution_count": null,
      "outputs": [
        {
          "output_type": "stream",
          "text": [
            "<class 'pandas.core.frame.DataFrame'>\n",
            "RangeIndex: 891 entries, 0 to 890\n",
            "Data columns (total 15 columns):\n",
            " #   Column       Non-Null Count  Dtype  \n",
            "---  ------       --------------  -----  \n",
            " 0   PassengerId  891 non-null    int64  \n",
            " 1   Survived     891 non-null    int64  \n",
            " 2   Pclass       891 non-null    int64  \n",
            " 3   Name         891 non-null    object \n",
            " 4   Sex          891 non-null    object \n",
            " 5   Age          891 non-null    float64\n",
            " 6   SibSp        891 non-null    int64  \n",
            " 7   Parch        891 non-null    int64  \n",
            " 8   Ticket       891 non-null    object \n",
            " 9   Fare         891 non-null    float64\n",
            " 10  Cabin        891 non-null    object \n",
            " 11  Embarked     891 non-null    object \n",
            " 12  Cabin_title  891 non-null    object \n",
            " 13  Name_title   891 non-null    int64  \n",
            " 14  T_MR         891 non-null    int64  \n",
            "dtypes: float64(2), int64(7), object(6)\n",
            "memory usage: 104.5+ KB\n"
          ],
          "name": "stdout"
        }
      ]
    },
    {
      "cell_type": "markdown",
      "metadata": {
        "id": "described-atmosphere"
      },
      "source": [
        "<pre>\n",
        "--------------------------------------------- \n",
        "5   Age          714 non-null    float64 -- Name_title평균나이, T_MR:0,1\n",
        "10  Cabin        204 non-null    object -- 삭제\n",
        "11  Embarked     889 non-null    object -- 'S' 최빈값\n",
        "---------------------------------------------\n",
        "3   Name         891 non-null    object -- 삭제\n",
        "4   Sex          891 non-null    object -- m:1 f:0\n",
        "8   Ticket       891 non-null    object -- 삭제\n",
        "10  Cabin        204 non-null    object -- 삭제\n",
        "*   Cabin_title  204 non-null    object -- 삭제\n",
        "11  Embarked     889 non-null    object -- S:1~2\n",
        "----------------------------------------------\n",
        "T_family = (SibSp+Parch)+1"
      ],
      "id": "described-atmosphere"
    },
    {
      "cell_type": "markdown",
      "metadata": {
        "id": "amateur-scott"
      },
      "source": [
        "### Object 타입 numeric화"
      ],
      "id": "amateur-scott"
    },
    {
      "cell_type": "code",
      "metadata": {
        "id": "aquatic-interstate"
      },
      "source": [
        "# train.select_dtypes(include='object')"
      ],
      "id": "aquatic-interstate",
      "execution_count": null,
      "outputs": []
    },
    {
      "cell_type": "code",
      "metadata": {
        "colab": {
          "base_uri": "https://localhost:8080/",
          "height": 166
        },
        "id": "animal-tracy",
        "outputId": "42ba896e-b531-4448-b840-af336ffcd35b"
      },
      "source": [
        "train[[\"Embarked\",\"Sex\"]].describe()"
      ],
      "id": "animal-tracy",
      "execution_count": null,
      "outputs": [
        {
          "output_type": "execute_result",
          "data": {
            "text/html": [
              "<div>\n",
              "<style scoped>\n",
              "    .dataframe tbody tr th:only-of-type {\n",
              "        vertical-align: middle;\n",
              "    }\n",
              "\n",
              "    .dataframe tbody tr th {\n",
              "        vertical-align: top;\n",
              "    }\n",
              "\n",
              "    .dataframe thead th {\n",
              "        text-align: right;\n",
              "    }\n",
              "</style>\n",
              "<table border=\"1\" class=\"dataframe\">\n",
              "  <thead>\n",
              "    <tr style=\"text-align: right;\">\n",
              "      <th></th>\n",
              "      <th>Embarked</th>\n",
              "      <th>Sex</th>\n",
              "    </tr>\n",
              "  </thead>\n",
              "  <tbody>\n",
              "    <tr>\n",
              "      <th>count</th>\n",
              "      <td>891</td>\n",
              "      <td>891</td>\n",
              "    </tr>\n",
              "    <tr>\n",
              "      <th>unique</th>\n",
              "      <td>3</td>\n",
              "      <td>2</td>\n",
              "    </tr>\n",
              "    <tr>\n",
              "      <th>top</th>\n",
              "      <td>S</td>\n",
              "      <td>male</td>\n",
              "    </tr>\n",
              "    <tr>\n",
              "      <th>freq</th>\n",
              "      <td>646</td>\n",
              "      <td>577</td>\n",
              "    </tr>\n",
              "  </tbody>\n",
              "</table>\n",
              "</div>"
            ],
            "text/plain": [
              "       Embarked   Sex\n",
              "count       891   891\n",
              "unique        3     2\n",
              "top           S  male\n",
              "freq        646   577"
            ]
          },
          "metadata": {
            "tags": []
          },
          "execution_count": 149
        }
      ]
    },
    {
      "cell_type": "code",
      "metadata": {
        "id": "distant-sudan"
      },
      "source": [
        "# temp = pd.concat([train, test])\n",
        "train_test = [train, test]\n",
        "for df in train_test:\n",
        "#   1. map\n",
        "    sex_dict = {'male':1,'female':0}\n",
        "    df['T_sex'] = df['Sex'].map(sex_dict)\n",
        "    \n",
        "    emb_dict = {'Q':0 , 'S':1 , 'C':2}\n",
        "    df['T_embarked'] = df['Embarked'].map(emb_dict)\n",
        "\n",
        "    df[\"T_family\"] = (df[\"SibSp\"] + df[\"Parch\"]) + 1\n",
        "#     print(train['T_sex'].head())\n",
        "    \n",
        "#     2. lambda\n",
        "#     train[\"T_sex2\"] = train[\"Sex\"].apply(lambda x:  1 if x == \"male\" else 0)\n",
        "#     print(train['T_sex'].head())\n",
        "    \n",
        "#     3. replace\n",
        "#     train[\"T_sex3\"] = train[\"Sex\"].replace('male', 1)\n",
        "#     train[\"T_sex3\"] = train[\"T_sex3\"].replace('female', 0)\n",
        "#     print(train['T_sex3'].head())"
      ],
      "id": "distant-sudan",
      "execution_count": null,
      "outputs": []
    },
    {
      "cell_type": "code",
      "metadata": {
        "colab": {
          "base_uri": "https://localhost:8080/",
          "height": 195
        },
        "id": "amazing-trust",
        "outputId": "6dc5f4a3-3f38-4fe0-9299-27955fcb7e04"
      },
      "source": [
        "train[['T_embarked','Embarked']].head()"
      ],
      "id": "amazing-trust",
      "execution_count": null,
      "outputs": [
        {
          "output_type": "execute_result",
          "data": {
            "text/html": [
              "<div>\n",
              "<style scoped>\n",
              "    .dataframe tbody tr th:only-of-type {\n",
              "        vertical-align: middle;\n",
              "    }\n",
              "\n",
              "    .dataframe tbody tr th {\n",
              "        vertical-align: top;\n",
              "    }\n",
              "\n",
              "    .dataframe thead th {\n",
              "        text-align: right;\n",
              "    }\n",
              "</style>\n",
              "<table border=\"1\" class=\"dataframe\">\n",
              "  <thead>\n",
              "    <tr style=\"text-align: right;\">\n",
              "      <th></th>\n",
              "      <th>T_embarked</th>\n",
              "      <th>Embarked</th>\n",
              "    </tr>\n",
              "  </thead>\n",
              "  <tbody>\n",
              "    <tr>\n",
              "      <th>0</th>\n",
              "      <td>1</td>\n",
              "      <td>S</td>\n",
              "    </tr>\n",
              "    <tr>\n",
              "      <th>1</th>\n",
              "      <td>2</td>\n",
              "      <td>C</td>\n",
              "    </tr>\n",
              "    <tr>\n",
              "      <th>2</th>\n",
              "      <td>1</td>\n",
              "      <td>S</td>\n",
              "    </tr>\n",
              "    <tr>\n",
              "      <th>3</th>\n",
              "      <td>1</td>\n",
              "      <td>S</td>\n",
              "    </tr>\n",
              "    <tr>\n",
              "      <th>4</th>\n",
              "      <td>1</td>\n",
              "      <td>S</td>\n",
              "    </tr>\n",
              "  </tbody>\n",
              "</table>\n",
              "</div>"
            ],
            "text/plain": [
              "   T_embarked Embarked\n",
              "0           1        S\n",
              "1           2        C\n",
              "2           1        S\n",
              "3           1        S\n",
              "4           1        S"
            ]
          },
          "metadata": {
            "tags": []
          },
          "execution_count": 151
        }
      ]
    },
    {
      "cell_type": "code",
      "metadata": {
        "id": "intellectual-number"
      },
      "source": [
        "#--------------------------------------------------------------------\n",
        "# 4. get_dummy() : DataFrame  ,  retrun DataFrame --> DataFrame\n",
        "#--------------------------------------------------------------------\n",
        "# dummy_df = pd.get_dummies(train[\"Sex\"])\n",
        "# # train = pd.concat(train,dummy_df)\n",
        "# train = train.join(dummy_df)\n",
        "# print(train.info())"
      ],
      "id": "intellectual-number",
      "execution_count": null,
      "outputs": []
    },
    {
      "cell_type": "code",
      "metadata": {
        "id": "marked-warren"
      },
      "source": [
        "# train[[\"Sex\",\"female\",\"male\"]].head()"
      ],
      "id": "marked-warren",
      "execution_count": null,
      "outputs": []
    },
    {
      "cell_type": "code",
      "metadata": {
        "id": "illegal-stephen"
      },
      "source": [
        "#--------------------------------------------------------------------\n",
        "# Encoder : like array  ,  retrun like array --> DataFrame\n",
        "#--------------------------------------------------------------------\n",
        "# from sklearn.preprocessing import LabelEncoder, OneHotEncoder\n",
        "# from scipy.sparse import csr_matrix\n",
        "\n",
        "# le_encoder = LabelEncoder()\n",
        "# #train[[\"Sex\",\"Embarker\"]] = encoder.fit_transform(train[[\"Sex\",\"Embarker\"]])   XXXXXX\n",
        "# cols = [\"Sex\",]\n",
        "# for col in cols:   \n",
        "#     train[\"LE_\"+col] = le_encoder.fit_transform(train[col])\n",
        "#     print(train[[\"Sex\", \"LE_Sex\"]].head())\n",
        "# #     print(np.array(train[\"LE_\"+col]).reshape(-1, 1))\n",
        "#     oh_encoder = OneHotEncoder()    \n",
        "#     res = oh_encoder.fit_transform(np.array(train[\"LE_\"+col]).reshape(-1, 1))   #[[],[],[]]\n",
        "#     print(type(res), res.shape)\n",
        "    \n",
        "#     csr_df = pd.DataFrame.sparse.from_spmatrix(res, columns=['OH_M', 'OH_F'])  \n",
        "    \n",
        "# train = train.append(csr_df)\n",
        "# # dtype = pd.SparseDtype(np.float64, fill_value=0)\n",
        "# # train['OH_M'].astype(dtype)\n",
        "# train.info()"
      ],
      "id": "illegal-stephen",
      "execution_count": null,
      "outputs": []
    },
    {
      "cell_type": "code",
      "metadata": {
        "id": "lyric-literacy"
      },
      "source": [
        "#--------------------------------------------------------------------\n",
        "# Encoder : like array  ,  retrun like array --> like array\n",
        "#--------------------------------------------------------------------\n",
        "# from sklearn.preprocessing import LabelEncoder, OneHotEncoder\n",
        "# item = [\"b\",\"a\",\"c\",\"d\",\"e\",\"f\",\"g\"]\n",
        "# encoder = LabelEncoder()  #글자-->숫자\n",
        "# # encoder.fit(item)\n",
        "# # res = encoder.transform(item)\n",
        "# res = encoder.fit_transform(item)\n",
        "# print(encoder.classes_)\n",
        "# print(res)   #[1 0 2 3 4 5 6]\n",
        "# print(encoder.inverse_transform(res))\n",
        "\n",
        "# oh_encoder = OneHotEncoder()\n",
        "# re_res = res.reshape(-1,1)  #------------------[[],[],[],[]]\n",
        "# res = oh_encoder.fit_transform(re_res)\n",
        "# print(res.shape)\n",
        "# print(res)\n",
        "\n",
        "#-------------------- [LabelEncoder, OneHotEncoder] + 결측처리**\n",
        "# import pandas as pd\n",
        "# df = pd.DataFrame({\"key\" : [\"b\",\"a\",\"c\",\"d\",\"e\",\"f\",\"g\"]})\n",
        "# print(df.head())\n",
        "# df = pd.get_dummies(df[\"key\"])\n",
        "# print(df.head())"
      ],
      "id": "lyric-literacy",
      "execution_count": null,
      "outputs": []
    },
    {
      "cell_type": "markdown",
      "metadata": {
        "id": "alpine-choir"
      },
      "source": [
        "### Float 타입 numeric화"
      ],
      "id": "alpine-choir"
    },
    {
      "cell_type": "code",
      "metadata": {
        "id": "outside-stocks"
      },
      "source": [
        "# dataset[\"Age\"] = train_df[\"Age\"].astype(int)"
      ],
      "id": "outside-stocks",
      "execution_count": null,
      "outputs": []
    },
    {
      "cell_type": "code",
      "metadata": {
        "colab": {
          "base_uri": "https://localhost:8080/"
        },
        "id": "bacterial-connection",
        "outputId": "22a72b64-f5cc-49bc-c2a6-d80ffb2925e1"
      },
      "source": [
        "float_features_list = train.dtypes[train.dtypes == 'float64'].index.values\n",
        "print(float_features_list)\n",
        "train[float_features_list] = train[float_features_list].astype(np.int32)\n",
        "test[float_features_list] = test[float_features_list].astype(np.int32)"
      ],
      "id": "bacterial-connection",
      "execution_count": null,
      "outputs": [
        {
          "output_type": "stream",
          "text": [
            "['Age' 'Fare']\n"
          ],
          "name": "stdout"
        }
      ]
    },
    {
      "cell_type": "code",
      "metadata": {
        "id": "tough-latin"
      },
      "source": [
        ""
      ],
      "id": "tough-latin",
      "execution_count": null,
      "outputs": []
    },
    {
      "cell_type": "markdown",
      "metadata": {
        "id": "separate-acoustic"
      },
      "source": [
        "### 불필요한 피쳐 삭제"
      ],
      "id": "separate-acoustic"
    },
    {
      "cell_type": "code",
      "metadata": {
        "colab": {
          "base_uri": "https://localhost:8080/"
        },
        "id": "demanding-millennium",
        "outputId": "c137d8ab-cf0c-4ebe-b453-aa2b8ecba54b"
      },
      "source": [
        "object_features_list = train.dtypes[train.dtypes == 'object'].index.values\n",
        "print(object_features_list)"
      ],
      "id": "demanding-millennium",
      "execution_count": null,
      "outputs": [
        {
          "output_type": "stream",
          "text": [
            "['Name' 'Sex' 'Ticket' 'Cabin' 'Embarked' 'Cabin_title']\n"
          ],
          "name": "stdout"
        }
      ]
    },
    {
      "cell_type": "code",
      "metadata": {
        "id": "recognized-hudson"
      },
      "source": [
        "train.drop(object_features_list, axis=1, inplace=True)\n",
        "test.drop(object_features_list, axis=1, inplace=True)"
      ],
      "id": "recognized-hudson",
      "execution_count": null,
      "outputs": []
    },
    {
      "cell_type": "code",
      "metadata": {
        "tags": [],
        "colab": {
          "base_uri": "https://localhost:8080/"
        },
        "id": "identical-stock",
        "outputId": "812bec46-6e34-4ce7-8cce-a1ae3e227b8c"
      },
      "source": [
        "print(train.info())\n",
        "print(test.info())"
      ],
      "id": "identical-stock",
      "execution_count": null,
      "outputs": [
        {
          "output_type": "stream",
          "text": [
            "<class 'pandas.core.frame.DataFrame'>\n",
            "RangeIndex: 891 entries, 0 to 890\n",
            "Data columns (total 12 columns):\n",
            " #   Column       Non-Null Count  Dtype\n",
            "---  ------       --------------  -----\n",
            " 0   PassengerId  891 non-null    int64\n",
            " 1   Survived     891 non-null    int64\n",
            " 2   Pclass       891 non-null    int64\n",
            " 3   Age          891 non-null    int32\n",
            " 4   SibSp        891 non-null    int64\n",
            " 5   Parch        891 non-null    int64\n",
            " 6   Fare         891 non-null    int32\n",
            " 7   Name_title   891 non-null    int64\n",
            " 8   T_MR         891 non-null    int64\n",
            " 9   T_sex        891 non-null    int64\n",
            " 10  T_embarked   891 non-null    int64\n",
            " 11  T_family     891 non-null    int64\n",
            "dtypes: int32(2), int64(10)\n",
            "memory usage: 76.7 KB\n",
            "None\n",
            "<class 'pandas.core.frame.DataFrame'>\n",
            "RangeIndex: 418 entries, 0 to 417\n",
            "Data columns (total 11 columns):\n",
            " #   Column       Non-Null Count  Dtype\n",
            "---  ------       --------------  -----\n",
            " 0   PassengerId  418 non-null    int64\n",
            " 1   Pclass       418 non-null    int64\n",
            " 2   Age          418 non-null    int32\n",
            " 3   SibSp        418 non-null    int64\n",
            " 4   Parch        418 non-null    int64\n",
            " 5   Fare         418 non-null    int32\n",
            " 6   Name_title   418 non-null    int64\n",
            " 7   T_MR         418 non-null    int64\n",
            " 8   T_sex        418 non-null    int64\n",
            " 9   T_embarked   418 non-null    int64\n",
            " 10  T_family     418 non-null    int64\n",
            "dtypes: int32(2), int64(9)\n",
            "memory usage: 32.8 KB\n",
            "None\n"
          ],
          "name": "stdout"
        }
      ]
    },
    {
      "cell_type": "code",
      "metadata": {
        "id": "civic-mandate"
      },
      "source": [
        "\n",
        "train.drop('PassengerId', axis=1, inplace=True)\n",
        "test.drop('PassengerId', axis=1, inplace=True)"
      ],
      "id": "civic-mandate",
      "execution_count": null,
      "outputs": []
    },
    {
      "cell_type": "markdown",
      "metadata": {
        "id": "nonprofit-auckland"
      },
      "source": [
        "# 모델 선정 및 학습 : 우선 점수부터 보고 이후 작업 더 진행"
      ],
      "id": "nonprofit-auckland"
    },
    {
      "cell_type": "markdown",
      "metadata": {
        "id": "pending-synthesis"
      },
      "source": [
        "<pre>\n",
        "모델 분석에 필요한 데이터 종류 : train[train set : validation set] , test set\n",
        "                                    train_test_split\n",
        "* classification(분류) 모델선정 : 문제집 선택\n",
        "* 학습     : fit(문제train8, 정답train_Survived8)\n",
        "* 모의고사 : predict(모의시험지train2=validation) ----- 예측답안\n",
        "* 모의채점 : _score(예측답안, 모의고사정답지train2=validation)\n",
        "*---------------------------------------------------------------------    \n",
        "* 본시험   : predict(본시험지test)   ----- 예측답안\n",
        "* 본채점   : _score(예측답안submission, 본시험정답지kaggle-leaderboard)"
      ],
      "id": "pending-synthesis"
    },
    {
      "cell_type": "code",
      "metadata": {
        "id": "expensive-passenger"
      },
      "source": [
        "# ! pip install lightgbm\n",
        "# ! pip install xgboost"
      ],
      "id": "expensive-passenger",
      "execution_count": null,
      "outputs": []
    },
    {
      "cell_type": "code",
      "metadata": {
        "id": "worse-maryland"
      },
      "source": [
        "from sklearn.tree import DecisionTreeClassifier\n",
        "from sklearn.ensemble import RandomForestClassifier\n",
        "from sklearn.linear_model import LogisticRegression\n",
        "from sklearn.neighbors import KNeighborsClassifier\n",
        "\n",
        "# XGBoost python wrapper class\n",
        "# ref : https://injo.tistory.com/44\n",
        "# ref : https://velog.io/@dbj2000/ML\n",
        "import xgboost as xgb ## XGBoost 불러오기\n",
        "\n",
        "#LightGBM\n",
        "# ref : https://lightgbm.readthedocs.io/en/latest/pythonapi/lightgbm.LGBMClassifier.html\n",
        "import lightgbm as lgb\n",
        "from sklearn.model_selection import train_test_split\n",
        "from sklearn.metrics import accuracy_score,confusion_matrix,precision_score, recall_score, f1_score, roc_auc_score"
      ],
      "id": "worse-maryland",
      "execution_count": null,
      "outputs": []
    },
    {
      "cell_type": "markdown",
      "metadata": {
        "id": "spectacular-slovakia"
      },
      "source": [
        "* 정확도(Accuracy)\n",
        "Accuracy = (TP + TN)/(TP + TN + FP + FN)"
      ],
      "id": "spectacular-slovakia"
    },
    {
      "cell_type": "markdown",
      "metadata": {
        "id": "alive-flash"
      },
      "source": [
        "#### 1. 학습.답안 데이터 셋 분리"
      ],
      "id": "alive-flash"
    },
    {
      "cell_type": "code",
      "metadata": {
        "colab": {
          "base_uri": "https://localhost:8080/"
        },
        "id": "simplified-speech",
        "outputId": "0b6438a0-2c74-47f0-c1a4-93fa446707a6"
      },
      "source": [
        "train_y = train[\"Survived\"]\n",
        "train_X = train.drop(\"Survived\", axis=1)\n",
        "print(train_y.shape, train_X.shape)"
      ],
      "id": "simplified-speech",
      "execution_count": null,
      "outputs": [
        {
          "output_type": "stream",
          "text": [
            "(891,) (891, 10)\n"
          ],
          "name": "stdout"
        }
      ]
    },
    {
      "cell_type": "markdown",
      "metadata": {
        "tags": [],
        "id": "pursuant-mailing"
      },
      "source": [
        "#### 2..학습'답안/검증'답안 데이터 셋 분리"
      ],
      "id": "pursuant-mailing"
    },
    {
      "cell_type": "code",
      "metadata": {
        "tags": [],
        "colab": {
          "base_uri": "https://localhost:8080/"
        },
        "id": "smoking-polymer",
        "outputId": "6371d186-331f-409c-9f14-8a0e9b0213e9"
      },
      "source": [
        "문제_학습8, 문제_검증2, 답안_학습8, 답안_검증2 = train_test_split(train_X, train_y, test_size=0.2, random_state=36,  shuffle=False)\n",
        "print(문제_학습8.shape, 문제_검증2.shape, 답안_학습8.shape, 답안_검증2.shape)"
      ],
      "id": "smoking-polymer",
      "execution_count": null,
      "outputs": [
        {
          "output_type": "stream",
          "text": [
            "(712, 10) (179, 10) (712,) (179,)\n"
          ],
          "name": "stdout"
        }
      ]
    },
    {
      "cell_type": "code",
      "metadata": {
        "id": "listed-control"
      },
      "source": [
        "dt = DecisionTreeClassifier()\n",
        "rf = RandomForestClassifier()\n",
        "lr = LogisticRegression()\n",
        "knn = KNeighborsClassifier()"
      ],
      "id": "listed-control",
      "execution_count": null,
      "outputs": []
    },
    {
      "cell_type": "code",
      "metadata": {
        "colab": {
          "base_uri": "https://localhost:8080/"
        },
        "id": "sapphire-sculpture",
        "outputId": "ca61f4c7-cc28-4d6a-93cd-845a4d6352e3"
      },
      "source": [
        "dt.fit(문제_학습8, 답안_학습8)\n",
        "내가낸답안2 = dt.predict(문제_검증2)\n",
        "df_score = accuracy_score(답안_검증2,내가낸답안2)\n",
        "print(df_score)     # 0.7541899441340782  float \n",
        "                    # 0.7653631284916201  int"
      ],
      "id": "sapphire-sculpture",
      "execution_count": null,
      "outputs": [
        {
          "output_type": "stream",
          "text": [
            "0.7597765363128491\n"
          ],
          "name": "stdout"
        }
      ]
    },
    {
      "cell_type": "code",
      "metadata": {
        "colab": {
          "base_uri": "https://localhost:8080/"
        },
        "id": "swedish-mileage",
        "outputId": "ad5977e2-99a9-4b60-b949-05d26117d90d"
      },
      "source": [
        "train_X.info()"
      ],
      "id": "swedish-mileage",
      "execution_count": null,
      "outputs": [
        {
          "output_type": "stream",
          "text": [
            "<class 'pandas.core.frame.DataFrame'>\n",
            "RangeIndex: 891 entries, 0 to 890\n",
            "Data columns (total 10 columns):\n",
            " #   Column      Non-Null Count  Dtype\n",
            "---  ------      --------------  -----\n",
            " 0   Pclass      891 non-null    int64\n",
            " 1   Age         891 non-null    int32\n",
            " 2   SibSp       891 non-null    int64\n",
            " 3   Parch       891 non-null    int64\n",
            " 4   Fare        891 non-null    int32\n",
            " 5   Name_title  891 non-null    int64\n",
            " 6   T_MR        891 non-null    int64\n",
            " 7   T_sex       891 non-null    int64\n",
            " 8   T_embarked  891 non-null    int64\n",
            " 9   T_family    891 non-null    int64\n",
            "dtypes: int32(2), int64(8)\n",
            "memory usage: 62.8 KB\n"
          ],
          "name": "stdout"
        }
      ]
    },
    {
      "cell_type": "markdown",
      "metadata": {
        "id": "naughty-capacity"
      },
      "source": [
        "# 기초 통계를 활용한 피쳐 분석"
      ],
      "id": "naughty-capacity"
    },
    {
      "cell_type": "markdown",
      "metadata": {
        "id": "stable-declaration"
      },
      "source": [
        "### Featue Importance"
      ],
      "id": "stable-declaration"
    },
    {
      "cell_type": "code",
      "metadata": {
        "id": "worthy-welding"
      },
      "source": [
        "# dt.feature_importances_"
      ],
      "id": "worthy-welding",
      "execution_count": null,
      "outputs": []
    },
    {
      "cell_type": "code",
      "metadata": {
        "colab": {
          "base_uri": "https://localhost:8080/",
          "height": 106
        },
        "id": "missing-vertex",
        "outputId": "a1e3981f-791b-48b5-9fd4-cd606994868c"
      },
      "source": [
        "imp_df = pd.DataFrame({\"featuer\" : train_X.columns, \"importance\" : dt.feature_importances_})\n",
        "imp_df.sort_values('importance', ascending=False).T\n"
      ],
      "id": "missing-vertex",
      "execution_count": null,
      "outputs": [
        {
          "output_type": "execute_result",
          "data": {
            "text/html": [
              "<div>\n",
              "<style scoped>\n",
              "    .dataframe tbody tr th:only-of-type {\n",
              "        vertical-align: middle;\n",
              "    }\n",
              "\n",
              "    .dataframe tbody tr th {\n",
              "        vertical-align: top;\n",
              "    }\n",
              "\n",
              "    .dataframe thead th {\n",
              "        text-align: right;\n",
              "    }\n",
              "</style>\n",
              "<table border=\"1\" class=\"dataframe\">\n",
              "  <thead>\n",
              "    <tr style=\"text-align: right;\">\n",
              "      <th></th>\n",
              "      <th>5</th>\n",
              "      <th>1</th>\n",
              "      <th>4</th>\n",
              "      <th>0</th>\n",
              "      <th>9</th>\n",
              "      <th>8</th>\n",
              "      <th>3</th>\n",
              "      <th>2</th>\n",
              "      <th>6</th>\n",
              "      <th>7</th>\n",
              "    </tr>\n",
              "  </thead>\n",
              "  <tbody>\n",
              "    <tr>\n",
              "      <th>featuer</th>\n",
              "      <td>Name_title</td>\n",
              "      <td>Age</td>\n",
              "      <td>Fare</td>\n",
              "      <td>Pclass</td>\n",
              "      <td>T_family</td>\n",
              "      <td>T_embarked</td>\n",
              "      <td>Parch</td>\n",
              "      <td>SibSp</td>\n",
              "      <td>T_MR</td>\n",
              "      <td>T_sex</td>\n",
              "    </tr>\n",
              "    <tr>\n",
              "      <th>importance</th>\n",
              "      <td>0.361177</td>\n",
              "      <td>0.238543</td>\n",
              "      <td>0.176935</td>\n",
              "      <td>0.110695</td>\n",
              "      <td>0.0626581</td>\n",
              "      <td>0.0333901</td>\n",
              "      <td>0.0114157</td>\n",
              "      <td>0.00518667</td>\n",
              "      <td>0</td>\n",
              "      <td>0</td>\n",
              "    </tr>\n",
              "  </tbody>\n",
              "</table>\n",
              "</div>"
            ],
            "text/plain": [
              "                     5         1         4  ...           2     6      7\n",
              "featuer     Name_title       Age      Fare  ...       SibSp  T_MR  T_sex\n",
              "importance    0.361177  0.238543  0.176935  ...  0.00518667     0      0\n",
              "\n",
              "[2 rows x 10 columns]"
            ]
          },
          "metadata": {
            "tags": []
          },
          "execution_count": 170
        }
      ]
    },
    {
      "cell_type": "code",
      "metadata": {
        "id": "acoustic-interface"
      },
      "source": [
        ""
      ],
      "id": "acoustic-interface",
      "execution_count": null,
      "outputs": []
    },
    {
      "cell_type": "code",
      "metadata": {
        "colab": {
          "base_uri": "https://localhost:8080/",
          "height": 475
        },
        "id": "stunning-pipeline",
        "outputId": "c8393f12-7d4b-4f2d-ec63-caca52a0d596"
      },
      "source": [
        "train_X[\"Fare\"] = train[\"Fare\"]\n",
        "train_X[\"Family_fare\"] = train_X[\"Fare\"]/ train_X[\"T_family\"]\n",
        "test[\"Family_fare\"] = test[\"Fare\"]/ test[\"T_family\"]\n",
        "\n",
        "# temp_data = pd.concat([train['Embarked'], test['Embarked']])\n",
        "\n",
        "sns.set()\n",
        "fig, axes = plt.subplots(ncols=1, figsize=(8, 3))\n",
        "ax = sns.histplot(train, x=\"Fare\",hue=\"Survived\", element=\"step\", ax=axes)\n",
        "ax.set_title(\"Fare\")\n",
        "plt.show()\n",
        "\n",
        "sns.set()\n",
        "fig, axes = plt.subplots(ncols=1, figsize=(8,3))\n",
        "ax = sns.histplot(train_X, x=\"Family_fare\", element=\"step\", ax=axes)\n",
        "ax.set_title(\"Family_fare\")\n",
        "plt.show()\n",
        "\n"
      ],
      "id": "stunning-pipeline",
      "execution_count": null,
      "outputs": [
        {
          "output_type": "display_data",
          "data": {
            "image/png": "[encoded data removed]",
            "text/plain": [
              "<Figure size 576x216 with 1 Axes>"
            ]
          },
          "metadata": {
            "tags": []
          }
        },
        {
          "output_type": "display_data",
          "data": {
            "image/png": "[encoded data removed]",
            "text/plain": [
              "<Figure size 576x216 with 1 Axes>"
            ]
          },
          "metadata": {
            "tags": []
          }
        }
      ]
    },
    {
      "cell_type": "code",
      "metadata": {
        "id": "motivated-butter"
      },
      "source": [
        ""
      ],
      "id": "motivated-butter",
      "execution_count": null,
      "outputs": []
    },
    {
      "cell_type": "code",
      "metadata": {
        "id": "controlling-cotton"
      },
      "source": [
        ""
      ],
      "id": "controlling-cotton",
      "execution_count": null,
      "outputs": []
    },
    {
      "cell_type": "code",
      "metadata": {
        "id": "documentary-uruguay"
      },
      "source": [
        "# imp_df.plot.bar()"
      ],
      "id": "documentary-uruguay",
      "execution_count": null,
      "outputs": []
    },
    {
      "cell_type": "code",
      "metadata": {
        "id": "consistent-perry"
      },
      "source": [
        "# train_X.loc[ train_X['Age'] <= 16, 'Age'] = 0\n",
        "# train_X.loc[(train_X['Age'] > 16) & (train_X['Age'] <= 26), 'Age'] = 1\n",
        "# train_X.loc[(train_X['Age'] > 26) & (train_X['Age'] <= 36), 'Age'] = 2\n",
        "# train_X.loc[(train_X['Age'] > 36) & (train_X['Age'] <= 62), 'Age'] = 3\n",
        "# train_X.loc[train_X['Age'] > 62, 'Age'] = 4"
      ],
      "id": "consistent-perry",
      "execution_count": null,
      "outputs": []
    },
    {
      "cell_type": "markdown",
      "metadata": {
        "id": "ordinary-senate"
      },
      "source": [
        "### Fare : 최소 요금 약 7달러로 구간화"
      ],
      "id": "ordinary-senate"
    },
    {
      "cell_type": "code",
      "metadata": {
        "colab": {
          "base_uri": "https://localhost:8080/"
        },
        "id": "editorial-steering",
        "outputId": "933ecb63-c53f-4a6b-e903-8e2c6a5c3eb7"
      },
      "source": [
        "# def fare_bining(x) :  #df[\"Fear\"]\n",
        "#     T_fare = 0\n",
        "#     if x <= 7:\n",
        "#         T_fare = 1\n",
        "#     elif  x <= 14:\n",
        "#         T_fare = 2\n",
        "#     elif  x <= 21:\n",
        "#         T_fare = 3\n",
        "#     else:\n",
        "#         T_fare = 4\n",
        "#     return  T_fare   \n",
        "# train_X[\"T_Fare\"] = train_X[\"Fare\"].apply(lambda x : fare_bining(x))\n",
        "#--------------------------------------------------------------------------------------------\n",
        "train_X[\"T_Fare\"] = train_X[\"Fare\"].apply(lambda x : x//14)\n",
        "train_X[\"T_Fare\"] = train_X[\"T_Fare\"].astype(int)\n",
        "test[\"T_Fare\"] = test[\"Fare\"].apply(lambda x : x//14)\n",
        "test[\"T_Fare\"] = test[\"T_Fare\"].astype(int)\n",
        "\n",
        "print(train_X[[\"T_Fare\",\"Fare\"]].head(8))\n",
        "print(train_X.info())"
      ],
      "id": "editorial-steering",
      "execution_count": null,
      "outputs": [
        {
          "output_type": "stream",
          "text": [
            "   T_Fare  Fare\n",
            "0       0     7\n",
            "1       5    71\n",
            "2       0     7\n",
            "3       3    53\n",
            "4       0     8\n",
            "5       0     8\n",
            "6       3    51\n",
            "7       1    21\n",
            "<class 'pandas.core.frame.DataFrame'>\n",
            "RangeIndex: 891 entries, 0 to 890\n",
            "Data columns (total 12 columns):\n",
            " #   Column       Non-Null Count  Dtype  \n",
            "---  ------       --------------  -----  \n",
            " 0   Pclass       891 non-null    int64  \n",
            " 1   Age          891 non-null    int32  \n",
            " 2   SibSp        891 non-null    int64  \n",
            " 3   Parch        891 non-null    int64  \n",
            " 4   Fare         891 non-null    int32  \n",
            " 5   Name_title   891 non-null    int64  \n",
            " 6   T_MR         891 non-null    int64  \n",
            " 7   T_sex        891 non-null    int64  \n",
            " 8   T_embarked   891 non-null    int64  \n",
            " 9   T_family     891 non-null    int64  \n",
            " 10  Family_fare  891 non-null    float64\n",
            " 11  T_Fare       891 non-null    int64  \n",
            "dtypes: float64(1), int32(2), int64(9)\n",
            "memory usage: 76.7 KB\n",
            "None\n"
          ],
          "name": "stdout"
        }
      ]
    },
    {
      "cell_type": "code",
      "metadata": {
        "id": "objective-vancouver"
      },
      "source": [
        "def myfit(X, y, model, imp=0, tsize=0.2):\n",
        "    X_train, X_test, y_train, y_test = train_test_split(X, y, test_size=tsize, random_state=36,  shuffle=False)\n",
        "    #print(X_train.shape, X_test.shape, y_train.shape, y_test.shape)\n",
        "    model.fit(X_train, y_train)\n",
        "    pred = model.predict(X_test)\n",
        "    df_score = accuracy_score(y_test, pred)\n",
        "    print(\"Accuracy : {:.6f}\".format(df_score))     \n",
        "    if imp==1:         \n",
        "        imp_df = pd.DataFrame({\"featuer\" : train_X.columns, \"importance\" : model.feature_importances_})\n",
        "        imp_df = imp_df.sort_values('importance', ascending=False).T\n",
        "        print(imp_df)"
      ],
      "id": "objective-vancouver",
      "execution_count": null,
      "outputs": []
    },
    {
      "cell_type": "code",
      "metadata": {
        "colab": {
          "base_uri": "https://localhost:8080/"
        },
        "id": "seasonal-indiana",
        "outputId": "1d12f873-38f2-495f-f3c8-b946ebabed8c"
      },
      "source": [
        "myfit(train_X, train_y, dt)  #0.7597765363128491"
      ],
      "id": "seasonal-indiana",
      "execution_count": null,
      "outputs": [
        {
          "output_type": "stream",
          "text": [
            "Accuracy : 0.748603\n"
          ],
          "name": "stdout"
        }
      ]
    },
    {
      "cell_type": "code",
      "metadata": {
        "id": "roman-supplier"
      },
      "source": [
        "train_X.drop([\"Fare\"], inplace=True, axis=1)\n",
        "test.drop([\"Fare\"], inplace=True, axis=1)"
      ],
      "id": "roman-supplier",
      "execution_count": null,
      "outputs": []
    },
    {
      "cell_type": "code",
      "metadata": {
        "colab": {
          "base_uri": "https://localhost:8080/"
        },
        "id": "finished-thesis",
        "outputId": "e2ca9b38-c6c6-4d91-e138-2db1a9e05f7c"
      },
      "source": [
        "myfit(train_X, train_y, dt, 1)  #0.798883"
      ],
      "id": "finished-thesis",
      "execution_count": null,
      "outputs": [
        {
          "output_type": "stream",
          "text": [
            "Accuracy : 0.782123\n",
            "                     4         1            9  ...          3     5      6\n",
            "featuer     Name_title       Age  Family_fare  ...      Parch  T_MR  T_sex\n",
            "importance     0.36475  0.263063      0.10998  ...  0.0029175     0      0\n",
            "\n",
            "[2 rows x 11 columns]\n"
          ],
          "name": "stdout"
        }
      ]
    },
    {
      "cell_type": "markdown",
      "metadata": {
        "id": "spatial-bridges"
      },
      "source": [
        "### Age : 구간화"
      ],
      "id": "spatial-bridges"
    },
    {
      "cell_type": "code",
      "metadata": {
        "colab": {
          "base_uri": "https://localhost:8080/",
          "height": 195
        },
        "id": "continent-perth",
        "outputId": "deae1013-86ac-4912-becf-a7abb989f337"
      },
      "source": [
        "temp = train_X.copy()\n",
        "temp = temp.join(train_y)\n",
        "temp.head()"
      ],
      "id": "continent-perth",
      "execution_count": null,
      "outputs": [
        {
          "output_type": "execute_result",
          "data": {
            "text/html": [
              "<div>\n",
              "<style scoped>\n",
              "    .dataframe tbody tr th:only-of-type {\n",
              "        vertical-align: middle;\n",
              "    }\n",
              "\n",
              "    .dataframe tbody tr th {\n",
              "        vertical-align: top;\n",
              "    }\n",
              "\n",
              "    .dataframe thead th {\n",
              "        text-align: right;\n",
              "    }\n",
              "</style>\n",
              "<table border=\"1\" class=\"dataframe\">\n",
              "  <thead>\n",
              "    <tr style=\"text-align: right;\">\n",
              "      <th></th>\n",
              "      <th>Pclass</th>\n",
              "      <th>Age</th>\n",
              "      <th>SibSp</th>\n",
              "      <th>Parch</th>\n",
              "      <th>Name_title</th>\n",
              "      <th>T_MR</th>\n",
              "      <th>T_sex</th>\n",
              "      <th>T_embarked</th>\n",
              "      <th>T_family</th>\n",
              "      <th>Family_fare</th>\n",
              "      <th>T_Fare</th>\n",
              "      <th>Survived</th>\n",
              "    </tr>\n",
              "  </thead>\n",
              "  <tbody>\n",
              "    <tr>\n",
              "      <th>0</th>\n",
              "      <td>3</td>\n",
              "      <td>22</td>\n",
              "      <td>1</td>\n",
              "      <td>0</td>\n",
              "      <td>1</td>\n",
              "      <td>0</td>\n",
              "      <td>1</td>\n",
              "      <td>1</td>\n",
              "      <td>2</td>\n",
              "      <td>3.5</td>\n",
              "      <td>0</td>\n",
              "      <td>0</td>\n",
              "    </tr>\n",
              "    <tr>\n",
              "      <th>1</th>\n",
              "      <td>1</td>\n",
              "      <td>38</td>\n",
              "      <td>1</td>\n",
              "      <td>0</td>\n",
              "      <td>2</td>\n",
              "      <td>0</td>\n",
              "      <td>0</td>\n",
              "      <td>2</td>\n",
              "      <td>2</td>\n",
              "      <td>35.5</td>\n",
              "      <td>5</td>\n",
              "      <td>1</td>\n",
              "    </tr>\n",
              "    <tr>\n",
              "      <th>2</th>\n",
              "      <td>3</td>\n",
              "      <td>26</td>\n",
              "      <td>0</td>\n",
              "      <td>0</td>\n",
              "      <td>3</td>\n",
              "      <td>0</td>\n",
              "      <td>0</td>\n",
              "      <td>1</td>\n",
              "      <td>1</td>\n",
              "      <td>7.0</td>\n",
              "      <td>0</td>\n",
              "      <td>1</td>\n",
              "    </tr>\n",
              "    <tr>\n",
              "      <th>3</th>\n",
              "      <td>1</td>\n",
              "      <td>35</td>\n",
              "      <td>1</td>\n",
              "      <td>0</td>\n",
              "      <td>2</td>\n",
              "      <td>0</td>\n",
              "      <td>0</td>\n",
              "      <td>1</td>\n",
              "      <td>2</td>\n",
              "      <td>26.5</td>\n",
              "      <td>3</td>\n",
              "      <td>1</td>\n",
              "    </tr>\n",
              "    <tr>\n",
              "      <th>4</th>\n",
              "      <td>3</td>\n",
              "      <td>35</td>\n",
              "      <td>0</td>\n",
              "      <td>0</td>\n",
              "      <td>1</td>\n",
              "      <td>0</td>\n",
              "      <td>1</td>\n",
              "      <td>1</td>\n",
              "      <td>1</td>\n",
              "      <td>8.0</td>\n",
              "      <td>0</td>\n",
              "      <td>0</td>\n",
              "    </tr>\n",
              "  </tbody>\n",
              "</table>\n",
              "</div>"
            ],
            "text/plain": [
              "   Pclass  Age  SibSp  Parch  ...  T_family  Family_fare  T_Fare  Survived\n",
              "0       3   22      1      0  ...         2          3.5       0         0\n",
              "1       1   38      1      0  ...         2         35.5       5         1\n",
              "2       3   26      0      0  ...         1          7.0       0         1\n",
              "3       1   35      1      0  ...         2         26.5       3         1\n",
              "4       3   35      0      0  ...         1          8.0       0         0\n",
              "\n",
              "[5 rows x 12 columns]"
            ]
          },
          "metadata": {
            "tags": []
          },
          "execution_count": 179
        }
      ]
    },
    {
      "cell_type": "code",
      "metadata": {
        "colab": {
          "base_uri": "https://localhost:8080/",
          "height": 246
        },
        "id": "fossil-boating",
        "outputId": "b0ccd3dc-e970-47d8-c642-8565b93c08b2"
      },
      "source": [
        "sns.set()\n",
        "fig, axes = plt.subplots(ncols=2, figsize=(8, 3))\n",
        "ax = sns.histplot(temp[temp[\"T_sex\"]==1], x=\"Age\", hue=\"Survived\", element=\"step\", ax=axes[0])\n",
        "ax.set_title(\"male\")\n",
        "ax = sns.histplot(temp[temp[\"T_sex\"]==0], x=\"Age\", hue=\"Survived\", element=\"step\", ax=axes[1])\n",
        "ax.set_title(\"female\")\n",
        "plt.show()"
      ],
      "id": "fossil-boating",
      "execution_count": null,
      "outputs": [
        {
          "output_type": "display_data",
          "data": {
            "image/png": "[encoded data removed]",
            "text/plain": [
              "<Figure size 576x216 with 2 Axes>"
            ]
          },
          "metadata": {
            "tags": []
          }
        }
      ]
    },
    {
      "cell_type": "code",
      "metadata": {
        "id": "roman-partnership"
      },
      "source": [
        "# 0~17\n",
        "# 18~38\n",
        "# 39~60\n",
        "# 60~\n",
        "def age_bining(x) :  #df[\"Age\"]\n",
        "    T_Age = 0\n",
        "    if x>0 & x <= 17:\n",
        "        T_Age = 1\n",
        "    elif x>17 & x <= 38:\n",
        "        T_Age = 2\n",
        "    elif  x>38 & x <= 60:\n",
        "        T_Age = 3\n",
        "    else:\n",
        "        T_Age = 4\n",
        "    return  T_Age   \n",
        "train_X[\"T_Age\"] = train_X[\"Age\"].apply(lambda x : age_bining(x))\n",
        "test[\"T_Age\"] = test[\"Age\"].apply(lambda x : age_bining(x))"
      ],
      "id": "roman-partnership",
      "execution_count": null,
      "outputs": []
    },
    {
      "cell_type": "code",
      "metadata": {
        "colab": {
          "base_uri": "https://localhost:8080/"
        },
        "id": "certain-stockholm",
        "outputId": "8b728722-29d1-4a05-965e-49d8168cfd23"
      },
      "source": [
        "myfit(train_X, train_y, dt)  #0.787709 --> 0.782123"
      ],
      "id": "certain-stockholm",
      "execution_count": null,
      "outputs": [
        {
          "output_type": "stream",
          "text": [
            "Accuracy : 0.770950\n"
          ],
          "name": "stdout"
        }
      ]
    },
    {
      "cell_type": "code",
      "metadata": {
        "colab": {
          "base_uri": "https://localhost:8080/"
        },
        "id": "median-reputation",
        "outputId": "49529ce2-3ae6-45c9-d05c-37821c6e1853"
      },
      "source": [
        "train_X[\"T_Age\"] = train_X[\"Age\"].apply(lambda x : x//5)\n",
        "train_X[\"T_Age\"] = train_X[\"T_Age\"].astype(int)\n",
        "print(train_X[[\"T_Age\",\"Age\"]].head(8))"
      ],
      "id": "median-reputation",
      "execution_count": null,
      "outputs": [
        {
          "output_type": "stream",
          "text": [
            "   T_Age  Age\n",
            "0      4   22\n",
            "1      7   38\n",
            "2      5   26\n",
            "3      7   35\n",
            "4      7   35\n",
            "5      6   32\n",
            "6     10   54\n",
            "7      0    2\n"
          ],
          "name": "stdout"
        }
      ]
    },
    {
      "cell_type": "code",
      "metadata": {
        "colab": {
          "base_uri": "https://localhost:8080/"
        },
        "id": "normal-asset",
        "outputId": "8fc5511d-8810-4974-be44-62f712de5b03"
      },
      "source": [
        "myfit(train_X, train_y, dt)  #0.793296"
      ],
      "id": "normal-asset",
      "execution_count": null,
      "outputs": [
        {
          "output_type": "stream",
          "text": [
            "Accuracy : 0.776536\n"
          ],
          "name": "stdout"
        }
      ]
    },
    {
      "cell_type": "code",
      "metadata": {
        "id": "driven-drive"
      },
      "source": [
        "# train_X.drop([\"Age\"], inplace=True, axis=1)"
      ],
      "id": "driven-drive",
      "execution_count": null,
      "outputs": []
    },
    {
      "cell_type": "code",
      "metadata": {
        "colab": {
          "base_uri": "https://localhost:8080/"
        },
        "id": "funky-soviet",
        "outputId": "95050193-694e-4181-c0b3-ac064ca60e11"
      },
      "source": [
        "myfit(train_X, train_y, dt, 1)  #0.810056  //  0.815642"
      ],
      "id": "funky-soviet",
      "execution_count": null,
      "outputs": [
        {
          "output_type": "stream",
          "text": [
            "Accuracy : 0.782123\n",
            "                     4         1            9  ...          3           6     5\n",
            "featuer     Name_title       Age  Family_fare  ...      Parch       T_sex  T_MR\n",
            "importance     0.36475  0.208259     0.141305  ...  0.0048625  0.00432222     0\n",
            "\n",
            "[2 rows x 12 columns]\n"
          ],
          "name": "stdout"
        }
      ]
    },
    {
      "cell_type": "code",
      "metadata": {
        "colab": {
          "base_uri": "https://localhost:8080/"
        },
        "id": "reported-compilation",
        "outputId": "8fdd3a7b-0f9e-4fa8-d1a7-661c317d5d88"
      },
      "source": [
        "models = [dt,rf] #,lr,knn ]\n",
        "for model in models:\n",
        "    print(model.__class__)\n",
        "    myfit(train_X, train_y, model, 1)  #0.810056  //  0.815642"
      ],
      "id": "reported-compilation",
      "execution_count": null,
      "outputs": [
        {
          "output_type": "stream",
          "text": [
            "<class 'sklearn.tree._classes.DecisionTreeClassifier'>\n",
            "Accuracy : 0.770950\n",
            "                     4         1            9  ...           6         3     5\n",
            "featuer     Name_title       Age  Family_fare  ...       T_sex     Parch  T_MR\n",
            "importance    0.359888  0.164671     0.131294  ...  0.00432222  0.001945     0\n",
            "\n",
            "[2 rows x 12 columns]\n",
            "<class 'sklearn.ensemble._forest.RandomForestClassifier'>\n",
            "Accuracy : 0.826816\n",
            "                   6            9         1  ...          2          3     5\n",
            "featuer        T_sex  Family_fare       Age  ...      SibSp      Parch  T_MR\n",
            "importance  0.163209     0.163113  0.162516  ...  0.0315571  0.0167997     0\n",
            "\n",
            "[2 rows x 12 columns]\n"
          ],
          "name": "stdout"
        }
      ]
    },
    {
      "cell_type": "code",
      "metadata": {
        "id": "necessary-dominican"
      },
      "source": [
        "train_X[\"T_fare_per_one\"] = train_X[\"T_Fare\"] / train_X[\"T_family\"]\n",
        "test[\"T_fare_per_one\"] = test[\"T_Fare\"] / test[\"T_family\"]"
      ],
      "id": "necessary-dominican",
      "execution_count": null,
      "outputs": []
    },
    {
      "cell_type": "code",
      "metadata": {
        "colab": {
          "base_uri": "https://localhost:8080/"
        },
        "id": "resistant-fourth",
        "outputId": "cb897d6e-dd22-4892-a21c-fa77dd9b852c"
      },
      "source": [
        "myfit(train_X, train_y, model, 1)  #0.849162"
      ],
      "id": "resistant-fourth",
      "execution_count": null,
      "outputs": [
        {
          "output_type": "stream",
          "text": [
            "Accuracy : 0.826816\n",
            "                     4         1        6  ...          2          3     5\n",
            "featuer     Name_title       Age    T_sex  ...      SibSp      Parch  T_MR\n",
            "importance    0.175959  0.156881  0.14776  ...  0.0281991  0.0137904     0\n",
            "\n",
            "[2 rows x 13 columns]\n"
          ],
          "name": "stdout"
        }
      ]
    },
    {
      "cell_type": "code",
      "metadata": {
        "colab": {
          "base_uri": "https://localhost:8080/"
        },
        "id": "amino-homeless",
        "outputId": "f53289ba-c219-4e85-9c36-aa215565eddc"
      },
      "source": [
        "train_X[\"T_fare_per_one\"].nunique()"
      ],
      "id": "amino-homeless",
      "execution_count": null,
      "outputs": [
        {
          "output_type": "execute_result",
          "data": {
            "text/plain": [
              "36"
            ]
          },
          "metadata": {
            "tags": []
          },
          "execution_count": 190
        }
      ]
    },
    {
      "cell_type": "code",
      "metadata": {
        "id": "correct-slovak"
      },
      "source": [
        "train_X[\"T_fare_per_one\"] = (train_X[\"T_Fare\"] / train_X[\"T_family\"]).astype(int)\n",
        "test[\"T_fare_per_one\"]    = (test[\"T_Fare\"] / test[\"T_family\"]).astype(int)"
      ],
      "id": "correct-slovak",
      "execution_count": null,
      "outputs": []
    },
    {
      "cell_type": "code",
      "metadata": {
        "colab": {
          "base_uri": "https://localhost:8080/"
        },
        "id": "wooden-disclaimer",
        "outputId": "b16dca33-f51e-45d0-f902-6b668f8e70c1"
      },
      "source": [
        "train_X[\"T_fare_per_one\"].nunique()"
      ],
      "id": "wooden-disclaimer",
      "execution_count": null,
      "outputs": [
        {
          "output_type": "execute_result",
          "data": {
            "text/plain": [
              "15"
            ]
          },
          "metadata": {
            "tags": []
          },
          "execution_count": 192
        }
      ]
    },
    {
      "cell_type": "code",
      "metadata": {
        "colab": {
          "base_uri": "https://localhost:8080/"
        },
        "id": "drawn-generator",
        "outputId": "f0f9bdc5-a1cf-4be4-abe4-c7342b157cc1"
      },
      "source": [
        "train_X.info()"
      ],
      "id": "drawn-generator",
      "execution_count": null,
      "outputs": [
        {
          "output_type": "stream",
          "text": [
            "<class 'pandas.core.frame.DataFrame'>\n",
            "RangeIndex: 891 entries, 0 to 890\n",
            "Data columns (total 13 columns):\n",
            " #   Column          Non-Null Count  Dtype  \n",
            "---  ------          --------------  -----  \n",
            " 0   Pclass          891 non-null    int64  \n",
            " 1   Age             891 non-null    int32  \n",
            " 2   SibSp           891 non-null    int64  \n",
            " 3   Parch           891 non-null    int64  \n",
            " 4   Name_title      891 non-null    int64  \n",
            " 5   T_MR            891 non-null    int64  \n",
            " 6   T_sex           891 non-null    int64  \n",
            " 7   T_embarked      891 non-null    int64  \n",
            " 8   T_family        891 non-null    int64  \n",
            " 9   Family_fare     891 non-null    float64\n",
            " 10  T_Fare          891 non-null    int64  \n",
            " 11  T_Age           891 non-null    int64  \n",
            " 12  T_fare_per_one  891 non-null    int64  \n",
            "dtypes: float64(1), int32(1), int64(11)\n",
            "memory usage: 87.1 KB\n"
          ],
          "name": "stdout"
        }
      ]
    },
    {
      "cell_type": "code",
      "metadata": {
        "colab": {
          "base_uri": "https://localhost:8080/",
          "height": 377
        },
        "id": "divided-happening",
        "outputId": "94d83f02-6e7b-4055-c014-3c36e7b2177d"
      },
      "source": [
        "importances = pd.DataFrame({'feature':train_X.columns,'importance':np.round(rf.feature_importances_,3)})\n",
        "importances = importances.sort_values('importance',ascending=False).set_index('feature')\n",
        "importances.head(15).T\n",
        "importances.plot.bar()\n",
        "\n"
      ],
      "id": "divided-happening",
      "execution_count": null,
      "outputs": [
        {
          "output_type": "execute_result",
          "data": {
            "text/plain": [
              "<matplotlib.axes._subplots.AxesSubplot at 0x7f3bdaa46090>"
            ]
          },
          "metadata": {
            "tags": []
          },
          "execution_count": 194
        },
        {
          "output_type": "display_data",
          "data": {
            "image/png": "[encoded data removed]",
            "text/plain": [
              "<Figure size 432x288 with 1 Axes>"
            ]
          },
          "metadata": {
            "tags": []
          }
        }
      ]
    },
    {
      "cell_type": "code",
      "metadata": {
        "id": "accurate-gallery"
      },
      "source": [
        "train_X.drop(['T_MR'], axis=1, inplace=True)\n",
        "test.drop(['T_MR'], axis=1, inplace=True)"
      ],
      "id": "accurate-gallery",
      "execution_count": null,
      "outputs": []
    },
    {
      "cell_type": "code",
      "metadata": {
        "colab": {
          "base_uri": "https://localhost:8080/"
        },
        "id": "destroyed-scott",
        "outputId": "790e1219-c252-4f7d-aa65-613218021f6d"
      },
      "source": [
        "myfit(train_X, train_y, rf, 1)  #0.815642"
      ],
      "id": "destroyed-scott",
      "execution_count": null,
      "outputs": [
        {
          "output_type": "stream",
          "text": [
            "Accuracy : 0.804469\n",
            "                     4         1  ...          2         3\n",
            "featuer     Name_title       Age  ...      SibSp     Parch\n",
            "importance    0.179639  0.161359  ...  0.0295383  0.016309\n",
            "\n",
            "[2 rows x 12 columns]\n"
          ],
          "name": "stdout"
        }
      ]
    },
    {
      "cell_type": "markdown",
      "metadata": {
        "id": "breeding-trinidad"
      },
      "source": [
        "## Ensemble Model"
      ],
      "id": "breeding-trinidad"
    },
    {
      "cell_type": "markdown",
      "metadata": {
        "id": "unknown-congo"
      },
      "source": [
        "### 보팅 : VottingClassifier"
      ],
      "id": "unknown-congo"
    },
    {
      "cell_type": "code",
      "metadata": {
        "colab": {
          "base_uri": "https://localhost:8080/"
        },
        "id": "false-spectrum",
        "outputId": "6c1363b0-26ce-4924-bc4a-3cd5b80d753c"
      },
      "source": [
        "from sklearn.ensemble import VotingClassifier\n",
        "\n",
        "models = [('DT',dt), ('LR',lr), ('KNN',knn)]\n",
        "vot = VotingClassifier(models, voting='hard' )   # weights=None\n",
        "myfit(train_X, train_y, vot)   # 0.826816"
      ],
      "id": "false-spectrum",
      "execution_count": null,
      "outputs": [
        {
          "output_type": "stream",
          "text": [
            "Accuracy : 0.804469\n"
          ],
          "name": "stdout"
        }
      ]
    },
    {
      "cell_type": "code",
      "metadata": {
        "colab": {
          "base_uri": "https://localhost:8080/"
        },
        "id": "transparent-champagne",
        "outputId": "1efe9b06-5df5-405c-cfb3-d5e68d92f38b"
      },
      "source": [
        "models = [('DT',dt), ('LR',lr), ('KNN',knn)]\n",
        "for model in models:\n",
        "    print(model[0])\n",
        "    myfit(train_X, train_y, model[1])   "
      ],
      "id": "transparent-champagne",
      "execution_count": null,
      "outputs": [
        {
          "output_type": "stream",
          "text": [
            "DT\n",
            "Accuracy : 0.776536\n",
            "LR\n",
            "Accuracy : 0.810056\n",
            "KNN\n",
            "Accuracy : 0.782123\n"
          ],
          "name": "stdout"
        }
      ]
    },
    {
      "cell_type": "markdown",
      "metadata": {
        "id": "stable-border"
      },
      "source": [
        "### 배깅 : Vagging\n",
        "* 하이퍼파라미터 : 학습 후 예측결과에 영향을 끼치는 파라미터\n",
        "* 하이퍼파라미터 튜닝 : 파라미터 수치를 고치는 행위"
      ],
      "id": "stable-border"
    },
    {
      "cell_type": "code",
      "metadata": {
        "colab": {
          "base_uri": "https://localhost:8080/"
        },
        "id": "average-nigeria",
        "outputId": "8fe2806c-06d7-47a2-f4a8-65a28c9e3ef3"
      },
      "source": [
        "my_param = {\"n_estimators\":[100,300,500],\n",
        "            \"max_depth\":[1,2,3,4,5],\n",
        "            \"min_samples_split\":[1,2,3]\n",
        "            }\n",
        "bagg100 = RandomForestClassifier(n_estimators=100,max_depth=1)  #0.804469\n",
        "myfit(train_X, train_y, bagg100)"
      ],
      "id": "average-nigeria",
      "execution_count": null,
      "outputs": [
        {
          "output_type": "stream",
          "text": [
            "Accuracy : 0.804469\n"
          ],
          "name": "stdout"
        }
      ]
    },
    {
      "cell_type": "code",
      "metadata": {
        "colab": {
          "base_uri": "https://localhost:8080/"
        },
        "id": "logical-louisville",
        "outputId": "d8afb78c-d7ea-4c2f-97eb-6924914bf9d7"
      },
      "source": [
        "bagg = RandomForestClassifier(n_estimators=100,max_depth=10)  # 0.865922\n",
        "myfit(train_X, train_y, bagg)"
      ],
      "id": "logical-louisville",
      "execution_count": null,
      "outputs": [
        {
          "output_type": "stream",
          "text": [
            "Accuracy : 0.837989\n"
          ],
          "name": "stdout"
        }
      ]
    },
    {
      "cell_type": "code",
      "metadata": {
        "id": "acting-cursor"
      },
      "source": [
        "# 0.854749  0.849162 0.849162 0.854749  0.849162 0.849162 0.854749  0.849162 0.849162"
      ],
      "id": "acting-cursor",
      "execution_count": null,
      "outputs": []
    },
    {
      "cell_type": "code",
      "metadata": {
        "id": "alert-tuner"
      },
      "source": [
        ""
      ],
      "id": "alert-tuner",
      "execution_count": null,
      "outputs": []
    },
    {
      "cell_type": "code",
      "metadata": {
        "id": "norwegian-chamber"
      },
      "source": [
        ""
      ],
      "id": "norwegian-chamber",
      "execution_count": null,
      "outputs": []
    },
    {
      "cell_type": "code",
      "metadata": {
        "id": "innocent-anger"
      },
      "source": [
        ""
      ],
      "id": "innocent-anger",
      "execution_count": null,
      "outputs": []
    },
    {
      "cell_type": "markdown",
      "metadata": {
        "id": "threaded-polyester"
      },
      "source": [
        "# 검증"
      ],
      "id": "threaded-polyester"
    },
    {
      "cell_type": "markdown",
      "metadata": {
        "id": "virgin-causing"
      },
      "source": [
        "### KFold"
      ],
      "id": "virgin-causing"
    },
    {
      "cell_type": "code",
      "metadata": {
        "colab": {
          "base_uri": "https://localhost:8080/"
        },
        "id": "thick-essay",
        "outputId": "d498c2ad-b999-4ca5-9276-89fe45fadeaf"
      },
      "source": [
        "from sklearn.model_selection import KFold\n",
        "from sklearn.model_selection import StratifiedKFold\n",
        "\n",
        "N_SPLIT = 5\n",
        "# kfold = KFold(n_splits=5, shuffle=True, random_state=131)\n",
        "kfold = KFold(n_splits=N_SPLIT, shuffle=False)\n",
        "scores = []\n",
        "for train_index, test_index in kfold.split(train_X):  #-----------StratifiedKFold\n",
        "    print(\"TRAIN:\", len(train_index) , \"TEST:\", len(test_index))\n",
        "    X_train, X_test = train_X.iloc[train_index], train_X.iloc[test_index]\n",
        "    y_train, y_test = train_y.iloc[train_index], train_y.iloc[test_index]\n",
        "    bagg.fit(X_train, y_train)\n",
        "    pred = bagg.predict(X_test)\n",
        "    df_score = accuracy_score(y_test,pred)\n",
        "    scores.append(df_score)\n",
        "    print(\"Accuracy : {:.6f}\".format(df_score))\n",
        "print(\"{:d}회 평균 Accuracy:{:.4f}\".format(N_SPLIT, np.array(scores).mean()))   #0.8539"
      ],
      "id": "thick-essay",
      "execution_count": null,
      "outputs": [
        {
          "output_type": "stream",
          "text": [
            "TRAIN: 712 TEST: 179\n",
            "Accuracy : 0.815642\n",
            "TRAIN: 713 TEST: 178\n",
            "Accuracy : 0.808989\n",
            "TRAIN: 713 TEST: 178\n",
            "Accuracy : 0.853933\n",
            "TRAIN: 713 TEST: 178\n",
            "Accuracy : 0.814607\n",
            "TRAIN: 713 TEST: 178\n",
            "Accuracy : 0.859551\n",
            "5회 평균 Accuracy:0.8305\n"
          ],
          "name": "stdout"
        }
      ]
    },
    {
      "cell_type": "markdown",
      "metadata": {
        "id": "liberal-exhaust"
      },
      "source": [
        "### StratifiedKFold"
      ],
      "id": "liberal-exhaust"
    },
    {
      "cell_type": "code",
      "metadata": {
        "colab": {
          "base_uri": "https://localhost:8080/"
        },
        "id": "selected-decade",
        "outputId": "aee25ad8-8735-4af4-b95b-c98efeb308af"
      },
      "source": [
        "from sklearn.model_selection import StratifiedKFold\n",
        "skfold = StratifiedKFold(n_splits=5, shuffle=False)\n",
        "scores = []\n",
        "for train_index, test_index in skfold.split(train_X, train_y):\n",
        "    print(\"TRAIN:\", len(train_index) , \"TEST:\", len(test_index))\n",
        "    X_train, X_test = train_X.iloc[train_index], train_X.iloc[test_index]\n",
        "    y_train, y_test = train_y.iloc[train_index], train_y.iloc[test_index]\n",
        "    bagg.fit(X_train, y_train)\n",
        "    pred = bagg.predict(X_test)\n",
        "    df_score = accuracy_score(y_test,pred)\n",
        "    scores.append(df_score)\n",
        "    print(\"Accuracy : {:.6f}\".format(df_score))\n",
        "print(\"{:d}회 평균 Accuracy:{:.4f}\".format(N_SPLIT,  np.array(scores).mean()))   #0.8483"
      ],
      "id": "selected-decade",
      "execution_count": null,
      "outputs": [
        {
          "output_type": "stream",
          "text": [
            "TRAIN: 712 TEST: 179\n",
            "Accuracy : 0.821229\n",
            "TRAIN: 713 TEST: 178\n",
            "Accuracy : 0.797753\n",
            "TRAIN: 713 TEST: 178\n",
            "Accuracy : 0.859551\n",
            "TRAIN: 713 TEST: 178\n",
            "Accuracy : 0.814607\n",
            "TRAIN: 713 TEST: 178\n",
            "Accuracy : 0.853933\n",
            "5회 평균 Accuracy:0.8294\n"
          ],
          "name": "stdout"
        }
      ]
    },
    {
      "cell_type": "code",
      "metadata": {
        "id": "general-discipline"
      },
      "source": [
        "# train_X.to_csv(\"train_pre_data.csv\", index=False)"
      ],
      "id": "general-discipline",
      "execution_count": null,
      "outputs": []
    },
    {
      "cell_type": "markdown",
      "metadata": {
        "id": "handmade-trustee"
      },
      "source": [
        "## cross_val_score"
      ],
      "id": "handmade-trustee"
    },
    {
      "cell_type": "code",
      "metadata": {
        "id": "improved-madison"
      },
      "source": [
        "from sklearn.model_selection import cross_val_score"
      ],
      "id": "improved-madison",
      "execution_count": null,
      "outputs": []
    },
    {
      "cell_type": "code",
      "metadata": {
        "id": "defined-exploration"
      },
      "source": [
        "scores_list = cross_val_score(rf, train_X, train_y, cv=5, scoring=\"accuracy\")"
      ],
      "id": "defined-exploration",
      "execution_count": null,
      "outputs": []
    },
    {
      "cell_type": "code",
      "metadata": {
        "colab": {
          "base_uri": "https://localhost:8080/"
        },
        "id": "premier-acceptance",
        "outputId": "537e4818-15a5-462b-a2d3-f8255a4c6c60"
      },
      "source": [
        "print(scores_list)\n",
        "print(scores_list.mean())"
      ],
      "id": "premier-acceptance",
      "execution_count": null,
      "outputs": [
        {
          "output_type": "stream",
          "text": [
            "[0.80446927 0.79775281 0.85393258 0.78651685 0.82022472]\n",
            "0.8125792480070302\n"
          ],
          "name": "stdout"
        }
      ]
    },
    {
      "cell_type": "markdown",
      "metadata": {
        "id": "paperback-update"
      },
      "source": [
        "## GridSearchCV : 하이퍼파라미터 튜닝"
      ],
      "id": "paperback-update"
    },
    {
      "cell_type": "code",
      "metadata": {
        "id": "pregnant-cleaners"
      },
      "source": [
        "from sklearn.model_selection import GridSearchCV"
      ],
      "id": "pregnant-cleaners",
      "execution_count": null,
      "outputs": []
    },
    {
      "cell_type": "code",
      "metadata": {
        "id": "binary-october"
      },
      "source": [
        "my_param = {\"n_estimators\":[100,300,500],\n",
        "            \"max_depth\":[1,2,3,4,5],\n",
        "            \"min_samples_split\":[1,2,3]\n",
        "            }\n",
        "gcv = GridSearchCV(rf , param_grid=my_param, scoring='accuracy', refit=True, cv=5)\n",
        "#     rf = RandomForest(\"n_estimators\":100,  \"max_depth\"=4, \"min_samples_split\"=3)"
      ],
      "id": "binary-october",
      "execution_count": null,
      "outputs": []
    },
    {
      "cell_type": "code",
      "metadata": {
        "colab": {
          "base_uri": "https://localhost:8080/"
        },
        "id": "naked-watch",
        "outputId": "5570fb22-3c02-4b87-f5d2-5cb6a6bce73e"
      },
      "source": [
        "gcv.fit(train_X, train_y)"
      ],
      "id": "naked-watch",
      "execution_count": null,
      "outputs": [
        {
          "output_type": "execute_result",
          "data": {
            "text/plain": [
              "GridSearchCV(cv=5, error_score=nan,\n",
              "             estimator=RandomForestClassifier(bootstrap=True, ccp_alpha=0.0,\n",
              "                                              class_weight=None,\n",
              "                                              criterion='gini', max_depth=None,\n",
              "                                              max_features='auto',\n",
              "                                              max_leaf_nodes=None,\n",
              "                                              max_samples=None,\n",
              "                                              min_impurity_decrease=0.0,\n",
              "                                              min_impurity_split=None,\n",
              "                                              min_samples_leaf=1,\n",
              "                                              min_samples_split=2,\n",
              "                                              min_weight_fraction_leaf=0.0,\n",
              "                                              n_estimators=100, n_jobs=None,\n",
              "                                              oob_score=False,\n",
              "                                              random_state=None, verbose=0,\n",
              "                                              warm_start=False),\n",
              "             iid='deprecated', n_jobs=None,\n",
              "             param_grid={'max_depth': [1, 2, 3, 4, 5],\n",
              "                         'min_samples_split': [1, 2, 3],\n",
              "                         'n_estimators': [100, 300, 500]},\n",
              "             pre_dispatch='2*n_jobs', refit=True, return_train_score=False,\n",
              "             scoring='accuracy', verbose=0)"
            ]
          },
          "metadata": {
            "tags": []
          },
          "execution_count": 253
        }
      ]
    },
    {
      "cell_type": "code",
      "metadata": {
        "colab": {
          "base_uri": "https://localhost:8080/"
        },
        "id": "featured-fighter",
        "outputId": "dfb43e4c-d67e-4016-8a58-00ba5322f18c"
      },
      "source": [
        "print(gcv.cv_results_.keys())"
      ],
      "id": "featured-fighter",
      "execution_count": null,
      "outputs": [
        {
          "output_type": "stream",
          "text": [
            "dict_keys(['mean_fit_time', 'std_fit_time', 'mean_score_time', 'std_score_time', 'param_max_depth', 'param_min_samples_split', 'param_n_estimators', 'params', 'split0_test_score', 'split1_test_score', 'split2_test_score', 'split3_test_score', 'split4_test_score', 'mean_test_score', 'std_test_score', 'rank_test_score'])\n"
          ],
          "name": "stdout"
        }
      ]
    },
    {
      "cell_type": "code",
      "metadata": {
        "colab": {
          "base_uri": "https://localhost:8080/"
        },
        "id": "descending-denial",
        "outputId": "e00a0ae2-d329-4e27-b64f-7b33e698d174"
      },
      "source": [
        "print(gcv.cv_results_[\"mean_test_score\"])"
      ],
      "id": "descending-denial",
      "execution_count": null,
      "outputs": [
        {
          "output_type": "stream",
          "text": [
            "[       nan        nan        nan 0.77443977 0.7811939  0.76884063\n",
            " 0.7722428  0.77109409 0.7800703         nan        nan        nan\n",
            " 0.79913376 0.80473919 0.80699266 0.80362187 0.81255414 0.80362815\n",
            "        nan        nan        nan 0.82603729 0.82040675 0.82266022\n",
            " 0.8294018  0.82153663 0.82041303        nan        nan        nan\n",
            " 0.82603101 0.82491369 0.8282782  0.82716088 0.82827192 0.82714833\n",
            "        nan        nan        nan 0.8215429  0.82714833 0.82602473\n",
            " 0.82603101 0.8271546  0.82491369]\n"
          ],
          "name": "stdout"
        }
      ]
    },
    {
      "cell_type": "code",
      "metadata": {
        "colab": {
          "base_uri": "https://localhost:8080/"
        },
        "id": "nutritional-mountain",
        "outputId": "33c1be5d-bb12-4411-a623-ea57f2700b9b"
      },
      "source": [
        "print(gcv.best_score_)"
      ],
      "id": "nutritional-mountain",
      "execution_count": null,
      "outputs": [
        {
          "output_type": "stream",
          "text": [
            "0.8294017952419811\n"
          ],
          "name": "stdout"
        }
      ]
    },
    {
      "cell_type": "code",
      "metadata": {
        "colab": {
          "base_uri": "https://localhost:8080/"
        },
        "id": "everyday-gambling",
        "outputId": "7439d62f-d777-4036-e25e-8676d248de0f"
      },
      "source": [
        "print(gcv.best_params_)"
      ],
      "id": "everyday-gambling",
      "execution_count": null,
      "outputs": [
        {
          "output_type": "stream",
          "text": [
            "{'max_depth': 3, 'min_samples_split': 3, 'n_estimators': 100}\n"
          ],
          "name": "stdout"
        }
      ]
    },
    {
      "cell_type": "code",
      "metadata": {
        "id": "economic-explanation"
      },
      "source": [
        "pred_for_submit = gcv.predict(test)"
      ],
      "id": "economic-explanation",
      "execution_count": null,
      "outputs": []
    },
    {
      "cell_type": "code",
      "metadata": {
        "colab": {
          "base_uri": "https://localhost:8080/"
        },
        "id": "helpful-powder",
        "outputId": "8e35ba8d-7c7e-42f7-89d4-5c1f607c1cb4"
      },
      "source": [
        "print(pred_for_submit)"
      ],
      "id": "helpful-powder",
      "execution_count": null,
      "outputs": [
        {
          "output_type": "stream",
          "text": [
            "[0 1 0 0 1 0 1 0 1 0 0 0 1 0 1 1 0 0 1 1 0 1 1 0 1 0 1 0 0 0 0 0 1 1 0 0 1\n",
            " 1 0 0 0 0 0 1 1 0 0 0 1 1 0 0 1 1 0 0 0 0 0 1 0 0 0 1 1 1 1 0 0 1 1 0 1 0\n",
            " 1 0 0 1 0 1 1 0 0 0 0 0 1 1 1 1 1 0 1 0 0 0 1 0 1 0 1 0 0 0 1 0 0 0 0 0 0\n",
            " 1 1 1 1 0 0 1 0 1 1 0 1 0 0 1 0 1 0 0 0 1 0 0 0 0 0 0 1 0 0 1 0 0 0 0 0 0\n",
            " 0 1 1 0 0 1 0 0 1 1 0 1 1 1 1 0 0 1 0 0 1 1 0 0 0 0 0 1 1 0 1 1 0 0 1 0 1\n",
            " 0 1 0 0 0 0 0 0 0 1 0 1 1 0 1 1 0 1 1 0 0 1 0 1 0 0 0 0 1 0 0 1 0 1 0 1 0\n",
            " 1 0 1 1 0 1 0 0 0 1 0 0 0 0 0 0 1 1 1 1 0 0 1 0 1 0 1 1 1 0 0 0 0 0 0 0 1\n",
            " 0 0 0 1 1 0 0 0 0 1 0 0 0 1 1 0 1 0 0 0 0 1 0 1 1 1 0 0 0 0 0 0 1 0 1 0 0\n",
            " 1 0 0 0 0 0 0 0 1 1 0 0 0 1 0 0 0 1 1 1 0 0 0 0 0 0 0 0 1 0 1 0 0 0 1 0 0\n",
            " 1 0 0 0 0 0 1 0 0 0 1 1 1 0 1 0 1 1 0 0 0 1 0 1 0 0 1 0 1 1 0 1 0 0 1 1 0\n",
            " 0 1 0 0 1 1 1 0 0 0 0 0 1 1 0 1 0 0 0 0 0 1 0 0 0 1 0 1 0 0 1 0 1 0 0 0 0\n",
            " 0 1 1 1 1 1 0 1 0 0 1]\n"
          ],
          "name": "stdout"
        }
      ]
    },
    {
      "cell_type": "code",
      "metadata": {
        "id": "negative-canberra"
      },
      "source": [
        "sub_df.head()"
      ],
      "id": "negative-canberra",
      "execution_count": null,
      "outputs": []
    },
    {
      "cell_type": "markdown",
      "metadata": {
        "id": "modern-somalia"
      },
      "source": [
        "### 밥벙1 : gender_submission.csv"
      ],
      "id": "modern-somalia"
    },
    {
      "cell_type": "code",
      "metadata": {
        "id": "killing-berkeley"
      },
      "source": [
        "print(sub_df.shape,  len(pred_for_submit))\n",
        "sub_df[\"Survived\"] = np.array(pred_for_submit).reshape(-1,1)\n",
        "print(sub_df.head())"
      ],
      "id": "killing-berkeley",
      "execution_count": null,
      "outputs": []
    },
    {
      "cell_type": "markdown",
      "metadata": {
        "id": "numerical-clearing"
      },
      "source": [
        "### 밥벙2 : lkh_submission.csv"
      ],
      "id": "numerical-clearing"
    },
    {
      "cell_type": "code",
      "metadata": {
        "id": "ranking-audit"
      },
      "source": [
        "mydic = {\"PassengerId\" : sub_df[\"PassengerId\"].values,\n",
        " \"Survived\" : pred_for_submit }\n",
        "\n",
        "final_df = pd.DataFrame(mydic)\n",
        "final_df.head()"
      ],
      "id": "ranking-audit",
      "execution_count": null,
      "outputs": []
    },
    {
      "cell_type": "code",
      "metadata": {
        "id": "right-shareware"
      },
      "source": [
        "final_df.to_csv(\"lkh_submission.csv\", index=False)"
      ],
      "id": "right-shareware",
      "execution_count": null,
      "outputs": []
    },
    {
      "cell_type": "code",
      "metadata": {
        "id": "organic-sapphire"
      },
      "source": [
        "# 892 ~ 1309"
      ],
      "id": "organic-sapphire",
      "execution_count": null,
      "outputs": []
    },
    {
      "cell_type": "code",
      "metadata": {
        "id": "chemical-discussion",
        "outputId": "2e0ac3d7-150b-4dad-867c-20f423e68355"
      },
      "source": [
        "mypredict = np.zeros(sub_df.shape[0]).astype(int)\n",
        "sub_df[\"Survived\"] = np.array(mypredict).reshape(-1,1)\n",
        "print(sub_df.head())\n",
        "sub_df.to_csv(\"zeros_submission.csv\", index=False)\n",
        "\n",
        "mypredict = np.ones(sub_df.shape[0]).astype(int)\n",
        "sub_df[\"Survived\"] = np.array(mypredict).reshape(-1,1)\n",
        "print(sub_df.head())\n",
        "sub_df.to_csv(\"ones_submission.csv\", index=False)"
      ],
      "id": "chemical-discussion",
      "execution_count": null,
      "outputs": [
        {
          "output_type": "stream",
          "text": [
            "   PassengerId  Survived\n",
            "0          892         0\n",
            "1          893         0\n",
            "2          894         0\n",
            "3          895         0\n",
            "4          896         0\n",
            "   PassengerId  Survived\n",
            "0          892         1\n",
            "1          893         1\n",
            "2          894         1\n",
            "3          895         1\n",
            "4          896         1\n"
          ],
          "name": "stdout"
        }
      ]
    },
    {
      "cell_type": "code",
      "metadata": {
        "id": "secure-administration"
      },
      "source": [
        ""
      ],
      "id": "secure-administration",
      "execution_count": null,
      "outputs": []
    },
    {
      "cell_type": "code",
      "metadata": {
        "id": "intended-melbourne"
      },
      "source": [
        ""
      ],
      "id": "intended-melbourne",
      "execution_count": null,
      "outputs": []
    },
    {
      "cell_type": "code",
      "metadata": {
        "id": "stopped-divide"
      },
      "source": [
        "# install-url : https://gitlab.com/graphviz/graphviz/-/package_files/8184046/download\n",
        "# system path : ~/bin/dot.exe\n",
        "# from sklearn.tree import export_graphviz\n",
        "# import graphviz\n",
        "# export_graphviz(dt, out_file=\"tree.dot\", class_names=\"Survived\", feature_names = train_X.columns)\n",
        "# with open(\"tree.dot\") as f:\n",
        "#     dot_graph = f.read()\n",
        "# graphviz.Source(dot_graph)"
      ],
      "id": "stopped-divide",
      "execution_count": null,
      "outputs": []
    },
    {
      "cell_type": "code",
      "metadata": {
        "id": "documented-constitution"
      },
      "source": [
        "# train_X['Age_Class']= train_X['Age']* train_X['Pclass']"
      ],
      "id": "documented-constitution",
      "execution_count": null,
      "outputs": []
    },
    {
      "cell_type": "code",
      "metadata": {
        "id": "outstanding-knight"
      },
      "source": [
        "# rf = RandomForestClassifier(n_estimators=100)\n",
        "# myfit(train_X, train_y, rf, 1)  #0.843575"
      ],
      "id": "outstanding-knight",
      "execution_count": null,
      "outputs": []
    },
    {
      "cell_type": "code",
      "metadata": {
        "id": "colonial-profit"
      },
      "source": [
        "# importances = pd.DataFrame({'feature':train_X.columns,'importance':np.round(rf.feature_importances_,3)})\n",
        "# importances = importances.sort_values('importance',ascending=False).set_index('feature')\n",
        "# importances.head(15).T\n",
        "# importances.plot.bar()"
      ],
      "id": "colonial-profit",
      "execution_count": null,
      "outputs": []
    },
    {
      "cell_type": "code",
      "metadata": {
        "id": "periodic-effect"
      },
      "source": [
        "# train_X.head()"
      ],
      "id": "periodic-effect",
      "execution_count": null,
      "outputs": []
    },
    {
      "cell_type": "code",
      "metadata": {
        "id": "hybrid-rachel"
      },
      "source": [
        "# param_grid = { \"criterion\" : [\"gini\", \"entropy\"], \"min_samples_leaf\" : [1, 5, 10, 25, 50, 70], \"min_samples_split\" : [2, 4, 10, 12, 16, 18, 25, 35], \"n_estimators\": [100, 400, 700, 1000, 1500]}\n",
        "# from sklearn.model_selection import GridSearchCV, cross_val_score\n",
        "# rf = RandomForestClassifier(n_estimators=100, max_features='auto', oob_score=True, random_state=1, n_jobs=-1)\n",
        "# clf = GridSearchCV(estimator=rf, param_grid=param_grid, n_jobs=-1)\n",
        "# clf.fit(train_X, train_y)\n",
        "# clf.best_score_"
      ],
      "id": "hybrid-rachel",
      "execution_count": null,
      "outputs": []
    },
    {
      "cell_type": "markdown",
      "metadata": {
        "id": "aGOuqlw9D1zf"
      },
      "source": [
        "## 딥러닝"
      ],
      "id": "aGOuqlw9D1zf"
    },
    {
      "cell_type": "code",
      "metadata": {
        "id": "Ny19SrFG7fzd"
      },
      "source": [
        "# library\n",
        "from keras.models import Sequential\n",
        "from keras.layers import Dense\n",
        "from keras.callbacks import ModelCheckpoint, EarlyStopping\n",
        "\n",
        "import pandas as pd\n",
        "import numpy as np\n",
        "import matplotlib.pyplot as plt\n",
        "import tensorflow as tf\n",
        "from sklearn.model_selection import train_test_split\n",
        "\n",
        "\n",
        "import warnings\n",
        "warnings.filterwarnings(action='ignore')\n",
        "\n",
        "## Early stop\n",
        "fpath = \"./model/titanic {epoch:02d}{val_loss:.3f}.h5\"\n",
        "checkpnt= ModelCheckpoint(filepath=fpath, monitor='val_loss',verbose=0, save_best_only=True)\n",
        "estop = EarlyStopping(monitor = 'val_loss', patience= 10)\n",
        "\n",
        "## seed 설정\n",
        "\n",
        "np.random.seed(121)\n",
        "tf.random.set_seed(121)\n",
        "\n"
      ],
      "id": "Ny19SrFG7fzd",
      "execution_count": null,
      "outputs": []
    },
    {
      "cell_type": "code",
      "metadata": {
        "id": "3_WJRY3c7lVM"
      },
      "source": [
        "## model 설계\n",
        "\n",
        "model = Sequential()\n",
        "model.add(Dense(units=128, input_dim= 10, activation='relu'))\n",
        "model.add(Dense(units=64,  activation='relu'))\n",
        "# model.add(Dense(units=4 ,             activation='relu'))\n",
        "model.add(Dense(units=2 ,             activation='sigmoid'))  #multi\n",
        "model.compile(loss='binary_crossentropy',optimizer='adam',metrics=['accuracy'])\n"
      ],
      "id": "3_WJRY3c7lVM",
      "execution_count": null,
      "outputs": []
    },
    {
      "cell_type": "code",
      "metadata": {
        "colab": {
          "base_uri": "https://localhost:8080/"
        },
        "id": "qqBMGawT7snH",
        "outputId": "a4fc3c14-f714-464d-dffb-cb6213349a3d"
      },
      "source": [
        "## model 적용\n",
        "X = train.drop(\"Survived\", axis=1)\n",
        "y = train[\"Survived\"]\n",
        "\n",
        "y_oh = tf.keras.utils.to_categorical(y)\n",
        "\n",
        "\n",
        "X_train,X_test,y_train,y_test = train_test_split(X, y_oh, test_size=0.2, random_state=160)\n",
        "\n",
        "res = model.fit(X_train, y_train, epochs=50,\n",
        "                validation_split=0.1\n",
        "                # validation_data=(X_test,y_test),\n",
        "                , callbacks= [checkpnt, estop]\n",
        "                )\n",
        "\n",
        "pred = model.predict(X_test)  #2class sigmoid\n",
        "eval = model.evaluate(X_test, y_test)\n",
        "print(eval)\n",
        "# print(f'loss:{eval[0]}   acc::{eval[1]}')\n"
      ],
      "id": "qqBMGawT7snH",
      "execution_count": null,
      "outputs": [
        {
          "output_type": "stream",
          "text": [
            "Epoch 1/50\n",
            "20/20 [==============================] - 0s 8ms/step - loss: 0.3522 - accuracy: 0.8469 - val_loss: 0.7305 - val_accuracy: 0.7917\n",
            "Epoch 2/50\n",
            "20/20 [==============================] - 0s 5ms/step - loss: 0.3442 - accuracy: 0.8516 - val_loss: 0.7779 - val_accuracy: 0.7222\n",
            "Epoch 3/50\n",
            "20/20 [==============================] - 0s 5ms/step - loss: 0.3515 - accuracy: 0.8453 - val_loss: 0.7720 - val_accuracy: 0.7500\n",
            "Epoch 4/50\n",
            "20/20 [==============================] - 0s 5ms/step - loss: 0.3680 - accuracy: 0.8328 - val_loss: 0.7585 - val_accuracy: 0.7778\n",
            "Epoch 5/50\n",
            "20/20 [==============================] - 0s 5ms/step - loss: 0.3350 - accuracy: 0.8500 - val_loss: 0.7647 - val_accuracy: 0.7639\n",
            "Epoch 6/50\n",
            "20/20 [==============================] - 0s 5ms/step - loss: 0.3422 - accuracy: 0.8609 - val_loss: 0.7633 - val_accuracy: 0.7778\n",
            "Epoch 7/50\n",
            "20/20 [==============================] - 0s 5ms/step - loss: 0.3451 - accuracy: 0.8469 - val_loss: 0.7626 - val_accuracy: 0.7361\n",
            "Epoch 8/50\n",
            "20/20 [==============================] - 0s 5ms/step - loss: 0.3526 - accuracy: 0.8484 - val_loss: 0.7815 - val_accuracy: 0.7639\n",
            "Epoch 9/50\n",
            "20/20 [==============================] - 0s 4ms/step - loss: 0.3374 - accuracy: 0.8578 - val_loss: 0.7529 - val_accuracy: 0.8056\n",
            "Epoch 10/50\n",
            "20/20 [==============================] - 0s 4ms/step - loss: 0.3378 - accuracy: 0.8562 - val_loss: 0.7481 - val_accuracy: 0.8194\n",
            "Epoch 11/50\n",
            "20/20 [==============================] - 0s 4ms/step - loss: 0.3381 - accuracy: 0.8594 - val_loss: 0.7608 - val_accuracy: 0.7639\n",
            "Epoch 12/50\n",
            "20/20 [==============================] - 0s 4ms/step - loss: 0.3399 - accuracy: 0.8562 - val_loss: 0.7974 - val_accuracy: 0.7222\n",
            "Epoch 13/50\n",
            "20/20 [==============================] - 0s 4ms/step - loss: 0.3337 - accuracy: 0.8609 - val_loss: 0.7557 - val_accuracy: 0.8056\n",
            "Epoch 14/50\n",
            "20/20 [==============================] - 0s 4ms/step - loss: 0.3329 - accuracy: 0.8734 - val_loss: 0.7854 - val_accuracy: 0.7778\n",
            "Epoch 15/50\n",
            "20/20 [==============================] - 0s 4ms/step - loss: 0.3514 - accuracy: 0.8547 - val_loss: 0.8078 - val_accuracy: 0.7778\n",
            "Epoch 16/50\n",
            "20/20 [==============================] - 0s 4ms/step - loss: 0.3480 - accuracy: 0.8469 - val_loss: 0.7769 - val_accuracy: 0.7639\n",
            "Epoch 17/50\n",
            "20/20 [==============================] - 0s 4ms/step - loss: 0.3400 - accuracy: 0.8531 - val_loss: 0.8231 - val_accuracy: 0.7361\n",
            "Epoch 18/50\n",
            "20/20 [==============================] - 0s 4ms/step - loss: 0.3543 - accuracy: 0.8469 - val_loss: 0.7979 - val_accuracy: 0.7917\n",
            "Epoch 19/50\n",
            "20/20 [==============================] - 0s 5ms/step - loss: 0.3441 - accuracy: 0.8594 - val_loss: 0.7728 - val_accuracy: 0.8333\n",
            "Epoch 20/50\n",
            "20/20 [==============================] - 0s 5ms/step - loss: 0.3374 - accuracy: 0.8547 - val_loss: 0.7776 - val_accuracy: 0.8333\n",
            "Epoch 21/50\n",
            "20/20 [==============================] - 0s 5ms/step - loss: 0.3387 - accuracy: 0.8438 - val_loss: 0.8265 - val_accuracy: 0.7917\n",
            "Epoch 22/50\n",
            "20/20 [==============================] - 0s 5ms/step - loss: 0.3421 - accuracy: 0.8453 - val_loss: 0.8217 - val_accuracy: 0.7917\n",
            "Epoch 23/50\n",
            "20/20 [==============================] - 0s 5ms/step - loss: 0.3371 - accuracy: 0.8547 - val_loss: 0.7776 - val_accuracy: 0.8194\n",
            "Epoch 24/50\n",
            "20/20 [==============================] - 0s 5ms/step - loss: 0.3409 - accuracy: 0.8562 - val_loss: 0.7928 - val_accuracy: 0.8056\n",
            "Epoch 25/50\n",
            "20/20 [==============================] - 0s 5ms/step - loss: 0.3339 - accuracy: 0.8516 - val_loss: 0.7988 - val_accuracy: 0.7917\n",
            "Epoch 26/50\n",
            "20/20 [==============================] - 0s 4ms/step - loss: 0.3387 - accuracy: 0.8578 - val_loss: 0.8114 - val_accuracy: 0.7361\n",
            "Epoch 27/50\n",
            "20/20 [==============================] - 0s 5ms/step - loss: 0.3482 - accuracy: 0.8500 - val_loss: 0.8043 - val_accuracy: 0.7917\n",
            "Epoch 28/50\n",
            "20/20 [==============================] - 0s 5ms/step - loss: 0.3331 - accuracy: 0.8594 - val_loss: 0.8249 - val_accuracy: 0.8056\n",
            "Epoch 29/50\n",
            "20/20 [==============================] - 0s 4ms/step - loss: 0.3373 - accuracy: 0.8547 - val_loss: 0.8177 - val_accuracy: 0.7917\n",
            "Epoch 30/50\n",
            "20/20 [==============================] - 0s 5ms/step - loss: 0.3232 - accuracy: 0.8594 - val_loss: 0.8567 - val_accuracy: 0.7917\n",
            "Epoch 31/50\n",
            "20/20 [==============================] - 0s 5ms/step - loss: 0.3308 - accuracy: 0.8562 - val_loss: 0.8260 - val_accuracy: 0.7778\n",
            "Epoch 32/50\n",
            "20/20 [==============================] - 0s 4ms/step - loss: 0.3238 - accuracy: 0.8656 - val_loss: 0.8467 - val_accuracy: 0.7500\n",
            "Epoch 33/50\n",
            "20/20 [==============================] - 0s 4ms/step - loss: 0.3346 - accuracy: 0.8594 - val_loss: 0.8357 - val_accuracy: 0.8194\n",
            "Epoch 34/50\n",
            "20/20 [==============================] - 0s 4ms/step - loss: 0.3576 - accuracy: 0.8531 - val_loss: 0.8219 - val_accuracy: 0.7917\n",
            "Epoch 35/50\n",
            "20/20 [==============================] - 0s 4ms/step - loss: 0.3322 - accuracy: 0.8609 - val_loss: 0.8392 - val_accuracy: 0.7500\n",
            "Epoch 36/50\n",
            "20/20 [==============================] - 0s 4ms/step - loss: 0.3363 - accuracy: 0.8562 - val_loss: 0.8307 - val_accuracy: 0.7639\n",
            "Epoch 37/50\n",
            "20/20 [==============================] - 0s 4ms/step - loss: 0.3365 - accuracy: 0.8484 - val_loss: 0.9254 - val_accuracy: 0.7083\n",
            "Epoch 38/50\n",
            "20/20 [==============================] - 0s 5ms/step - loss: 0.3515 - accuracy: 0.8516 - val_loss: 0.8430 - val_accuracy: 0.7917\n",
            "Epoch 39/50\n",
            "20/20 [==============================] - 0s 4ms/step - loss: 0.3276 - accuracy: 0.8547 - val_loss: 0.8542 - val_accuracy: 0.7361\n",
            "Epoch 40/50\n",
            "20/20 [==============================] - 0s 4ms/step - loss: 0.3278 - accuracy: 0.8547 - val_loss: 0.8324 - val_accuracy: 0.7917\n",
            "Epoch 41/50\n",
            "20/20 [==============================] - 0s 4ms/step - loss: 0.3231 - accuracy: 0.8594 - val_loss: 0.8465 - val_accuracy: 0.8333\n",
            "Epoch 42/50\n",
            "20/20 [==============================] - 0s 4ms/step - loss: 0.3379 - accuracy: 0.8547 - val_loss: 0.8367 - val_accuracy: 0.7917\n",
            "Epoch 43/50\n",
            "20/20 [==============================] - 0s 4ms/step - loss: 0.3320 - accuracy: 0.8469 - val_loss: 0.9085 - val_accuracy: 0.7778\n",
            "Epoch 44/50\n",
            "20/20 [==============================] - 0s 4ms/step - loss: 0.3774 - accuracy: 0.8531 - val_loss: 1.0382 - val_accuracy: 0.7639\n",
            "Epoch 45/50\n",
            "20/20 [==============================] - 0s 4ms/step - loss: 0.4755 - accuracy: 0.8422 - val_loss: 0.8902 - val_accuracy: 0.7778\n",
            "Epoch 46/50\n",
            "20/20 [==============================] - 0s 4ms/step - loss: 0.3342 - accuracy: 0.8609 - val_loss: 0.8949 - val_accuracy: 0.7917\n",
            "Epoch 47/50\n",
            "20/20 [==============================] - 0s 4ms/step - loss: 0.3225 - accuracy: 0.8562 - val_loss: 0.8530 - val_accuracy: 0.8194\n",
            "Epoch 48/50\n",
            "20/20 [==============================] - 0s 4ms/step - loss: 0.3242 - accuracy: 0.8656 - val_loss: 0.9066 - val_accuracy: 0.7222\n",
            "Epoch 49/50\n",
            "20/20 [==============================] - 0s 4ms/step - loss: 0.3371 - accuracy: 0.8453 - val_loss: 0.8693 - val_accuracy: 0.7778\n",
            "Epoch 50/50\n",
            "20/20 [==============================] - 0s 4ms/step - loss: 0.3192 - accuracy: 0.8672 - val_loss: 0.8751 - val_accuracy: 0.7778\n",
            "6/6 [==============================] - 0s 2ms/step - loss: 0.5476 - accuracy: 0.8436\n",
            "[0.5476305484771729, 0.8435754179954529]\n"
          ],
          "name": "stdout"
        }
      ]
    },
    {
      "cell_type": "code",
      "metadata": {
        "colab": {
          "base_uri": "https://localhost:8080/",
          "height": 338
        },
        "id": "M69f4LRm71VN",
        "outputId": "836206ca-9539-41dd-81e7-c48e98f5a739"
      },
      "source": [
        "## 그래프\n",
        "plt.figure(figsize=(8,5))\n",
        "plt.subplot(1,2,1)\n",
        "plt.plot(res.history['loss'], label='loss')\n",
        "plt.plot(res.history['val_loss'], label='vloss')\n",
        "plt.title(\"loss\")\n",
        "plt.subplot(1,2,2)\n",
        "plt.plot(res.history['accuracy'], label='acc')\n",
        "plt.plot(res.history['val_accuracy'], label='vacc')\n",
        "plt.title(\"accuracy\")\n",
        "plt.legend()\n",
        "plt.show()"
      ],
      "id": "M69f4LRm71VN",
      "execution_count": null,
      "outputs": [
        {
          "output_type": "display_data",
          "data": {
            "image/png": "[encoded data removed]",
            "text/plain": [
              "<Figure size 576x360 with 2 Axes>"
            ]
          },
          "metadata": {
            "tags": []
          }
        }
      ]
    },
    {
      "cell_type": "code",
      "metadata": {
        "id": "LefLmHdk_LsK"
      },
      "source": [
        "# import os\n",
        "# dir = \"./house_price\"\n",
        "# file_list = os.listdir(dir)\n",
        "# for file in file_list:\n",
        "#   file_path = dir+\"/\"+file\n",
        "#   os.remove(file_path)\n",
        "os.rmdir(dir)"
      ],
      "id": "LefLmHdk_LsK",
      "execution_count": null,
      "outputs": []
    },
    {
      "cell_type": "code",
      "metadata": {
        "id": "5viPgJf4ANQP"
      },
      "source": [
        ""
      ],
      "id": "5viPgJf4ANQP",
      "execution_count": null,
      "outputs": []
    }
  ]
}