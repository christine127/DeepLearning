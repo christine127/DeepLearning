{
  "nbformat": 4,
  "nbformat_minor": 0,
  "metadata": {
    "language_info": {
      "codemirror_mode": {
        "name": "ipython",
        "version": 3
      },
      "file_extension": ".py",
      "mimetype": "text/x-python",
      "name": "python",
      "nbconvert_exporter": "python",
      "pygments_lexer": "ipython3",
      "version": "3.8.5"
    },
    "orig_nbformat": 2,
    "kernelspec": {
      "name": "python385jvsc74a57bd097ae724bfa85b9b34df7982b8bb8c7216f435b92902d749e4263f71162bea840",
      "display_name": "Python 3.8.5 64-bit ('base': conda)"
    },
    "colab": {
      "name": "housing_price_kaggle(ML+DL).ipynb",
      "provenance": [],
      "collapsed_sections": [],
      "include_colab_link": true
    }
  },
  "cells": [
    {
      "cell_type": "markdown",
      "metadata": {
        "id": "view-in-github",
        "colab_type": "text"
      },
      "source": [
        "<a href=\"https://colab.research.google.com/github/christine127/DeepLearning/blob/main/housing_price_kaggle(ML%2BDL).ipynb\" target=\"_parent\"><img src=\"https://colab.research.google.com/assets/colab-badge.svg\" alt=\"Open In Colab\"/></a>"
      ]
    },
    {
      "cell_type": "code",
      "metadata": {
        "id": "imc8PRyFHMkk"
      },
      "source": [
        "import numpy as np\n",
        "import pandas as pd\n",
        "import seaborn as sns\n",
        "import matplotlib.pyplot as plt\n",
        "import warnings\n",
        "warnings.filterwarnings(action='ignore')\n",
        "\n",
        "from sklearn.model_selection import train_test_split\n",
        "from sklearn.preprocessing import StandardScaler\n",
        "from sklearn.linear_model import LinearRegression\n",
        "from sklearn.metrics import mean_squared_error\n",
        "from sklearn.model_selection import GridSearchCV, cross_val_score, KFold, cross_validate\n"
      ],
      "execution_count": null,
      "outputs": []
    },
    {
      "cell_type": "markdown",
      "metadata": {
        "id": "wtEOasAjHMkm"
      },
      "source": [
        "# 1. Defining the problem statement\n",
        "Look at each variable and do a philosophical analysis about their meaning and importance for this problem."
      ]
    },
    {
      "cell_type": "markdown",
      "metadata": {
        "id": "jGQN0rHXHMkn"
      },
      "source": [
        "# 2. Collecting Data"
      ]
    },
    {
      "cell_type": "code",
      "metadata": {
        "id": "WkbD8ELzHMkn"
      },
      "source": [
        "dataset = pd.read_csv(\"/content/house_price/train.csv\")\n",
        "df =dataset.copy()\n",
        "test = pd.read_csv('/content/house_price/test.csv')\n",
        "sub_df = pd.read_csv('/content/house_price/sample_submission.csv')"
      ],
      "execution_count": null,
      "outputs": []
    },
    {
      "cell_type": "code",
      "metadata": {
        "id": "GTwM4tIOHMkn"
      },
      "source": [
        "train_test = pd.concat([df,test])"
      ],
      "execution_count": null,
      "outputs": []
    },
    {
      "cell_type": "code",
      "metadata": {
        "id": "5loMgLwyHMko"
      },
      "source": [
        "# X_df = dataset.iloc[:, :-1]\n",
        "# y_df = dataset.iloc[:,-1]\n",
        "\n",
        "# X_train , X_val, y_train, y_val = train_test_split(X_df, y_df, test_size=0.2, shuffle = True,random_state=121)\n",
        "# print(X_train.shape, X_val.shape, y_train.shape, y_val.shape)\n"
      ],
      "execution_count": null,
      "outputs": []
    },
    {
      "cell_type": "markdown",
      "metadata": {
        "id": "FoN-gIiBHMko"
      },
      "source": [
        "# 3. EDA(Exploratory Data Analysis) & Data Preprocessing\n"
      ]
    },
    {
      "cell_type": "code",
      "metadata": {
        "colab": {
          "base_uri": "https://localhost:8080/"
        },
        "id": "BiAfKlgqHMko",
        "outputId": "5020f654-8374-4d07-8521-135f1e821d41"
      },
      "source": [
        "dataset.shape"
      ],
      "execution_count": null,
      "outputs": [
        {
          "output_type": "execute_result",
          "data": {
            "text/plain": [
              "(1460, 81)"
            ]
          },
          "metadata": {
            "tags": []
          },
          "execution_count": 5
        }
      ]
    },
    {
      "cell_type": "code",
      "metadata": {
        "colab": {
          "base_uri": "https://localhost:8080/"
        },
        "id": "fSe4L3KMHMkp",
        "outputId": "a086dfa5-6648-44a3-edf1-99907292552e"
      },
      "source": [
        "dataset.info()"
      ],
      "execution_count": null,
      "outputs": [
        {
          "output_type": "stream",
          "text": [
            "<class 'pandas.core.frame.DataFrame'>\n",
            "RangeIndex: 1460 entries, 0 to 1459\n",
            "Data columns (total 81 columns):\n",
            " #   Column         Non-Null Count  Dtype  \n",
            "---  ------         --------------  -----  \n",
            " 0   Id             1460 non-null   int64  \n",
            " 1   MSSubClass     1460 non-null   int64  \n",
            " 2   MSZoning       1460 non-null   object \n",
            " 3   LotFrontage    1201 non-null   float64\n",
            " 4   LotArea        1460 non-null   int64  \n",
            " 5   Street         1460 non-null   object \n",
            " 6   Alley          91 non-null     object \n",
            " 7   LotShape       1460 non-null   object \n",
            " 8   LandContour    1460 non-null   object \n",
            " 9   Utilities      1460 non-null   object \n",
            " 10  LotConfig      1460 non-null   object \n",
            " 11  LandSlope      1460 non-null   object \n",
            " 12  Neighborhood   1460 non-null   object \n",
            " 13  Condition1     1460 non-null   object \n",
            " 14  Condition2     1460 non-null   object \n",
            " 15  BldgType       1460 non-null   object \n",
            " 16  HouseStyle     1460 non-null   object \n",
            " 17  OverallQual    1460 non-null   int64  \n",
            " 18  OverallCond    1460 non-null   int64  \n",
            " 19  YearBuilt      1460 non-null   int64  \n",
            " 20  YearRemodAdd   1460 non-null   int64  \n",
            " 21  RoofStyle      1460 non-null   object \n",
            " 22  RoofMatl       1460 non-null   object \n",
            " 23  Exterior1st    1460 non-null   object \n",
            " 24  Exterior2nd    1460 non-null   object \n",
            " 25  MasVnrType     1452 non-null   object \n",
            " 26  MasVnrArea     1452 non-null   float64\n",
            " 27  ExterQual      1460 non-null   object \n",
            " 28  ExterCond      1460 non-null   object \n",
            " 29  Foundation     1460 non-null   object \n",
            " 30  BsmtQual       1423 non-null   object \n",
            " 31  BsmtCond       1423 non-null   object \n",
            " 32  BsmtExposure   1422 non-null   object \n",
            " 33  BsmtFinType1   1423 non-null   object \n",
            " 34  BsmtFinSF1     1460 non-null   int64  \n",
            " 35  BsmtFinType2   1422 non-null   object \n",
            " 36  BsmtFinSF2     1460 non-null   int64  \n",
            " 37  BsmtUnfSF      1460 non-null   int64  \n",
            " 38  TotalBsmtSF    1460 non-null   int64  \n",
            " 39  Heating        1460 non-null   object \n",
            " 40  HeatingQC      1460 non-null   object \n",
            " 41  CentralAir     1460 non-null   object \n",
            " 42  Electrical     1459 non-null   object \n",
            " 43  1stFlrSF       1460 non-null   int64  \n",
            " 44  2ndFlrSF       1460 non-null   int64  \n",
            " 45  LowQualFinSF   1460 non-null   int64  \n",
            " 46  GrLivArea      1460 non-null   int64  \n",
            " 47  BsmtFullBath   1460 non-null   int64  \n",
            " 48  BsmtHalfBath   1460 non-null   int64  \n",
            " 49  FullBath       1460 non-null   int64  \n",
            " 50  HalfBath       1460 non-null   int64  \n",
            " 51  BedroomAbvGr   1460 non-null   int64  \n",
            " 52  KitchenAbvGr   1460 non-null   int64  \n",
            " 53  KitchenQual    1460 non-null   object \n",
            " 54  TotRmsAbvGrd   1460 non-null   int64  \n",
            " 55  Functional     1460 non-null   object \n",
            " 56  Fireplaces     1460 non-null   int64  \n",
            " 57  FireplaceQu    770 non-null    object \n",
            " 58  GarageType     1379 non-null   object \n",
            " 59  GarageYrBlt    1379 non-null   float64\n",
            " 60  GarageFinish   1379 non-null   object \n",
            " 61  GarageCars     1460 non-null   int64  \n",
            " 62  GarageArea     1460 non-null   int64  \n",
            " 63  GarageQual     1379 non-null   object \n",
            " 64  GarageCond     1379 non-null   object \n",
            " 65  PavedDrive     1460 non-null   object \n",
            " 66  WoodDeckSF     1460 non-null   int64  \n",
            " 67  OpenPorchSF    1460 non-null   int64  \n",
            " 68  EnclosedPorch  1460 non-null   int64  \n",
            " 69  3SsnPorch      1460 non-null   int64  \n",
            " 70  ScreenPorch    1460 non-null   int64  \n",
            " 71  PoolArea       1460 non-null   int64  \n",
            " 72  PoolQC         7 non-null      object \n",
            " 73  Fence          281 non-null    object \n",
            " 74  MiscFeature    54 non-null     object \n",
            " 75  MiscVal        1460 non-null   int64  \n",
            " 76  MoSold         1460 non-null   int64  \n",
            " 77  YrSold         1460 non-null   int64  \n",
            " 78  SaleType       1460 non-null   object \n",
            " 79  SaleCondition  1460 non-null   object \n",
            " 80  SalePrice      1460 non-null   int64  \n",
            "dtypes: float64(3), int64(35), object(43)\n",
            "memory usage: 924.0+ KB\n"
          ],
          "name": "stdout"
        }
      ]
    },
    {
      "cell_type": "code",
      "metadata": {
        "colab": {
          "base_uri": "https://localhost:8080/",
          "height": 244
        },
        "id": "7_XFlIXdHMkp",
        "outputId": "c201d891-e0b7-48f7-a918-6e21970b4f20"
      },
      "source": [
        "dataset.head()"
      ],
      "execution_count": null,
      "outputs": [
        {
          "output_type": "execute_result",
          "data": {
            "text/html": [
              "<div>\n",
              "<style scoped>\n",
              "    .dataframe tbody tr th:only-of-type {\n",
              "        vertical-align: middle;\n",
              "    }\n",
              "\n",
              "    .dataframe tbody tr th {\n",
              "        vertical-align: top;\n",
              "    }\n",
              "\n",
              "    .dataframe thead th {\n",
              "        text-align: right;\n",
              "    }\n",
              "</style>\n",
              "<table border=\"1\" class=\"dataframe\">\n",
              "  <thead>\n",
              "    <tr style=\"text-align: right;\">\n",
              "      <th></th>\n",
              "      <th>Id</th>\n",
              "      <th>MSSubClass</th>\n",
              "      <th>MSZoning</th>\n",
              "      <th>LotFrontage</th>\n",
              "      <th>LotArea</th>\n",
              "      <th>Street</th>\n",
              "      <th>Alley</th>\n",
              "      <th>LotShape</th>\n",
              "      <th>LandContour</th>\n",
              "      <th>Utilities</th>\n",
              "      <th>LotConfig</th>\n",
              "      <th>LandSlope</th>\n",
              "      <th>Neighborhood</th>\n",
              "      <th>Condition1</th>\n",
              "      <th>Condition2</th>\n",
              "      <th>BldgType</th>\n",
              "      <th>HouseStyle</th>\n",
              "      <th>OverallQual</th>\n",
              "      <th>OverallCond</th>\n",
              "      <th>YearBuilt</th>\n",
              "      <th>YearRemodAdd</th>\n",
              "      <th>RoofStyle</th>\n",
              "      <th>RoofMatl</th>\n",
              "      <th>Exterior1st</th>\n",
              "      <th>Exterior2nd</th>\n",
              "      <th>MasVnrType</th>\n",
              "      <th>MasVnrArea</th>\n",
              "      <th>ExterQual</th>\n",
              "      <th>ExterCond</th>\n",
              "      <th>Foundation</th>\n",
              "      <th>BsmtQual</th>\n",
              "      <th>BsmtCond</th>\n",
              "      <th>BsmtExposure</th>\n",
              "      <th>BsmtFinType1</th>\n",
              "      <th>BsmtFinSF1</th>\n",
              "      <th>BsmtFinType2</th>\n",
              "      <th>BsmtFinSF2</th>\n",
              "      <th>BsmtUnfSF</th>\n",
              "      <th>TotalBsmtSF</th>\n",
              "      <th>Heating</th>\n",
              "      <th>...</th>\n",
              "      <th>CentralAir</th>\n",
              "      <th>Electrical</th>\n",
              "      <th>1stFlrSF</th>\n",
              "      <th>2ndFlrSF</th>\n",
              "      <th>LowQualFinSF</th>\n",
              "      <th>GrLivArea</th>\n",
              "      <th>BsmtFullBath</th>\n",
              "      <th>BsmtHalfBath</th>\n",
              "      <th>FullBath</th>\n",
              "      <th>HalfBath</th>\n",
              "      <th>BedroomAbvGr</th>\n",
              "      <th>KitchenAbvGr</th>\n",
              "      <th>KitchenQual</th>\n",
              "      <th>TotRmsAbvGrd</th>\n",
              "      <th>Functional</th>\n",
              "      <th>Fireplaces</th>\n",
              "      <th>FireplaceQu</th>\n",
              "      <th>GarageType</th>\n",
              "      <th>GarageYrBlt</th>\n",
              "      <th>GarageFinish</th>\n",
              "      <th>GarageCars</th>\n",
              "      <th>GarageArea</th>\n",
              "      <th>GarageQual</th>\n",
              "      <th>GarageCond</th>\n",
              "      <th>PavedDrive</th>\n",
              "      <th>WoodDeckSF</th>\n",
              "      <th>OpenPorchSF</th>\n",
              "      <th>EnclosedPorch</th>\n",
              "      <th>3SsnPorch</th>\n",
              "      <th>ScreenPorch</th>\n",
              "      <th>PoolArea</th>\n",
              "      <th>PoolQC</th>\n",
              "      <th>Fence</th>\n",
              "      <th>MiscFeature</th>\n",
              "      <th>MiscVal</th>\n",
              "      <th>MoSold</th>\n",
              "      <th>YrSold</th>\n",
              "      <th>SaleType</th>\n",
              "      <th>SaleCondition</th>\n",
              "      <th>SalePrice</th>\n",
              "    </tr>\n",
              "  </thead>\n",
              "  <tbody>\n",
              "    <tr>\n",
              "      <th>0</th>\n",
              "      <td>1</td>\n",
              "      <td>60</td>\n",
              "      <td>RL</td>\n",
              "      <td>65.0</td>\n",
              "      <td>8450</td>\n",
              "      <td>Pave</td>\n",
              "      <td>NaN</td>\n",
              "      <td>Reg</td>\n",
              "      <td>Lvl</td>\n",
              "      <td>AllPub</td>\n",
              "      <td>Inside</td>\n",
              "      <td>Gtl</td>\n",
              "      <td>CollgCr</td>\n",
              "      <td>Norm</td>\n",
              "      <td>Norm</td>\n",
              "      <td>1Fam</td>\n",
              "      <td>2Story</td>\n",
              "      <td>7</td>\n",
              "      <td>5</td>\n",
              "      <td>2003</td>\n",
              "      <td>2003</td>\n",
              "      <td>Gable</td>\n",
              "      <td>CompShg</td>\n",
              "      <td>VinylSd</td>\n",
              "      <td>VinylSd</td>\n",
              "      <td>BrkFace</td>\n",
              "      <td>196.0</td>\n",
              "      <td>Gd</td>\n",
              "      <td>TA</td>\n",
              "      <td>PConc</td>\n",
              "      <td>Gd</td>\n",
              "      <td>TA</td>\n",
              "      <td>No</td>\n",
              "      <td>GLQ</td>\n",
              "      <td>706</td>\n",
              "      <td>Unf</td>\n",
              "      <td>0</td>\n",
              "      <td>150</td>\n",
              "      <td>856</td>\n",
              "      <td>GasA</td>\n",
              "      <td>...</td>\n",
              "      <td>Y</td>\n",
              "      <td>SBrkr</td>\n",
              "      <td>856</td>\n",
              "      <td>854</td>\n",
              "      <td>0</td>\n",
              "      <td>1710</td>\n",
              "      <td>1</td>\n",
              "      <td>0</td>\n",
              "      <td>2</td>\n",
              "      <td>1</td>\n",
              "      <td>3</td>\n",
              "      <td>1</td>\n",
              "      <td>Gd</td>\n",
              "      <td>8</td>\n",
              "      <td>Typ</td>\n",
              "      <td>0</td>\n",
              "      <td>NaN</td>\n",
              "      <td>Attchd</td>\n",
              "      <td>2003.0</td>\n",
              "      <td>RFn</td>\n",
              "      <td>2</td>\n",
              "      <td>548</td>\n",
              "      <td>TA</td>\n",
              "      <td>TA</td>\n",
              "      <td>Y</td>\n",
              "      <td>0</td>\n",
              "      <td>61</td>\n",
              "      <td>0</td>\n",
              "      <td>0</td>\n",
              "      <td>0</td>\n",
              "      <td>0</td>\n",
              "      <td>NaN</td>\n",
              "      <td>NaN</td>\n",
              "      <td>NaN</td>\n",
              "      <td>0</td>\n",
              "      <td>2</td>\n",
              "      <td>2008</td>\n",
              "      <td>WD</td>\n",
              "      <td>Normal</td>\n",
              "      <td>208500</td>\n",
              "    </tr>\n",
              "    <tr>\n",
              "      <th>1</th>\n",
              "      <td>2</td>\n",
              "      <td>20</td>\n",
              "      <td>RL</td>\n",
              "      <td>80.0</td>\n",
              "      <td>9600</td>\n",
              "      <td>Pave</td>\n",
              "      <td>NaN</td>\n",
              "      <td>Reg</td>\n",
              "      <td>Lvl</td>\n",
              "      <td>AllPub</td>\n",
              "      <td>FR2</td>\n",
              "      <td>Gtl</td>\n",
              "      <td>Veenker</td>\n",
              "      <td>Feedr</td>\n",
              "      <td>Norm</td>\n",
              "      <td>1Fam</td>\n",
              "      <td>1Story</td>\n",
              "      <td>6</td>\n",
              "      <td>8</td>\n",
              "      <td>1976</td>\n",
              "      <td>1976</td>\n",
              "      <td>Gable</td>\n",
              "      <td>CompShg</td>\n",
              "      <td>MetalSd</td>\n",
              "      <td>MetalSd</td>\n",
              "      <td>None</td>\n",
              "      <td>0.0</td>\n",
              "      <td>TA</td>\n",
              "      <td>TA</td>\n",
              "      <td>CBlock</td>\n",
              "      <td>Gd</td>\n",
              "      <td>TA</td>\n",
              "      <td>Gd</td>\n",
              "      <td>ALQ</td>\n",
              "      <td>978</td>\n",
              "      <td>Unf</td>\n",
              "      <td>0</td>\n",
              "      <td>284</td>\n",
              "      <td>1262</td>\n",
              "      <td>GasA</td>\n",
              "      <td>...</td>\n",
              "      <td>Y</td>\n",
              "      <td>SBrkr</td>\n",
              "      <td>1262</td>\n",
              "      <td>0</td>\n",
              "      <td>0</td>\n",
              "      <td>1262</td>\n",
              "      <td>0</td>\n",
              "      <td>1</td>\n",
              "      <td>2</td>\n",
              "      <td>0</td>\n",
              "      <td>3</td>\n",
              "      <td>1</td>\n",
              "      <td>TA</td>\n",
              "      <td>6</td>\n",
              "      <td>Typ</td>\n",
              "      <td>1</td>\n",
              "      <td>TA</td>\n",
              "      <td>Attchd</td>\n",
              "      <td>1976.0</td>\n",
              "      <td>RFn</td>\n",
              "      <td>2</td>\n",
              "      <td>460</td>\n",
              "      <td>TA</td>\n",
              "      <td>TA</td>\n",
              "      <td>Y</td>\n",
              "      <td>298</td>\n",
              "      <td>0</td>\n",
              "      <td>0</td>\n",
              "      <td>0</td>\n",
              "      <td>0</td>\n",
              "      <td>0</td>\n",
              "      <td>NaN</td>\n",
              "      <td>NaN</td>\n",
              "      <td>NaN</td>\n",
              "      <td>0</td>\n",
              "      <td>5</td>\n",
              "      <td>2007</td>\n",
              "      <td>WD</td>\n",
              "      <td>Normal</td>\n",
              "      <td>181500</td>\n",
              "    </tr>\n",
              "    <tr>\n",
              "      <th>2</th>\n",
              "      <td>3</td>\n",
              "      <td>60</td>\n",
              "      <td>RL</td>\n",
              "      <td>68.0</td>\n",
              "      <td>11250</td>\n",
              "      <td>Pave</td>\n",
              "      <td>NaN</td>\n",
              "      <td>IR1</td>\n",
              "      <td>Lvl</td>\n",
              "      <td>AllPub</td>\n",
              "      <td>Inside</td>\n",
              "      <td>Gtl</td>\n",
              "      <td>CollgCr</td>\n",
              "      <td>Norm</td>\n",
              "      <td>Norm</td>\n",
              "      <td>1Fam</td>\n",
              "      <td>2Story</td>\n",
              "      <td>7</td>\n",
              "      <td>5</td>\n",
              "      <td>2001</td>\n",
              "      <td>2002</td>\n",
              "      <td>Gable</td>\n",
              "      <td>CompShg</td>\n",
              "      <td>VinylSd</td>\n",
              "      <td>VinylSd</td>\n",
              "      <td>BrkFace</td>\n",
              "      <td>162.0</td>\n",
              "      <td>Gd</td>\n",
              "      <td>TA</td>\n",
              "      <td>PConc</td>\n",
              "      <td>Gd</td>\n",
              "      <td>TA</td>\n",
              "      <td>Mn</td>\n",
              "      <td>GLQ</td>\n",
              "      <td>486</td>\n",
              "      <td>Unf</td>\n",
              "      <td>0</td>\n",
              "      <td>434</td>\n",
              "      <td>920</td>\n",
              "      <td>GasA</td>\n",
              "      <td>...</td>\n",
              "      <td>Y</td>\n",
              "      <td>SBrkr</td>\n",
              "      <td>920</td>\n",
              "      <td>866</td>\n",
              "      <td>0</td>\n",
              "      <td>1786</td>\n",
              "      <td>1</td>\n",
              "      <td>0</td>\n",
              "      <td>2</td>\n",
              "      <td>1</td>\n",
              "      <td>3</td>\n",
              "      <td>1</td>\n",
              "      <td>Gd</td>\n",
              "      <td>6</td>\n",
              "      <td>Typ</td>\n",
              "      <td>1</td>\n",
              "      <td>TA</td>\n",
              "      <td>Attchd</td>\n",
              "      <td>2001.0</td>\n",
              "      <td>RFn</td>\n",
              "      <td>2</td>\n",
              "      <td>608</td>\n",
              "      <td>TA</td>\n",
              "      <td>TA</td>\n",
              "      <td>Y</td>\n",
              "      <td>0</td>\n",
              "      <td>42</td>\n",
              "      <td>0</td>\n",
              "      <td>0</td>\n",
              "      <td>0</td>\n",
              "      <td>0</td>\n",
              "      <td>NaN</td>\n",
              "      <td>NaN</td>\n",
              "      <td>NaN</td>\n",
              "      <td>0</td>\n",
              "      <td>9</td>\n",
              "      <td>2008</td>\n",
              "      <td>WD</td>\n",
              "      <td>Normal</td>\n",
              "      <td>223500</td>\n",
              "    </tr>\n",
              "    <tr>\n",
              "      <th>3</th>\n",
              "      <td>4</td>\n",
              "      <td>70</td>\n",
              "      <td>RL</td>\n",
              "      <td>60.0</td>\n",
              "      <td>9550</td>\n",
              "      <td>Pave</td>\n",
              "      <td>NaN</td>\n",
              "      <td>IR1</td>\n",
              "      <td>Lvl</td>\n",
              "      <td>AllPub</td>\n",
              "      <td>Corner</td>\n",
              "      <td>Gtl</td>\n",
              "      <td>Crawfor</td>\n",
              "      <td>Norm</td>\n",
              "      <td>Norm</td>\n",
              "      <td>1Fam</td>\n",
              "      <td>2Story</td>\n",
              "      <td>7</td>\n",
              "      <td>5</td>\n",
              "      <td>1915</td>\n",
              "      <td>1970</td>\n",
              "      <td>Gable</td>\n",
              "      <td>CompShg</td>\n",
              "      <td>Wd Sdng</td>\n",
              "      <td>Wd Shng</td>\n",
              "      <td>None</td>\n",
              "      <td>0.0</td>\n",
              "      <td>TA</td>\n",
              "      <td>TA</td>\n",
              "      <td>BrkTil</td>\n",
              "      <td>TA</td>\n",
              "      <td>Gd</td>\n",
              "      <td>No</td>\n",
              "      <td>ALQ</td>\n",
              "      <td>216</td>\n",
              "      <td>Unf</td>\n",
              "      <td>0</td>\n",
              "      <td>540</td>\n",
              "      <td>756</td>\n",
              "      <td>GasA</td>\n",
              "      <td>...</td>\n",
              "      <td>Y</td>\n",
              "      <td>SBrkr</td>\n",
              "      <td>961</td>\n",
              "      <td>756</td>\n",
              "      <td>0</td>\n",
              "      <td>1717</td>\n",
              "      <td>1</td>\n",
              "      <td>0</td>\n",
              "      <td>1</td>\n",
              "      <td>0</td>\n",
              "      <td>3</td>\n",
              "      <td>1</td>\n",
              "      <td>Gd</td>\n",
              "      <td>7</td>\n",
              "      <td>Typ</td>\n",
              "      <td>1</td>\n",
              "      <td>Gd</td>\n",
              "      <td>Detchd</td>\n",
              "      <td>1998.0</td>\n",
              "      <td>Unf</td>\n",
              "      <td>3</td>\n",
              "      <td>642</td>\n",
              "      <td>TA</td>\n",
              "      <td>TA</td>\n",
              "      <td>Y</td>\n",
              "      <td>0</td>\n",
              "      <td>35</td>\n",
              "      <td>272</td>\n",
              "      <td>0</td>\n",
              "      <td>0</td>\n",
              "      <td>0</td>\n",
              "      <td>NaN</td>\n",
              "      <td>NaN</td>\n",
              "      <td>NaN</td>\n",
              "      <td>0</td>\n",
              "      <td>2</td>\n",
              "      <td>2006</td>\n",
              "      <td>WD</td>\n",
              "      <td>Abnorml</td>\n",
              "      <td>140000</td>\n",
              "    </tr>\n",
              "    <tr>\n",
              "      <th>4</th>\n",
              "      <td>5</td>\n",
              "      <td>60</td>\n",
              "      <td>RL</td>\n",
              "      <td>84.0</td>\n",
              "      <td>14260</td>\n",
              "      <td>Pave</td>\n",
              "      <td>NaN</td>\n",
              "      <td>IR1</td>\n",
              "      <td>Lvl</td>\n",
              "      <td>AllPub</td>\n",
              "      <td>FR2</td>\n",
              "      <td>Gtl</td>\n",
              "      <td>NoRidge</td>\n",
              "      <td>Norm</td>\n",
              "      <td>Norm</td>\n",
              "      <td>1Fam</td>\n",
              "      <td>2Story</td>\n",
              "      <td>8</td>\n",
              "      <td>5</td>\n",
              "      <td>2000</td>\n",
              "      <td>2000</td>\n",
              "      <td>Gable</td>\n",
              "      <td>CompShg</td>\n",
              "      <td>VinylSd</td>\n",
              "      <td>VinylSd</td>\n",
              "      <td>BrkFace</td>\n",
              "      <td>350.0</td>\n",
              "      <td>Gd</td>\n",
              "      <td>TA</td>\n",
              "      <td>PConc</td>\n",
              "      <td>Gd</td>\n",
              "      <td>TA</td>\n",
              "      <td>Av</td>\n",
              "      <td>GLQ</td>\n",
              "      <td>655</td>\n",
              "      <td>Unf</td>\n",
              "      <td>0</td>\n",
              "      <td>490</td>\n",
              "      <td>1145</td>\n",
              "      <td>GasA</td>\n",
              "      <td>...</td>\n",
              "      <td>Y</td>\n",
              "      <td>SBrkr</td>\n",
              "      <td>1145</td>\n",
              "      <td>1053</td>\n",
              "      <td>0</td>\n",
              "      <td>2198</td>\n",
              "      <td>1</td>\n",
              "      <td>0</td>\n",
              "      <td>2</td>\n",
              "      <td>1</td>\n",
              "      <td>4</td>\n",
              "      <td>1</td>\n",
              "      <td>Gd</td>\n",
              "      <td>9</td>\n",
              "      <td>Typ</td>\n",
              "      <td>1</td>\n",
              "      <td>TA</td>\n",
              "      <td>Attchd</td>\n",
              "      <td>2000.0</td>\n",
              "      <td>RFn</td>\n",
              "      <td>3</td>\n",
              "      <td>836</td>\n",
              "      <td>TA</td>\n",
              "      <td>TA</td>\n",
              "      <td>Y</td>\n",
              "      <td>192</td>\n",
              "      <td>84</td>\n",
              "      <td>0</td>\n",
              "      <td>0</td>\n",
              "      <td>0</td>\n",
              "      <td>0</td>\n",
              "      <td>NaN</td>\n",
              "      <td>NaN</td>\n",
              "      <td>NaN</td>\n",
              "      <td>0</td>\n",
              "      <td>12</td>\n",
              "      <td>2008</td>\n",
              "      <td>WD</td>\n",
              "      <td>Normal</td>\n",
              "      <td>250000</td>\n",
              "    </tr>\n",
              "  </tbody>\n",
              "</table>\n",
              "<p>5 rows × 81 columns</p>\n",
              "</div>"
            ],
            "text/plain": [
              "   Id  MSSubClass MSZoning  ...  SaleType  SaleCondition SalePrice\n",
              "0   1          60       RL  ...        WD         Normal    208500\n",
              "1   2          20       RL  ...        WD         Normal    181500\n",
              "2   3          60       RL  ...        WD         Normal    223500\n",
              "3   4          70       RL  ...        WD        Abnorml    140000\n",
              "4   5          60       RL  ...        WD         Normal    250000\n",
              "\n",
              "[5 rows x 81 columns]"
            ]
          },
          "metadata": {
            "tags": []
          },
          "execution_count": 7
        }
      ]
    },
    {
      "cell_type": "markdown",
      "metadata": {
        "id": "Q8sBFYb9HMkq"
      },
      "source": [
        "## Missing_Value "
      ]
    },
    {
      "cell_type": "code",
      "metadata": {
        "colab": {
          "base_uri": "https://localhost:8080/"
        },
        "id": "sutGmKvvHMkq",
        "outputId": "03de0fba-f51c-49d0-cb3c-9dcad3092add"
      },
      "source": [
        "nan_dict = {\"CNT\":train_test.isna().sum(),\n",
        "            \"RATE\": train_test.isna().sum()/train_test.shape[0] *100\n",
        "}\n",
        "nan_df = pd.DataFrame(nan_dict)\n",
        "print(nan_df[nan_df[\"RATE\"]>0].sort_values(\"CNT\", ascending=False))\n",
        "\n",
        "nan_df[nan_df[\"RATE\"]>0].shape"
      ],
      "execution_count": null,
      "outputs": [
        {
          "output_type": "stream",
          "text": [
            "               CNT       RATE\n",
            "PoolQC        2909  99.657417\n",
            "MiscFeature   2814  96.402878\n",
            "Alley         2721  93.216855\n",
            "Fence         2348  80.438506\n",
            "SalePrice     1459  49.982871\n",
            "FireplaceQu   1420  48.646797\n",
            "LotFrontage    486  16.649538\n",
            "GarageCond     159   5.447071\n",
            "GarageYrBlt    159   5.447071\n",
            "GarageFinish   159   5.447071\n",
            "GarageQual     159   5.447071\n",
            "GarageType     157   5.378554\n",
            "BsmtExposure    82   2.809181\n",
            "BsmtCond        82   2.809181\n",
            "BsmtQual        81   2.774923\n",
            "BsmtFinType2    80   2.740665\n",
            "BsmtFinType1    79   2.706406\n",
            "MasVnrType      24   0.822199\n",
            "MasVnrArea      23   0.787941\n",
            "MSZoning         4   0.137033\n",
            "Functional       2   0.068517\n",
            "BsmtHalfBath     2   0.068517\n",
            "BsmtFullBath     2   0.068517\n",
            "Utilities        2   0.068517\n",
            "KitchenQual      1   0.034258\n",
            "TotalBsmtSF      1   0.034258\n",
            "BsmtUnfSF        1   0.034258\n",
            "GarageCars       1   0.034258\n",
            "GarageArea       1   0.034258\n",
            "BsmtFinSF2       1   0.034258\n",
            "BsmtFinSF1       1   0.034258\n",
            "Exterior2nd      1   0.034258\n",
            "Exterior1st      1   0.034258\n",
            "SaleType         1   0.034258\n",
            "Electrical       1   0.034258\n"
          ],
          "name": "stdout"
        },
        {
          "output_type": "execute_result",
          "data": {
            "text/plain": [
              "(35, 2)"
            ]
          },
          "metadata": {
            "tags": []
          },
          "execution_count": 8
        }
      ]
    },
    {
      "cell_type": "markdown",
      "metadata": {
        "id": "oHWXi2aSHMkq"
      },
      "source": [
        "### category variables which use NA as a type  \n",
        "<pre>\n",
        "Alley\n",
        "BsmtQual\n",
        "BsmtCond\n",
        "BsmtExposure\n",
        "BsmtFinType1\n",
        "BsmyFinType2\n",
        "FireplaceQu\n",
        "GarageType\n",
        "GarageFinish\n",
        "GarageQual\n",
        "GarageCond\n",
        "PoolQC\n",
        "Fence\n",
        "MiscFeature\n",
        "</pre>\n",
        "\n"
      ]
    },
    {
      "cell_type": "code",
      "metadata": {
        "colab": {
          "base_uri": "https://localhost:8080/"
        },
        "id": "2KA3RwqnHMkr",
        "outputId": "d003570d-cc2f-40b7-f7a5-c5541625aac3"
      },
      "source": [
        "Not_NA=['Alley', 'BsmtQual','BsmtCond','BsmtExposure','BsmtFinType1','BsmtFinType2','FireplaceQu', 'GarageType',\n",
        "'GarageFinish','GarageQual','GarageCond','PoolQC','Fence','MiscFeature']\n",
        "len(Not_NA)"
      ],
      "execution_count": null,
      "outputs": [
        {
          "output_type": "execute_result",
          "data": {
            "text/plain": [
              "14"
            ]
          },
          "metadata": {
            "tags": []
          },
          "execution_count": 9
        }
      ]
    },
    {
      "cell_type": "markdown",
      "metadata": {
        "id": "Yu3Bwp28HMkr"
      },
      "source": [
        "#### Converting types: category varilables (obj --> numeric)"
      ]
    },
    {
      "cell_type": "code",
      "metadata": {
        "colab": {
          "base_uri": "https://localhost:8080/"
        },
        "id": "c0Rse9whHMkr",
        "outputId": "76f55aa3-d909-4254-baf8-197edd0981ed"
      },
      "source": [
        "for i in Not_NA:\n",
        "    print(i,train_test[i].unique())"
      ],
      "execution_count": null,
      "outputs": [
        {
          "output_type": "stream",
          "text": [
            "Alley [nan 'Grvl' 'Pave']\n",
            "BsmtQual ['Gd' 'TA' 'Ex' nan 'Fa']\n",
            "BsmtCond ['TA' 'Gd' nan 'Fa' 'Po']\n",
            "BsmtExposure ['No' 'Gd' 'Mn' 'Av' nan]\n",
            "BsmtFinType1 ['GLQ' 'ALQ' 'Unf' 'Rec' 'BLQ' nan 'LwQ']\n",
            "BsmtFinType2 ['Unf' 'BLQ' nan 'ALQ' 'Rec' 'LwQ' 'GLQ']\n",
            "FireplaceQu [nan 'TA' 'Gd' 'Fa' 'Ex' 'Po']\n",
            "GarageType ['Attchd' 'Detchd' 'BuiltIn' 'CarPort' nan 'Basment' '2Types']\n",
            "GarageFinish ['RFn' 'Unf' 'Fin' nan]\n",
            "GarageQual ['TA' 'Fa' 'Gd' nan 'Ex' 'Po']\n",
            "GarageCond ['TA' 'Fa' nan 'Gd' 'Po' 'Ex']\n",
            "PoolQC [nan 'Ex' 'Fa' 'Gd']\n",
            "Fence [nan 'MnPrv' 'GdWo' 'GdPrv' 'MnWw']\n",
            "MiscFeature [nan 'Shed' 'Gar2' 'Othr' 'TenC']\n"
          ],
          "name": "stdout"
        }
      ]
    },
    {
      "cell_type": "code",
      "metadata": {
        "id": "RyNvsSS2HMks"
      },
      "source": [
        "change_dict = [{'Grvl':1,'Pave':2}, {'Po':1,'Fa':2,'TA':3,'Gd':4,'Ex':5},\n",
        "{'Po':1,'Fa':2,'TA':3,'Gd':4,'Ex':5},{'No':1 ,'Gd':2, 'Mn':3, 'Av':4},\n",
        "{'GLQ':1, 'ALQ':2, 'Unf':3, 'Rec':4, 'BLQ':5, 'LwQ':6},\n",
        "{'Unf':1, 'BLQ':2,'ALQ':3, 'Rec':4, 'LwQ':5, 'GLQ':6},\n",
        "{'Po':1,'Fa':2,'TA':3,'Gd':4,'Ex':5},\n",
        "{'Attchd':1, 'Detchd':2, 'BuiltIn':3, 'CarPort':4,'Basment':5,'2Types':6},\n",
        "{'RFn':1, 'Unf':2, 'Fin':3},\n",
        "{'Po':1,'Fa':2,'TA':3,'Gd':4,'Ex':5},{'Po':1,'Fa':2,'TA':3,'Gd':4,'Ex':5},\n",
        "{'Po':1,'Fa':2,'TA':3,'Gd':4,'Ex':5},{'MnPrv':1, 'GdWo':2, 'GdPrv':3, 'MnWw':4},\n",
        "{'Shed':1,'Gar2':2, 'Othr':3, 'TenC':4}]\n",
        "\n"
      ],
      "execution_count": null,
      "outputs": []
    },
    {
      "cell_type": "code",
      "metadata": {
        "id": "LwC-GoVLHMks"
      },
      "source": [
        "for i in range(len(Not_NA)):\n",
        "    train_test[\"T_\"+Not_NA[i]] = train_test[Not_NA[i]].map(change_dict[i])\n",
        "    train_test[\"T_\"+Not_NA[i]].fillna(0, inplace= True)"
      ],
      "execution_count": null,
      "outputs": []
    },
    {
      "cell_type": "code",
      "metadata": {
        "colab": {
          "base_uri": "https://localhost:8080/"
        },
        "id": "NhFeGFFfHMks",
        "outputId": "1046edbd-62d6-498f-b8c9-84f50702e523"
      },
      "source": [
        "for i in range(len(Not_NA)):\n",
        "    print(train_test[train_test[\"T_\"+Not_NA[i]]==0].shape[0]) # 0의 개수\n",
        "    print(train_test[Not_NA[i]].isna().sum()) #원래 NA 개수\n",
        "    print(\"-\"*30)"
      ],
      "execution_count": null,
      "outputs": [
        {
          "output_type": "stream",
          "text": [
            "2721\n",
            "2721\n",
            "------------------------------\n",
            "81\n",
            "81\n",
            "------------------------------\n",
            "82\n",
            "82\n",
            "------------------------------\n",
            "82\n",
            "82\n",
            "------------------------------\n",
            "79\n",
            "79\n",
            "------------------------------\n",
            "80\n",
            "80\n",
            "------------------------------\n",
            "1420\n",
            "1420\n",
            "------------------------------\n",
            "157\n",
            "157\n",
            "------------------------------\n",
            "159\n",
            "159\n",
            "------------------------------\n",
            "159\n",
            "159\n",
            "------------------------------\n",
            "159\n",
            "159\n",
            "------------------------------\n",
            "2909\n",
            "2909\n",
            "------------------------------\n",
            "2348\n",
            "2348\n",
            "------------------------------\n",
            "2814\n",
            "2814\n",
            "------------------------------\n"
          ],
          "name": "stdout"
        }
      ]
    },
    {
      "cell_type": "code",
      "metadata": {
        "id": "gBRF6jHDHMkt"
      },
      "source": [
        "train_test.drop(Not_NA, axis=1, inplace= True)"
      ],
      "execution_count": null,
      "outputs": []
    },
    {
      "cell_type": "code",
      "metadata": {
        "colab": {
          "base_uri": "https://localhost:8080/"
        },
        "id": "Y6cxQAtWHMkt",
        "outputId": "b9ad10d5-b0a5-4e39-df79-c7700f48a970"
      },
      "source": [
        "train_test.shape"
      ],
      "execution_count": null,
      "outputs": [
        {
          "output_type": "execute_result",
          "data": {
            "text/plain": [
              "(2919, 81)"
            ]
          },
          "metadata": {
            "tags": []
          },
          "execution_count": 15
        }
      ]
    },
    {
      "cell_type": "code",
      "metadata": {
        "colab": {
          "base_uri": "https://localhost:8080/"
        },
        "id": "j4sNBT4rHMkt",
        "outputId": "d232db32-9920-4db1-9e25-7c3235bea70f"
      },
      "source": [
        "#남은 결측치 확인\n",
        "nan_dict = {\"CNT\":train_test.isna().sum(),\n",
        "            \"RATE\": train_test.isna().sum()/train_test.shape[0] *100\n",
        "}\n",
        "nan_df = pd.DataFrame(nan_dict)\n",
        "print(nan_df[nan_df[\"RATE\"]>0].sort_values(\"CNT\", ascending=False))\n",
        "\n",
        "nan_df[nan_df[\"RATE\"]>0].shape\n",
        "\n",
        "# LotFrontage: Linear feet of street connected to property float\n",
        "# GarageYrBlt: Year garage was built\n",
        "# MasVnrType: Masonry veneer type 건물 외벽 object\n",
        "# MasVnrArea: Masonry veneer area in square feet float\n",
        "# Electrical: Electrical system object"
      ],
      "execution_count": null,
      "outputs": [
        {
          "output_type": "stream",
          "text": [
            "               CNT       RATE\n",
            "SalePrice     1459  49.982871\n",
            "LotFrontage    486  16.649538\n",
            "GarageYrBlt    159   5.447071\n",
            "MasVnrType      24   0.822199\n",
            "MasVnrArea      23   0.787941\n",
            "MSZoning         4   0.137033\n",
            "BsmtFullBath     2   0.068517\n",
            "BsmtHalfBath     2   0.068517\n",
            "Functional       2   0.068517\n",
            "Utilities        2   0.068517\n",
            "Exterior2nd      1   0.034258\n",
            "BsmtFinSF1       1   0.034258\n",
            "BsmtFinSF2       1   0.034258\n",
            "BsmtUnfSF        1   0.034258\n",
            "Exterior1st      1   0.034258\n",
            "Electrical       1   0.034258\n",
            "KitchenQual      1   0.034258\n",
            "GarageCars       1   0.034258\n",
            "GarageArea       1   0.034258\n",
            "SaleType         1   0.034258\n",
            "TotalBsmtSF      1   0.034258\n"
          ],
          "name": "stdout"
        },
        {
          "output_type": "execute_result",
          "data": {
            "text/plain": [
              "(21, 2)"
            ]
          },
          "metadata": {
            "tags": []
          },
          "execution_count": 16
        }
      ]
    },
    {
      "cell_type": "code",
      "metadata": {
        "id": "ypImyT6oHMku"
      },
      "source": [
        "real_NA = list(nan_df[nan_df[\"RATE\"]>0].index)\n",
        "\n",
        "train_test['LotFrontage'] = train_test.groupby('Neighborhood')['LotFrontage'].transform(lambda x: x.fillna(x.median()))\n",
        "\n",
        "real_NA.remove('LotFrontage')\n",
        "\n",
        "for i in real_NA:\n",
        "    train_test[i].fillna(train_test[i].mode()[0], inplace= True)"
      ],
      "execution_count": null,
      "outputs": []
    },
    {
      "cell_type": "markdown",
      "metadata": {
        "id": "jfCMzZvfHMku"
      },
      "source": [
        "## Numeric"
      ]
    },
    {
      "cell_type": "code",
      "metadata": {
        "id": "HBXFH4fGHMku"
      },
      "source": [
        "object_col= train_test.dtypes[train_test.dtypes == object].index"
      ],
      "execution_count": null,
      "outputs": []
    },
    {
      "cell_type": "code",
      "metadata": {
        "colab": {
          "base_uri": "https://localhost:8080/"
        },
        "id": "4n5BG1meHMku",
        "outputId": "c7fd7c62-186f-4b91-ef0e-ce2f27c84197"
      },
      "source": [
        "object_col"
      ],
      "execution_count": null,
      "outputs": [
        {
          "output_type": "execute_result",
          "data": {
            "text/plain": [
              "Index(['MSZoning', 'Street', 'LotShape', 'LandContour', 'Utilities',\n",
              "       'LotConfig', 'LandSlope', 'Neighborhood', 'Condition1', 'Condition2',\n",
              "       'BldgType', 'HouseStyle', 'RoofStyle', 'RoofMatl', 'Exterior1st',\n",
              "       'Exterior2nd', 'MasVnrType', 'ExterQual', 'ExterCond', 'Foundation',\n",
              "       'Heating', 'HeatingQC', 'CentralAir', 'Electrical', 'KitchenQual',\n",
              "       'Functional', 'PavedDrive', 'SaleType', 'SaleCondition'],\n",
              "      dtype='object')"
            ]
          },
          "metadata": {
            "tags": []
          },
          "execution_count": 19
        }
      ]
    },
    {
      "cell_type": "code",
      "metadata": {
        "id": "90Nyoiy7HMkv"
      },
      "source": [
        "# ##get dummies 인코딩\n",
        "# df_copy = df.copy()\n",
        "# for i in range(len(object_col)):\n",
        "#     dummy_df = pd.get_dummies(df[object_col[i]])\n",
        "#     df_copy = pd.concat([df_copy,dummy_df], axis =1)\n",
        "#     # df = df.join(dummy_df)\n",
        "\n",
        "# # dummy_df = pd.get_dummies(df[object_col[0]])\n",
        "# # df_copy = pd.concat([df_copy,dummy_df], axis=1)\n",
        "    "
      ],
      "execution_count": null,
      "outputs": []
    },
    {
      "cell_type": "code",
      "metadata": {
        "id": "lzS3J3gvHMkv"
      },
      "source": [
        "# Label 인코딩\n",
        "from sklearn.preprocessing import LabelEncoder, OneHotEncoder\n",
        "le_encoder = LabelEncoder()\n",
        "\n",
        "for col in object_col:   \n",
        "    train_test[\"LE_\"+col] = le_encoder.fit_transform(train_test[col])    "
      ],
      "execution_count": null,
      "outputs": []
    },
    {
      "cell_type": "code",
      "metadata": {
        "id": "gZGLAuypHMkv"
      },
      "source": [
        "#기존 컬럼 삭제\n",
        "train_test.drop(object_col, axis = 1, inplace= True)"
      ],
      "execution_count": null,
      "outputs": []
    },
    {
      "cell_type": "code",
      "metadata": {
        "colab": {
          "base_uri": "https://localhost:8080/"
        },
        "id": "aDes0RzYHMkv",
        "outputId": "d54d7208-a4d4-4df6-ca5e-9d13f2b9a399"
      },
      "source": [
        "#남은 object type 있는지 확인\n",
        "train_test.dtypes[train_test.dtypes == object].index"
      ],
      "execution_count": null,
      "outputs": [
        {
          "output_type": "execute_result",
          "data": {
            "text/plain": [
              "Index([], dtype='object')"
            ]
          },
          "metadata": {
            "tags": []
          },
          "execution_count": 23
        }
      ]
    },
    {
      "cell_type": "markdown",
      "metadata": {
        "id": "6NsubF7cHMkw"
      },
      "source": [
        "## Scaling"
      ]
    },
    {
      "cell_type": "code",
      "metadata": {
        "id": "Mu9Gv41mHMkw"
      },
      "source": [
        "y_df = dataset[\"SalePrice\"]"
      ],
      "execution_count": null,
      "outputs": []
    },
    {
      "cell_type": "code",
      "metadata": {
        "id": "xfsCIjjMHMkw"
      },
      "source": [
        "#log transform skewed numeric features:\n",
        "from scipy.stats import skew\n",
        "numeric_feats = train_test.dtypes[train_test.dtypes != \"object\"].index\n",
        "skewed_feats =  train_test[numeric_feats].apply(lambda x: skew(x.dropna())) #compute skewness\n",
        "skewed_feats = skewed_feats[skewed_feats > 0.75]\n",
        "skewed_feats =skewed_feats.index\n",
        "\n",
        "train_test[skewed_feats] = np.log1p(train_test[skewed_feats])\n",
        "#y값 스케일링\n",
        "y_df  = np.log1p(y_df)"
      ],
      "execution_count": null,
      "outputs": []
    },
    {
      "cell_type": "code",
      "metadata": {
        "colab": {
          "base_uri": "https://localhost:8080/",
          "height": 351
        },
        "id": "X1XBi1VrHMkw",
        "outputId": "0a409cde-c967-4abe-dcab-fb81135bc4f0"
      },
      "source": [
        "#Id 제거\n",
        "train_test.drop(\"Id\", axis=1, inplace= True)"
      ],
      "execution_count": null,
      "outputs": [
        {
          "output_type": "error",
          "ename": "KeyError",
          "evalue": "ignored",
          "traceback": [
            "\u001b[0;31m---------------------------------------------------------------------------\u001b[0m",
            "\u001b[0;31mKeyError\u001b[0m                                  Traceback (most recent call last)",
            "\u001b[0;32m<ipython-input-212-3e87745abe9a>\u001b[0m in \u001b[0;36m<module>\u001b[0;34m()\u001b[0m\n\u001b[1;32m      1\u001b[0m \u001b[0;31m#Id 제거\u001b[0m\u001b[0;34m\u001b[0m\u001b[0;34m\u001b[0m\u001b[0;34m\u001b[0m\u001b[0m\n\u001b[0;32m----> 2\u001b[0;31m \u001b[0mtrain_test\u001b[0m\u001b[0;34m.\u001b[0m\u001b[0mdrop\u001b[0m\u001b[0;34m(\u001b[0m\u001b[0;34m\"Id\"\u001b[0m\u001b[0;34m,\u001b[0m \u001b[0maxis\u001b[0m\u001b[0;34m=\u001b[0m\u001b[0;36m1\u001b[0m\u001b[0;34m,\u001b[0m \u001b[0minplace\u001b[0m\u001b[0;34m=\u001b[0m \u001b[0;32mTrue\u001b[0m\u001b[0;34m)\u001b[0m\u001b[0;34m\u001b[0m\u001b[0;34m\u001b[0m\u001b[0m\n\u001b[0m",
            "\u001b[0;32m/usr/local/lib/python3.7/dist-packages/pandas/core/frame.py\u001b[0m in \u001b[0;36mdrop\u001b[0;34m(self, labels, axis, index, columns, level, inplace, errors)\u001b[0m\n\u001b[1;32m   4172\u001b[0m             \u001b[0mlevel\u001b[0m\u001b[0;34m=\u001b[0m\u001b[0mlevel\u001b[0m\u001b[0;34m,\u001b[0m\u001b[0;34m\u001b[0m\u001b[0;34m\u001b[0m\u001b[0m\n\u001b[1;32m   4173\u001b[0m             \u001b[0minplace\u001b[0m\u001b[0;34m=\u001b[0m\u001b[0minplace\u001b[0m\u001b[0;34m,\u001b[0m\u001b[0;34m\u001b[0m\u001b[0;34m\u001b[0m\u001b[0m\n\u001b[0;32m-> 4174\u001b[0;31m             \u001b[0merrors\u001b[0m\u001b[0;34m=\u001b[0m\u001b[0merrors\u001b[0m\u001b[0;34m,\u001b[0m\u001b[0;34m\u001b[0m\u001b[0;34m\u001b[0m\u001b[0m\n\u001b[0m\u001b[1;32m   4175\u001b[0m         )\n\u001b[1;32m   4176\u001b[0m \u001b[0;34m\u001b[0m\u001b[0m\n",
            "\u001b[0;32m/usr/local/lib/python3.7/dist-packages/pandas/core/generic.py\u001b[0m in \u001b[0;36mdrop\u001b[0;34m(self, labels, axis, index, columns, level, inplace, errors)\u001b[0m\n\u001b[1;32m   3887\u001b[0m         \u001b[0;32mfor\u001b[0m \u001b[0maxis\u001b[0m\u001b[0;34m,\u001b[0m \u001b[0mlabels\u001b[0m \u001b[0;32min\u001b[0m \u001b[0maxes\u001b[0m\u001b[0;34m.\u001b[0m\u001b[0mitems\u001b[0m\u001b[0;34m(\u001b[0m\u001b[0;34m)\u001b[0m\u001b[0;34m:\u001b[0m\u001b[0;34m\u001b[0m\u001b[0;34m\u001b[0m\u001b[0m\n\u001b[1;32m   3888\u001b[0m             \u001b[0;32mif\u001b[0m \u001b[0mlabels\u001b[0m \u001b[0;32mis\u001b[0m \u001b[0;32mnot\u001b[0m \u001b[0;32mNone\u001b[0m\u001b[0;34m:\u001b[0m\u001b[0;34m\u001b[0m\u001b[0;34m\u001b[0m\u001b[0m\n\u001b[0;32m-> 3889\u001b[0;31m                 \u001b[0mobj\u001b[0m \u001b[0;34m=\u001b[0m \u001b[0mobj\u001b[0m\u001b[0;34m.\u001b[0m\u001b[0m_drop_axis\u001b[0m\u001b[0;34m(\u001b[0m\u001b[0mlabels\u001b[0m\u001b[0;34m,\u001b[0m \u001b[0maxis\u001b[0m\u001b[0;34m,\u001b[0m \u001b[0mlevel\u001b[0m\u001b[0;34m=\u001b[0m\u001b[0mlevel\u001b[0m\u001b[0;34m,\u001b[0m \u001b[0merrors\u001b[0m\u001b[0;34m=\u001b[0m\u001b[0merrors\u001b[0m\u001b[0;34m)\u001b[0m\u001b[0;34m\u001b[0m\u001b[0;34m\u001b[0m\u001b[0m\n\u001b[0m\u001b[1;32m   3890\u001b[0m \u001b[0;34m\u001b[0m\u001b[0m\n\u001b[1;32m   3891\u001b[0m         \u001b[0;32mif\u001b[0m \u001b[0minplace\u001b[0m\u001b[0;34m:\u001b[0m\u001b[0;34m\u001b[0m\u001b[0;34m\u001b[0m\u001b[0m\n",
            "\u001b[0;32m/usr/local/lib/python3.7/dist-packages/pandas/core/generic.py\u001b[0m in \u001b[0;36m_drop_axis\u001b[0;34m(self, labels, axis, level, errors)\u001b[0m\n\u001b[1;32m   3921\u001b[0m                 \u001b[0mnew_axis\u001b[0m \u001b[0;34m=\u001b[0m \u001b[0maxis\u001b[0m\u001b[0;34m.\u001b[0m\u001b[0mdrop\u001b[0m\u001b[0;34m(\u001b[0m\u001b[0mlabels\u001b[0m\u001b[0;34m,\u001b[0m \u001b[0mlevel\u001b[0m\u001b[0;34m=\u001b[0m\u001b[0mlevel\u001b[0m\u001b[0;34m,\u001b[0m \u001b[0merrors\u001b[0m\u001b[0;34m=\u001b[0m\u001b[0merrors\u001b[0m\u001b[0;34m)\u001b[0m\u001b[0;34m\u001b[0m\u001b[0;34m\u001b[0m\u001b[0m\n\u001b[1;32m   3922\u001b[0m             \u001b[0;32melse\u001b[0m\u001b[0;34m:\u001b[0m\u001b[0;34m\u001b[0m\u001b[0;34m\u001b[0m\u001b[0m\n\u001b[0;32m-> 3923\u001b[0;31m                 \u001b[0mnew_axis\u001b[0m \u001b[0;34m=\u001b[0m \u001b[0maxis\u001b[0m\u001b[0;34m.\u001b[0m\u001b[0mdrop\u001b[0m\u001b[0;34m(\u001b[0m\u001b[0mlabels\u001b[0m\u001b[0;34m,\u001b[0m \u001b[0merrors\u001b[0m\u001b[0;34m=\u001b[0m\u001b[0merrors\u001b[0m\u001b[0;34m)\u001b[0m\u001b[0;34m\u001b[0m\u001b[0;34m\u001b[0m\u001b[0m\n\u001b[0m\u001b[1;32m   3924\u001b[0m             \u001b[0mresult\u001b[0m \u001b[0;34m=\u001b[0m \u001b[0mself\u001b[0m\u001b[0;34m.\u001b[0m\u001b[0mreindex\u001b[0m\u001b[0;34m(\u001b[0m\u001b[0;34m**\u001b[0m\u001b[0;34m{\u001b[0m\u001b[0maxis_name\u001b[0m\u001b[0;34m:\u001b[0m \u001b[0mnew_axis\u001b[0m\u001b[0;34m}\u001b[0m\u001b[0;34m)\u001b[0m\u001b[0;34m\u001b[0m\u001b[0;34m\u001b[0m\u001b[0m\n\u001b[1;32m   3925\u001b[0m \u001b[0;34m\u001b[0m\u001b[0m\n",
            "\u001b[0;32m/usr/local/lib/python3.7/dist-packages/pandas/core/indexes/base.py\u001b[0m in \u001b[0;36mdrop\u001b[0;34m(self, labels, errors)\u001b[0m\n\u001b[1;32m   5285\u001b[0m         \u001b[0;32mif\u001b[0m \u001b[0mmask\u001b[0m\u001b[0;34m.\u001b[0m\u001b[0many\u001b[0m\u001b[0;34m(\u001b[0m\u001b[0;34m)\u001b[0m\u001b[0;34m:\u001b[0m\u001b[0;34m\u001b[0m\u001b[0;34m\u001b[0m\u001b[0m\n\u001b[1;32m   5286\u001b[0m             \u001b[0;32mif\u001b[0m \u001b[0merrors\u001b[0m \u001b[0;34m!=\u001b[0m \u001b[0;34m\"ignore\"\u001b[0m\u001b[0;34m:\u001b[0m\u001b[0;34m\u001b[0m\u001b[0;34m\u001b[0m\u001b[0m\n\u001b[0;32m-> 5287\u001b[0;31m                 \u001b[0;32mraise\u001b[0m \u001b[0mKeyError\u001b[0m\u001b[0;34m(\u001b[0m\u001b[0;34mf\"{labels[mask]} not found in axis\"\u001b[0m\u001b[0;34m)\u001b[0m\u001b[0;34m\u001b[0m\u001b[0;34m\u001b[0m\u001b[0m\n\u001b[0m\u001b[1;32m   5288\u001b[0m             \u001b[0mindexer\u001b[0m \u001b[0;34m=\u001b[0m \u001b[0mindexer\u001b[0m\u001b[0;34m[\u001b[0m\u001b[0;34m~\u001b[0m\u001b[0mmask\u001b[0m\u001b[0;34m]\u001b[0m\u001b[0;34m\u001b[0m\u001b[0;34m\u001b[0m\u001b[0m\n\u001b[1;32m   5289\u001b[0m         \u001b[0;32mreturn\u001b[0m \u001b[0mself\u001b[0m\u001b[0;34m.\u001b[0m\u001b[0mdelete\u001b[0m\u001b[0;34m(\u001b[0m\u001b[0mindexer\u001b[0m\u001b[0;34m)\u001b[0m\u001b[0;34m\u001b[0m\u001b[0;34m\u001b[0m\u001b[0m\n",
            "\u001b[0;31mKeyError\u001b[0m: \"['Id'] not found in axis\""
          ]
        }
      ]
    },
    {
      "cell_type": "code",
      "metadata": {
        "id": "CWPRCCfKHMkx"
      },
      "source": [
        "X_df = train_test.iloc[:1460,:].drop(\"SalePrice\",axis=1)\n",
        "test_df =train_test.iloc[1460:,:].drop(\"SalePrice\",axis=1)"
      ],
      "execution_count": null,
      "outputs": []
    },
    {
      "cell_type": "markdown",
      "metadata": {
        "id": "KcrzWp0xHMkx"
      },
      "source": [
        "# 회귀분석"
      ]
    },
    {
      "cell_type": "markdown",
      "metadata": {
        "id": "P5MxXfW6HMkx"
      },
      "source": [
        "## 우선 점수부터 보자"
      ]
    },
    {
      "cell_type": "code",
      "metadata": {
        "colab": {
          "base_uri": "https://localhost:8080/"
        },
        "id": "H5_eQcW9HMkx",
        "outputId": "00ef9825-723a-4507-e27a-e3280067c6b9"
      },
      "source": [
        "X_train , X_val, y_train, y_val = train_test_split(X_df, y_df, test_size=0.2, shuffle = True,random_state=121)\n",
        "print(X_train.shape, X_val.shape, y_train.shape, y_val.shape)\n",
        "\n",
        "model1 = LinearRegression()\n",
        "model1.fit(X_train,y_train)\n",
        "\n",
        "pred = model1.predict(X_val)\n",
        "mse = mean_squared_error(y_val, pred, squared = True) #MSE\n",
        "rmse = mean_squared_error(y_val, pred, squared = False) #RMSE\n",
        "\n",
        "print(f'MSE:{mse:.5f} RMSE {rmse:.5f}')\n",
        "\n",
        "#dummy\n",
        "#MSE:183766087910688064.00000 RMSE 428679469.89643 처음\n",
        "#MSE:728536469.52603 RMSE 26991.41474 Id 제거\n",
        "#MSE:969745875.68496 RMSE 31140.74302 scale 후에\n",
        "#MSE:908127775.78686 RMSE 30135.15847 scale 후에\n",
        "\n",
        "#-----------------------------------------------------------\n",
        "#Label\n",
        "# MSE:827344230.24246 RMSE 28763.59210 처음\n",
        "# MSE:954940616.83012 RMSE 30902.11347 스케일 후\n",
        "# MSE:1593369743.02272 RMSE 39917.03575 pca 후\n",
        "\n",
        "\n",
        "\n",
        "\n",
        "\n",
        "\n",
        "\n"
      ],
      "execution_count": null,
      "outputs": [
        {
          "output_type": "stream",
          "text": [
            "(1168, 79) (292, 79) (1168,) (292,)\n",
            "MSE:0.01298 RMSE 0.11395\n"
          ],
          "name": "stdout"
        }
      ]
    },
    {
      "cell_type": "code",
      "metadata": {
        "colab": {
          "base_uri": "https://localhost:8080/"
        },
        "id": "2zpWBPZDHMky",
        "outputId": "29c49fba-1acc-413c-f1e6-48da2ca8ab52"
      },
      "source": [
        "from sklearn.linear_model import Ridge, Lasso, ElasticNet\n",
        "lasso = Lasso(alpha = 1.0)\n",
        "ridge = Ridge(alpha = 1.0)\n",
        "elsnet = ElasticNet(alpha = 0.05, l1_ratio =0.1)\n",
        "\n",
        "#RMSE mean, MSE mean, fold\n",
        "models = [lasso, ridge, elsnet]\n",
        "    # models = [LinearRegression()]\n",
        "for model in models:\n",
        "    score_list = cross_validate(model, X_df, y_df, \n",
        "                                 scoring = {'mse':'neg_mean_squared_error',\n",
        "                                            'rmse':'neg_root_mean_squared_error'},\n",
        "                                 cv= 10, return_train_score = False)\n",
        "    mse_score = -score_list['test_mse']\n",
        "    rmse_score = -score_list['test_rmse']\n",
        "    print(f'{model.__class__.__name__} MSE: {mse_score.mean():.4f} RMSE: {rmse_score.mean():.4f}')"
      ],
      "execution_count": null,
      "outputs": [
        {
          "output_type": "stream",
          "text": [
            "Lasso MSE: 0.0719 RMSE: 0.2674\n",
            "Ridge MSE: 0.0185 RMSE: 0.1335\n",
            "ElasticNet MSE: 0.0212 RMSE: 0.1441\n"
          ],
          "name": "stdout"
        }
      ]
    },
    {
      "cell_type": "code",
      "metadata": {
        "colab": {
          "base_uri": "https://localhost:8080/"
        },
        "id": "bv62_bXKHMky",
        "outputId": "6a9fcc4e-747b-4cc9-d9d1-f8fc5e092dfd"
      },
      "source": [
        "cv_model = GridSearchCV(ridge, param_grid = {'alpha':[0.5,1.0]},\n",
        "            scoring = \"neg_root_mean_squared_error\",\n",
        "            cv = 10)\n",
        "cv_model.fit(X_train, y_train)\n",
        "print(f'{cv_model.best_score_*-1:.5f}')\n",
        "print(cv_model.best_params_)"
      ],
      "execution_count": null,
      "outputs": [
        {
          "output_type": "stream",
          "text": [
            "0.14288\n",
            "{'alpha': 1.0}\n"
          ],
          "name": "stdout"
        }
      ]
    },
    {
      "cell_type": "code",
      "metadata": {
        "colab": {
          "base_uri": "https://localhost:8080/"
        },
        "id": "0Gy_hcDBHMkz",
        "outputId": "0f00201d-1fe2-42f7-cab7-264c771aaebe"
      },
      "source": [
        "cv_model = GridSearchCV(ridge, param_grid = {'alpha':[1.0,2.0]},\n",
        "            scoring = \"neg_root_mean_squared_error\",\n",
        "            cv = 10)\n",
        "cv_model.fit(X_train, y_train)\n",
        "print(f'{cv_model.best_score_*-1:.5f}')\n",
        "print(cv_model.best_params_)"
      ],
      "execution_count": null,
      "outputs": [
        {
          "output_type": "stream",
          "text": [
            "0.14247\n",
            "{'alpha': 2.0}\n"
          ],
          "name": "stdout"
        }
      ]
    },
    {
      "cell_type": "code",
      "metadata": {
        "id": "Gw0J_W9bHMkz"
      },
      "source": [
        "## test \n",
        "test_pred = cv_model.predict(test_df)\n",
        "pred_for_submit = np.expm1(test_pred)\n"
      ],
      "execution_count": null,
      "outputs": []
    },
    {
      "cell_type": "code",
      "metadata": {
        "colab": {
          "base_uri": "https://localhost:8080/"
        },
        "id": "KrJl2VTeHMkz",
        "outputId": "2352d167-b6e6-4bdd-dd56-eb039ccf3c3b"
      },
      "source": [
        "pred_for_submit"
      ],
      "execution_count": null,
      "outputs": [
        {
          "output_type": "execute_result",
          "data": {
            "text/plain": [
              "array([114978.54699112, 153038.48584279, 178207.37324683, ...,\n",
              "       169254.45618842, 126376.41388782, 236046.20389497])"
            ]
          },
          "metadata": {
            "tags": []
          },
          "execution_count": 219
        }
      ]
    },
    {
      "cell_type": "code",
      "metadata": {
        "colab": {
          "base_uri": "https://localhost:8080/"
        },
        "id": "HL7vM4LSHMk0",
        "outputId": "1a0269a3-d9f3-445d-f1bf-da95fdfb7738"
      },
      "source": [
        "sub_df[\"SalePrice\"] = pred_for_submit.reshape(-1,1)\n",
        "sub_df.shape"
      ],
      "execution_count": null,
      "outputs": [
        {
          "output_type": "execute_result",
          "data": {
            "text/plain": [
              "(1459, 2)"
            ]
          },
          "metadata": {
            "tags": []
          },
          "execution_count": 220
        }
      ]
    },
    {
      "cell_type": "code",
      "metadata": {
        "colab": {
          "base_uri": "https://localhost:8080/",
          "height": 195
        },
        "id": "NY7B6ZOfHMk0",
        "outputId": "bb608653-d290-4b5e-e09d-01c9d89302cd"
      },
      "source": [
        "sub_df.head()"
      ],
      "execution_count": null,
      "outputs": [
        {
          "output_type": "execute_result",
          "data": {
            "text/html": [
              "<div>\n",
              "<style scoped>\n",
              "    .dataframe tbody tr th:only-of-type {\n",
              "        vertical-align: middle;\n",
              "    }\n",
              "\n",
              "    .dataframe tbody tr th {\n",
              "        vertical-align: top;\n",
              "    }\n",
              "\n",
              "    .dataframe thead th {\n",
              "        text-align: right;\n",
              "    }\n",
              "</style>\n",
              "<table border=\"1\" class=\"dataframe\">\n",
              "  <thead>\n",
              "    <tr style=\"text-align: right;\">\n",
              "      <th></th>\n",
              "      <th>Id</th>\n",
              "      <th>SalePrice</th>\n",
              "    </tr>\n",
              "  </thead>\n",
              "  <tbody>\n",
              "    <tr>\n",
              "      <th>0</th>\n",
              "      <td>1461</td>\n",
              "      <td>114978.546991</td>\n",
              "    </tr>\n",
              "    <tr>\n",
              "      <th>1</th>\n",
              "      <td>1462</td>\n",
              "      <td>153038.485843</td>\n",
              "    </tr>\n",
              "    <tr>\n",
              "      <th>2</th>\n",
              "      <td>1463</td>\n",
              "      <td>178207.373247</td>\n",
              "    </tr>\n",
              "    <tr>\n",
              "      <th>3</th>\n",
              "      <td>1464</td>\n",
              "      <td>195864.434218</td>\n",
              "    </tr>\n",
              "    <tr>\n",
              "      <th>4</th>\n",
              "      <td>1465</td>\n",
              "      <td>188808.922790</td>\n",
              "    </tr>\n",
              "  </tbody>\n",
              "</table>\n",
              "</div>"
            ],
            "text/plain": [
              "     Id      SalePrice\n",
              "0  1461  114978.546991\n",
              "1  1462  153038.485843\n",
              "2  1463  178207.373247\n",
              "3  1464  195864.434218\n",
              "4  1465  188808.922790"
            ]
          },
          "metadata": {
            "tags": []
          },
          "execution_count": 221
        }
      ]
    },
    {
      "cell_type": "code",
      "metadata": {
        "id": "hWdmTlz3HMk1"
      },
      "source": [
        "sub_df.to_csv(\"/content/house_price/results.csv\", index= False)"
      ],
      "execution_count": null,
      "outputs": []
    },
    {
      "cell_type": "markdown",
      "metadata": {
        "id": "CfsywK-CJOAu"
      },
      "source": [
        "## 딥러닝"
      ]
    },
    {
      "cell_type": "code",
      "metadata": {
        "id": "osA7jJcUJPkK"
      },
      "source": [
        "## library\n",
        "from keras.models import Sequential\n",
        "from keras.layers import Dense\n",
        "from keras.callbacks import ModelCheckpoint, EarlyStopping\n",
        "import tensorflow as tf\n",
        "\n",
        "## seed 설정\n",
        "\n",
        "np.random.seed(121)\n",
        "tf.random.set_seed(121)"
      ],
      "execution_count": null,
      "outputs": []
    },
    {
      "cell_type": "code",
      "metadata": {
        "id": "ToQpwFeOLDbC"
      },
      "source": [
        "fpath = \"./model/house_price {epoch:03d}{val_loss:.3f}.h5\"\n",
        "checkpnt= ModelCheckpoint(filepath=fpath, monitor='val_loss',verbose=0, save_best_only=True)\n",
        "estop = EarlyStopping(monitor = 'val_loss', patience=75)\n"
      ],
      "execution_count": null,
      "outputs": []
    },
    {
      "cell_type": "code",
      "metadata": {
        "id": "-OK64NzrK2jQ"
      },
      "source": [
        "## 모델 만들기\n",
        "\n",
        "model = Sequential()\n",
        "model.add(Dense(128, input_dim = 79, activation = 'relu'))\n",
        "model.add(Dense(64,  activation = 'relu'))\n",
        "model.add(Dense(16,  activation = 'relu'))\n",
        "model.add(Dense(1))\n",
        "model.compile(loss= 'mean_squared_error',optimizer = 'adam', metrics= ['mse'])"
      ],
      "execution_count": null,
      "outputs": []
    },
    {
      "cell_type": "code",
      "metadata": {
        "colab": {
          "base_uri": "https://localhost:8080/"
        },
        "id": "keUqVtFrK47H",
        "outputId": "acc33501-6456-4f5e-b717-22cc7fdf70e1"
      },
      "source": [
        "res = model.fit(X_train,y_train, validation_split =0.1 , epochs= 1000\n",
        "          , callbacks = [checkpnt,estop]\n",
        "         )\n",
        "pred= model.predict(X_val)\n",
        "print(pred[:5])\n",
        "print(y_val[:5])\n",
        "\n",
        "eval = model.evaluate(X_val, y_val)\n",
        "print(f'loss:{eval[0]}  rmse::{np.sqrt(eval[1])}')"
      ],
      "execution_count": null,
      "outputs": [
        {
          "output_type": "stream",
          "text": [
            "Epoch 1/1000\n",
            "33/33 [==============================] - 1s 17ms/step - loss: 0.0330 - mse: 0.0330 - val_loss: 0.0429 - val_mse: 0.0429\n",
            "Epoch 2/1000\n",
            "33/33 [==============================] - 0s 4ms/step - loss: 0.0280 - mse: 0.0280 - val_loss: 0.1029 - val_mse: 0.1029\n",
            "Epoch 3/1000\n",
            "33/33 [==============================] - 0s 3ms/step - loss: 0.0327 - mse: 0.0327 - val_loss: 0.0452 - val_mse: 0.0452\n",
            "Epoch 4/1000\n",
            "33/33 [==============================] - 0s 3ms/step - loss: 0.0499 - mse: 0.0499 - val_loss: 0.0595 - val_mse: 0.0595\n",
            "Epoch 5/1000\n",
            "33/33 [==============================] - 0s 3ms/step - loss: 0.0427 - mse: 0.0427 - val_loss: 0.0568 - val_mse: 0.0568\n",
            "Epoch 6/1000\n",
            "33/33 [==============================] - 0s 3ms/step - loss: 0.0326 - mse: 0.0326 - val_loss: 0.1018 - val_mse: 0.1018\n",
            "Epoch 7/1000\n",
            "33/33 [==============================] - 0s 4ms/step - loss: 0.0496 - mse: 0.0496 - val_loss: 0.0602 - val_mse: 0.0602\n",
            "Epoch 8/1000\n",
            "33/33 [==============================] - 0s 3ms/step - loss: 0.0422 - mse: 0.0422 - val_loss: 0.0683 - val_mse: 0.0683\n",
            "Epoch 9/1000\n",
            "33/33 [==============================] - 0s 3ms/step - loss: 0.0686 - mse: 0.0686 - val_loss: 0.0435 - val_mse: 0.0435\n",
            "Epoch 10/1000\n",
            "33/33 [==============================] - 0s 3ms/step - loss: 0.0395 - mse: 0.0395 - val_loss: 0.0594 - val_mse: 0.0594\n",
            "Epoch 11/1000\n",
            "33/33 [==============================] - 0s 4ms/step - loss: 0.0336 - mse: 0.0336 - val_loss: 0.0425 - val_mse: 0.0425\n",
            "Epoch 12/1000\n",
            "33/33 [==============================] - 0s 3ms/step - loss: 0.0326 - mse: 0.0326 - val_loss: 0.0441 - val_mse: 0.0441\n",
            "Epoch 13/1000\n",
            "33/33 [==============================] - 0s 3ms/step - loss: 0.0254 - mse: 0.0254 - val_loss: 0.0403 - val_mse: 0.0403\n",
            "Epoch 14/1000\n",
            "33/33 [==============================] - 0s 3ms/step - loss: 0.0339 - mse: 0.0339 - val_loss: 0.0415 - val_mse: 0.0415\n",
            "Epoch 15/1000\n",
            "33/33 [==============================] - 0s 3ms/step - loss: 0.0392 - mse: 0.0392 - val_loss: 0.0413 - val_mse: 0.0413\n",
            "Epoch 16/1000\n",
            "33/33 [==============================] - 0s 3ms/step - loss: 0.0446 - mse: 0.0446 - val_loss: 0.0561 - val_mse: 0.0561\n",
            "Epoch 17/1000\n",
            "33/33 [==============================] - 0s 3ms/step - loss: 0.0436 - mse: 0.0436 - val_loss: 0.0444 - val_mse: 0.0444\n",
            "Epoch 18/1000\n",
            "33/33 [==============================] - 0s 3ms/step - loss: 0.0278 - mse: 0.0278 - val_loss: 0.0401 - val_mse: 0.0401\n",
            "Epoch 19/1000\n",
            "33/33 [==============================] - 0s 4ms/step - loss: 0.0325 - mse: 0.0325 - val_loss: 0.0411 - val_mse: 0.0411\n",
            "Epoch 20/1000\n",
            "33/33 [==============================] - 0s 3ms/step - loss: 0.0267 - mse: 0.0267 - val_loss: 0.0409 - val_mse: 0.0409\n",
            "Epoch 21/1000\n",
            "33/33 [==============================] - 0s 3ms/step - loss: 0.0440 - mse: 0.0440 - val_loss: 0.0684 - val_mse: 0.0684\n",
            "Epoch 22/1000\n",
            "33/33 [==============================] - 0s 3ms/step - loss: 0.0335 - mse: 0.0335 - val_loss: 0.0582 - val_mse: 0.0582\n",
            "Epoch 23/1000\n",
            "33/33 [==============================] - 0s 3ms/step - loss: 0.0306 - mse: 0.0306 - val_loss: 0.0672 - val_mse: 0.0672\n",
            "Epoch 24/1000\n",
            "33/33 [==============================] - 0s 4ms/step - loss: 0.0272 - mse: 0.0272 - val_loss: 0.0384 - val_mse: 0.0384\n",
            "Epoch 25/1000\n",
            "33/33 [==============================] - 0s 3ms/step - loss: 0.0307 - mse: 0.0307 - val_loss: 0.0423 - val_mse: 0.0423\n",
            "Epoch 26/1000\n",
            "33/33 [==============================] - 0s 3ms/step - loss: 0.0531 - mse: 0.0531 - val_loss: 0.0481 - val_mse: 0.0481\n",
            "Epoch 27/1000\n",
            "33/33 [==============================] - 0s 4ms/step - loss: 0.0328 - mse: 0.0328 - val_loss: 0.0534 - val_mse: 0.0534\n",
            "Epoch 28/1000\n",
            "33/33 [==============================] - 0s 4ms/step - loss: 0.0322 - mse: 0.0322 - val_loss: 0.0588 - val_mse: 0.0588\n",
            "Epoch 29/1000\n",
            "33/33 [==============================] - 0s 3ms/step - loss: 0.0355 - mse: 0.0355 - val_loss: 0.1532 - val_mse: 0.1532\n",
            "Epoch 30/1000\n",
            "33/33 [==============================] - 0s 3ms/step - loss: 0.0577 - mse: 0.0577 - val_loss: 0.0265 - val_mse: 0.0265\n",
            "Epoch 31/1000\n",
            "33/33 [==============================] - 0s 4ms/step - loss: 0.0298 - mse: 0.0298 - val_loss: 0.0542 - val_mse: 0.0542\n",
            "Epoch 32/1000\n",
            "33/33 [==============================] - 0s 4ms/step - loss: 0.0293 - mse: 0.0293 - val_loss: 0.0387 - val_mse: 0.0387\n",
            "Epoch 33/1000\n",
            "33/33 [==============================] - 0s 4ms/step - loss: 0.0435 - mse: 0.0435 - val_loss: 0.0575 - val_mse: 0.0575\n",
            "Epoch 34/1000\n",
            "33/33 [==============================] - 0s 3ms/step - loss: 0.0368 - mse: 0.0368 - val_loss: 0.0292 - val_mse: 0.0292\n",
            "Epoch 35/1000\n",
            "33/33 [==============================] - 0s 4ms/step - loss: 0.0367 - mse: 0.0367 - val_loss: 0.1115 - val_mse: 0.1115\n",
            "Epoch 36/1000\n",
            "33/33 [==============================] - 0s 4ms/step - loss: 0.0513 - mse: 0.0513 - val_loss: 0.0341 - val_mse: 0.0341\n",
            "Epoch 37/1000\n",
            "33/33 [==============================] - 0s 3ms/step - loss: 0.0332 - mse: 0.0332 - val_loss: 0.0279 - val_mse: 0.0279\n",
            "Epoch 38/1000\n",
            "33/33 [==============================] - 0s 3ms/step - loss: 0.0304 - mse: 0.0304 - val_loss: 0.0259 - val_mse: 0.0259\n",
            "Epoch 39/1000\n",
            "33/33 [==============================] - 0s 3ms/step - loss: 0.0313 - mse: 0.0313 - val_loss: 0.0365 - val_mse: 0.0365\n",
            "Epoch 40/1000\n",
            "33/33 [==============================] - 0s 3ms/step - loss: 0.0387 - mse: 0.0387 - val_loss: 0.0516 - val_mse: 0.0516\n",
            "Epoch 41/1000\n",
            "33/33 [==============================] - 0s 3ms/step - loss: 0.0317 - mse: 0.0317 - val_loss: 0.0410 - val_mse: 0.0410\n",
            "Epoch 42/1000\n",
            "33/33 [==============================] - 0s 3ms/step - loss: 0.0270 - mse: 0.0270 - val_loss: 0.0482 - val_mse: 0.0482\n",
            "Epoch 43/1000\n",
            "33/33 [==============================] - 0s 3ms/step - loss: 0.0310 - mse: 0.0310 - val_loss: 0.0623 - val_mse: 0.0623\n",
            "Epoch 44/1000\n",
            "33/33 [==============================] - 0s 4ms/step - loss: 0.0382 - mse: 0.0382 - val_loss: 0.0731 - val_mse: 0.0731\n",
            "Epoch 45/1000\n",
            "33/33 [==============================] - 0s 3ms/step - loss: 0.0422 - mse: 0.0422 - val_loss: 0.0392 - val_mse: 0.0392\n",
            "Epoch 46/1000\n",
            "33/33 [==============================] - 0s 3ms/step - loss: 0.0388 - mse: 0.0388 - val_loss: 0.0541 - val_mse: 0.0541\n",
            "Epoch 47/1000\n",
            "33/33 [==============================] - 0s 4ms/step - loss: 0.0289 - mse: 0.0289 - val_loss: 0.0610 - val_mse: 0.0610\n",
            "Epoch 48/1000\n",
            "33/33 [==============================] - 0s 3ms/step - loss: 0.0295 - mse: 0.0295 - val_loss: 0.0418 - val_mse: 0.0418\n",
            "Epoch 49/1000\n",
            "33/33 [==============================] - 0s 3ms/step - loss: 0.0279 - mse: 0.0279 - val_loss: 0.0428 - val_mse: 0.0428\n",
            "Epoch 50/1000\n",
            "33/33 [==============================] - 0s 3ms/step - loss: 0.0570 - mse: 0.0570 - val_loss: 0.1022 - val_mse: 0.1022\n",
            "Epoch 51/1000\n",
            "33/33 [==============================] - 0s 3ms/step - loss: 0.0392 - mse: 0.0392 - val_loss: 0.0392 - val_mse: 0.0392\n",
            "Epoch 52/1000\n",
            "33/33 [==============================] - 0s 3ms/step - loss: 0.0277 - mse: 0.0277 - val_loss: 0.0614 - val_mse: 0.0614\n",
            "Epoch 53/1000\n",
            "33/33 [==============================] - 0s 3ms/step - loss: 0.0426 - mse: 0.0426 - val_loss: 0.0431 - val_mse: 0.0431\n",
            "Epoch 54/1000\n",
            "33/33 [==============================] - 0s 3ms/step - loss: 0.0382 - mse: 0.0382 - val_loss: 0.0711 - val_mse: 0.0711\n",
            "Epoch 55/1000\n",
            "33/33 [==============================] - 0s 3ms/step - loss: 0.0289 - mse: 0.0289 - val_loss: 0.0433 - val_mse: 0.0433\n",
            "Epoch 56/1000\n",
            "33/33 [==============================] - 0s 3ms/step - loss: 0.0329 - mse: 0.0329 - val_loss: 0.0367 - val_mse: 0.0367\n",
            "Epoch 57/1000\n",
            "33/33 [==============================] - 0s 3ms/step - loss: 0.0289 - mse: 0.0289 - val_loss: 0.0375 - val_mse: 0.0375\n",
            "Epoch 58/1000\n",
            "33/33 [==============================] - 0s 3ms/step - loss: 0.0450 - mse: 0.0450 - val_loss: 0.0401 - val_mse: 0.0401\n",
            "Epoch 59/1000\n",
            "33/33 [==============================] - 0s 3ms/step - loss: 0.0283 - mse: 0.0283 - val_loss: 0.0499 - val_mse: 0.0499\n",
            "Epoch 60/1000\n",
            "33/33 [==============================] - 0s 4ms/step - loss: 0.0330 - mse: 0.0330 - val_loss: 0.1141 - val_mse: 0.1141\n",
            "Epoch 61/1000\n",
            "33/33 [==============================] - 0s 4ms/step - loss: 0.0808 - mse: 0.0808 - val_loss: 0.0409 - val_mse: 0.0409\n",
            "Epoch 62/1000\n",
            "33/33 [==============================] - 0s 4ms/step - loss: 0.0324 - mse: 0.0324 - val_loss: 0.0395 - val_mse: 0.0395\n",
            "Epoch 63/1000\n",
            "33/33 [==============================] - 0s 3ms/step - loss: 0.0362 - mse: 0.0362 - val_loss: 0.0429 - val_mse: 0.0429\n",
            "Epoch 64/1000\n",
            "33/33 [==============================] - 0s 3ms/step - loss: 0.0396 - mse: 0.0396 - val_loss: 0.0454 - val_mse: 0.0454\n",
            "Epoch 65/1000\n",
            "33/33 [==============================] - 0s 3ms/step - loss: 0.0449 - mse: 0.0449 - val_loss: 0.0633 - val_mse: 0.0633\n",
            "Epoch 66/1000\n",
            "33/33 [==============================] - 0s 3ms/step - loss: 0.0330 - mse: 0.0330 - val_loss: 0.0503 - val_mse: 0.0503\n",
            "Epoch 67/1000\n",
            "33/33 [==============================] - 0s 3ms/step - loss: 0.0336 - mse: 0.0336 - val_loss: 0.0509 - val_mse: 0.0509\n",
            "Epoch 68/1000\n",
            "33/33 [==============================] - 0s 4ms/step - loss: 0.0410 - mse: 0.0410 - val_loss: 0.0583 - val_mse: 0.0583\n",
            "Epoch 69/1000\n",
            "33/33 [==============================] - 0s 3ms/step - loss: 0.0332 - mse: 0.0332 - val_loss: 0.0361 - val_mse: 0.0361\n",
            "Epoch 70/1000\n",
            "33/33 [==============================] - 0s 4ms/step - loss: 0.0295 - mse: 0.0295 - val_loss: 0.0364 - val_mse: 0.0364\n",
            "Epoch 71/1000\n",
            "33/33 [==============================] - 0s 4ms/step - loss: 0.0330 - mse: 0.0330 - val_loss: 0.0381 - val_mse: 0.0381\n",
            "Epoch 72/1000\n",
            "33/33 [==============================] - 0s 4ms/step - loss: 0.0424 - mse: 0.0424 - val_loss: 0.0354 - val_mse: 0.0354\n",
            "Epoch 73/1000\n",
            "33/33 [==============================] - 0s 3ms/step - loss: 0.0270 - mse: 0.0270 - val_loss: 0.0523 - val_mse: 0.0523\n",
            "Epoch 74/1000\n",
            "33/33 [==============================] - 0s 3ms/step - loss: 0.0250 - mse: 0.0250 - val_loss: 0.0344 - val_mse: 0.0344\n",
            "Epoch 75/1000\n",
            "33/33 [==============================] - 0s 3ms/step - loss: 0.0278 - mse: 0.0278 - val_loss: 0.0340 - val_mse: 0.0340\n",
            "Epoch 76/1000\n",
            "33/33 [==============================] - 0s 3ms/step - loss: 0.0324 - mse: 0.0324 - val_loss: 0.0519 - val_mse: 0.0519\n",
            "Epoch 77/1000\n",
            "33/33 [==============================] - 0s 3ms/step - loss: 0.0543 - mse: 0.0543 - val_loss: 0.0495 - val_mse: 0.0495\n",
            "Epoch 78/1000\n",
            "33/33 [==============================] - 0s 3ms/step - loss: 0.0331 - mse: 0.0331 - val_loss: 0.0347 - val_mse: 0.0347\n",
            "Epoch 79/1000\n",
            "33/33 [==============================] - 0s 3ms/step - loss: 0.0299 - mse: 0.0299 - val_loss: 0.0409 - val_mse: 0.0409\n",
            "Epoch 80/1000\n",
            "33/33 [==============================] - 0s 3ms/step - loss: 0.0309 - mse: 0.0309 - val_loss: 0.0684 - val_mse: 0.0684\n",
            "Epoch 81/1000\n",
            "33/33 [==============================] - 0s 4ms/step - loss: 0.0461 - mse: 0.0461 - val_loss: 0.0864 - val_mse: 0.0864\n",
            "Epoch 82/1000\n",
            "33/33 [==============================] - 0s 3ms/step - loss: 0.0703 - mse: 0.0703 - val_loss: 0.0414 - val_mse: 0.0414\n",
            "Epoch 83/1000\n",
            "33/33 [==============================] - 0s 4ms/step - loss: 0.0325 - mse: 0.0325 - val_loss: 0.0382 - val_mse: 0.0382\n",
            "Epoch 84/1000\n",
            "33/33 [==============================] - 0s 4ms/step - loss: 0.0263 - mse: 0.0263 - val_loss: 0.0408 - val_mse: 0.0408\n",
            "Epoch 85/1000\n",
            "33/33 [==============================] - 0s 3ms/step - loss: 0.0329 - mse: 0.0329 - val_loss: 0.0422 - val_mse: 0.0422\n",
            "Epoch 86/1000\n",
            "33/33 [==============================] - 0s 3ms/step - loss: 0.0408 - mse: 0.0408 - val_loss: 0.0373 - val_mse: 0.0373\n",
            "Epoch 87/1000\n",
            "33/33 [==============================] - 0s 3ms/step - loss: 0.0273 - mse: 0.0273 - val_loss: 0.0395 - val_mse: 0.0395\n",
            "Epoch 88/1000\n",
            "33/33 [==============================] - 0s 3ms/step - loss: 0.0346 - mse: 0.0346 - val_loss: 0.0380 - val_mse: 0.0380\n",
            "Epoch 89/1000\n",
            "33/33 [==============================] - 0s 3ms/step - loss: 0.0319 - mse: 0.0319 - val_loss: 0.0345 - val_mse: 0.0345\n",
            "Epoch 90/1000\n",
            "33/33 [==============================] - 0s 3ms/step - loss: 0.0338 - mse: 0.0338 - val_loss: 0.0374 - val_mse: 0.0374\n",
            "Epoch 91/1000\n",
            "33/33 [==============================] - 0s 3ms/step - loss: 0.0286 - mse: 0.0286 - val_loss: 0.0764 - val_mse: 0.0764\n",
            "Epoch 92/1000\n",
            "33/33 [==============================] - 0s 3ms/step - loss: 0.0294 - mse: 0.0294 - val_loss: 0.0312 - val_mse: 0.0312\n",
            "Epoch 93/1000\n",
            "33/33 [==============================] - 0s 3ms/step - loss: 0.0249 - mse: 0.0249 - val_loss: 0.0556 - val_mse: 0.0556\n",
            "Epoch 94/1000\n",
            "33/33 [==============================] - 0s 3ms/step - loss: 0.0484 - mse: 0.0484 - val_loss: 0.0552 - val_mse: 0.0552\n",
            "Epoch 95/1000\n",
            "33/33 [==============================] - 0s 3ms/step - loss: 0.0528 - mse: 0.0528 - val_loss: 0.0698 - val_mse: 0.0698\n",
            "Epoch 96/1000\n",
            "33/33 [==============================] - 0s 3ms/step - loss: 0.0325 - mse: 0.0325 - val_loss: 0.0442 - val_mse: 0.0442\n",
            "Epoch 97/1000\n",
            "33/33 [==============================] - 0s 3ms/step - loss: 0.0303 - mse: 0.0303 - val_loss: 0.0409 - val_mse: 0.0409\n",
            "Epoch 98/1000\n",
            "33/33 [==============================] - 0s 3ms/step - loss: 0.0312 - mse: 0.0312 - val_loss: 0.0372 - val_mse: 0.0372\n",
            "Epoch 99/1000\n",
            "33/33 [==============================] - 0s 3ms/step - loss: 0.0325 - mse: 0.0325 - val_loss: 0.0336 - val_mse: 0.0336\n",
            "Epoch 100/1000\n",
            "33/33 [==============================] - 0s 3ms/step - loss: 0.0272 - mse: 0.0272 - val_loss: 0.0418 - val_mse: 0.0418\n",
            "Epoch 101/1000\n",
            "33/33 [==============================] - 0s 3ms/step - loss: 0.0322 - mse: 0.0322 - val_loss: 0.1168 - val_mse: 0.1168\n",
            "Epoch 102/1000\n",
            "33/33 [==============================] - 0s 3ms/step - loss: 0.0685 - mse: 0.0685 - val_loss: 0.0423 - val_mse: 0.0423\n",
            "Epoch 103/1000\n",
            "33/33 [==============================] - 0s 4ms/step - loss: 0.0377 - mse: 0.0377 - val_loss: 0.0792 - val_mse: 0.0792\n",
            "Epoch 104/1000\n",
            "33/33 [==============================] - 0s 4ms/step - loss: 0.0307 - mse: 0.0307 - val_loss: 0.0378 - val_mse: 0.0378\n",
            "Epoch 105/1000\n",
            "33/33 [==============================] - 0s 3ms/step - loss: 0.0290 - mse: 0.0290 - val_loss: 0.0362 - val_mse: 0.0362\n",
            "Epoch 106/1000\n",
            "33/33 [==============================] - 0s 4ms/step - loss: 0.0268 - mse: 0.0268 - val_loss: 0.0341 - val_mse: 0.0341\n",
            "Epoch 107/1000\n",
            "33/33 [==============================] - 0s 4ms/step - loss: 0.0347 - mse: 0.0347 - val_loss: 0.0606 - val_mse: 0.0606\n",
            "Epoch 108/1000\n",
            "33/33 [==============================] - 0s 3ms/step - loss: 0.0335 - mse: 0.0335 - val_loss: 0.0354 - val_mse: 0.0354\n",
            "Epoch 109/1000\n",
            "33/33 [==============================] - 0s 3ms/step - loss: 0.0340 - mse: 0.0340 - val_loss: 0.0405 - val_mse: 0.0405\n",
            "Epoch 110/1000\n",
            "33/33 [==============================] - 0s 3ms/step - loss: 0.0325 - mse: 0.0325 - val_loss: 0.0362 - val_mse: 0.0362\n",
            "Epoch 111/1000\n",
            "33/33 [==============================] - 0s 3ms/step - loss: 0.0351 - mse: 0.0351 - val_loss: 0.0874 - val_mse: 0.0874\n",
            "Epoch 112/1000\n",
            "33/33 [==============================] - 0s 4ms/step - loss: 0.0284 - mse: 0.0284 - val_loss: 0.0354 - val_mse: 0.0354\n",
            "Epoch 113/1000\n",
            "33/33 [==============================] - 0s 4ms/step - loss: 0.0298 - mse: 0.0298 - val_loss: 0.0432 - val_mse: 0.0432\n",
            "[[11.519583]\n",
            " [12.568302]\n",
            " [11.715428]\n",
            " [12.681642]\n",
            " [11.878981]]\n",
            "17     11.407576\n",
            "765    12.484208\n",
            "179    11.512935\n",
            "408    12.542548\n",
            "890    11.719134\n",
            "Name: SalePrice, dtype: float64\n",
            "10/10 [==============================] - 0s 2ms/step - loss: 0.0255 - mse: 0.0255\n",
            "loss:0.025496074929833412  rmse::0.15967490388233654\n"
          ],
          "name": "stdout"
        }
      ]
    },
    {
      "cell_type": "code",
      "metadata": {
        "colab": {
          "base_uri": "https://localhost:8080/",
          "height": 336
        },
        "id": "hsegzu4XmiQB",
        "outputId": "4b69d5d1-68d4-4dc3-c4e3-943569a3cf32"
      },
      "source": [
        "plt.figure(figsize=(8,5))\n",
        "plt.plot(res.history['loss'], label='loss')\n",
        "plt.plot(res.history['val_loss'], label='vloss')\n",
        "plt.title(\"loss\")\n",
        "plt.legend()\n",
        "plt.show()"
      ],
      "execution_count": null,
      "outputs": [
        {
          "output_type": "display_data",
          "data": {
            "image/png": "[encoded data removed]",
            "text/plain": [
              "<Figure size 576x360 with 1 Axes>"
            ]
          },
          "metadata": {
            "tags": [],
            "needs_background": "light"
          }
        }
      ]
    },
    {
      "cell_type": "code",
      "metadata": {
        "id": "MEbVcfEnXCej"
      },
      "source": [
        "from keras.models import save_model, load_model\n",
        "model.save(\"content/model/rmse 0.138.h5\")"
      ],
      "execution_count": null,
      "outputs": []
    },
    {
      "cell_type": "code",
      "metadata": {
        "colab": {
          "base_uri": "https://localhost:8080/"
        },
        "id": "kyvDHTVwLBwn",
        "outputId": "f5827bc8-145a-4b02-d20a-c8e556a1fb13"
      },
      "source": [
        "import h5py\n",
        "fpath = \"content/model/rmser 0.12.h5\"\n",
        "\n",
        "\n",
        "from keras.models import save_model, load_model\n",
        "reload_model = load_model(fpath)\n",
        "pred_re= reload_model.predict(X_val).flatten()\n",
        "\n",
        "print(pred_re[:5])\n",
        "print(y_val[:5])\n",
        "\n",
        "eval = reload_model.evaluate(X_val, y_val)\n",
        "print(f'loss:{eval[0]}  rmse::{np.sqrt(eval[1])}')"
      ],
      "execution_count": null,
      "outputs": [
        {
          "output_type": "stream",
          "text": [
            "[11.462245 12.519664 11.527161 12.523747 11.650998]\n",
            "17     11.407576\n",
            "765    12.484208\n",
            "179    11.512935\n",
            "408    12.542548\n",
            "890    11.719134\n",
            "Name: SalePrice, dtype: float64\n",
            "10/10 [==============================] - 0s 1ms/step - loss: 0.0161 - mse: 0.0161\n",
            "loss:0.016078703105449677  rmse::0.1268018261124408\n"
          ],
          "name": "stdout"
        }
      ]
    },
    {
      "cell_type": "code",
      "metadata": {
        "id": "KU5NoSsCM3kv"
      },
      "source": [
        "# import os\n",
        "# dir = \"/content/model\"\n",
        "\n",
        "# file_list= os.listdir(dir)\n",
        "# for file in file_list:\n",
        "#   file_path = dir+\"/\"+file\n",
        "#   print(file.split(\".\")[-2])\n",
        "\n",
        "#   if (int(file.split(\".\")[-2]) == 0)  or (int(file.split(\".\")[-2]) > 30):\n",
        "#     try:\n",
        "#       os.remove(file_path)\n",
        "#     except:\n",
        "#       continue\n"
      ],
      "execution_count": null,
      "outputs": []
    },
    {
      "cell_type": "code",
      "metadata": {
        "colab": {
          "base_uri": "https://localhost:8080/"
        },
        "id": "AGEInC-XRMFB",
        "outputId": "83e0e1da-e0d3-419f-ad94-20c9355408f8"
      },
      "source": [
        "## test \n",
        "test_pred = reload_model.predict(test_df)\n",
        "pred_for_submit = np.expm1(test_pred)\n",
        "sub_df[\"SalePrice\"] = pred_for_submit.reshape(-1,1)\n"
      ],
      "execution_count": null,
      "outputs": [
        {
          "output_type": "execute_result",
          "data": {
            "text/plain": [
              "(1459, 2)"
            ]
          },
          "metadata": {
            "tags": []
          },
          "execution_count": 269
        }
      ]
    },
    {
      "cell_type": "code",
      "metadata": {
        "id": "Y-v24G6morvZ"
      },
      "source": [
        "sub_df.to_csv(\"/content/house_price/results0.12.csv\")"
      ],
      "execution_count": null,
      "outputs": []
    },
    {
      "cell_type": "code",
      "metadata": {
        "id": "lBSC1BVJovkv"
      },
      "source": [
        ""
      ],
      "execution_count": null,
      "outputs": []
    }
  ]
}